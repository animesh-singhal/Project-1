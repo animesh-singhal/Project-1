{
 "cells": [
  {
   "cell_type": "markdown",
   "metadata": {},
   "source": [
    "# Self-Driving Car Engineer Nanodegree\n",
    "\n",
    "\n",
    "## Project: **Finding Lane Lines on the Road** \n",
    "***\n",
    "In this project, you will use the tools you learned about in the lesson to identify lane lines on the road.  You can develop your pipeline on a series of individual images, and later apply the result to a video stream (really just a series of images). Check out the video clip \"raw-lines-example.mp4\" (also contained in this repository) to see what the output should look like after using the helper functions below. \n",
    "\n",
    "Once you have a result that looks roughly like \"raw-lines-example.mp4\", you'll need to get creative and try to average and/or extrapolate the line segments you've detected to map out the full extent of the lane lines.  You can see an example of the result you're going for in the video \"P1_example.mp4\".  Ultimately, you would like to draw just one line for the left side of the lane, and one for the right.\n",
    "\n",
    "In addition to implementing code, there is a brief writeup to complete. The writeup should be completed in a separate file, which can be either a markdown file or a pdf document. There is a [write up template](https://github.com/udacity/CarND-LaneLines-P1/blob/master/writeup_template.md) that can be used to guide the writing process. Completing both the code in the Ipython notebook and the writeup template will cover all of the [rubric points](https://review.udacity.com/#!/rubrics/322/view) for this project.\n",
    "\n",
    "---\n",
    "Let's have a look at our first image called 'test_images/solidWhiteRight.jpg'.  Run the 2 cells below (hit Shift-Enter or the \"play\" button above) to display the image.\n",
    "\n",
    "**Note: If, at any point, you encounter frozen display windows or other confounding issues, you can always start again with a clean slate by going to the \"Kernel\" menu above and selecting \"Restart & Clear Output\".**\n",
    "\n",
    "---"
   ]
  },
  {
   "cell_type": "markdown",
   "metadata": {},
   "source": [
    "**The tools you have are color selection, region of interest selection, grayscaling, Gaussian smoothing, Canny Edge Detection and Hough Tranform line detection.  You  are also free to explore and try other techniques that were not presented in the lesson.  Your goal is piece together a pipeline to detect the line segments in the image, then average/extrapolate them and draw them onto the image for display (as below).  Once you have a working pipeline, try it out on the video stream below.**\n",
    "\n",
    "---\n",
    "\n",
    "<figure>\n",
    " <img src=\"examples/line-segments-example.jpg\" width=\"380\" alt=\"Combined Image\" />\n",
    " <figcaption>\n",
    " <p></p> \n",
    " <p style=\"text-align: center;\"> Your output should look something like this (above) after detecting line segments using the helper functions below </p> \n",
    " </figcaption>\n",
    "</figure>\n",
    " <p></p> \n",
    "<figure>\n",
    " <img src=\"examples/laneLines_thirdPass.jpg\" width=\"380\" alt=\"Combined Image\" />\n",
    " <figcaption>\n",
    " <p></p> \n",
    " <p style=\"text-align: center;\"> Your goal is to connect/average/extrapolate line segments to get output like this</p> \n",
    " </figcaption>\n",
    "</figure>"
   ]
  },
  {
   "cell_type": "markdown",
   "metadata": {},
   "source": [
    "**Run the cell below to import some packages.  If you get an `import error` for a package you've already installed, try changing your kernel (select the Kernel menu above --> Change Kernel).  Still have problems?  Try relaunching Jupyter Notebook from the terminal prompt.  Also, consult the forums for more troubleshooting tips.**  "
   ]
  },
  {
   "cell_type": "markdown",
   "metadata": {},
   "source": [
    "## Import Packages"
   ]
  },
  {
   "cell_type": "code",
   "execution_count": null,
   "metadata": {},
   "outputs": [],
   "source": [
    "#importing some useful packages\n",
    "import matplotlib.pyplot as plt\n",
    "import matplotlib.image as mpimg\n",
    "import numpy as np\n",
    "import cv2\n",
    "%matplotlib inline      #It renders figures in a notebook (instead of displaying a dump of the figure object)."
   ]
  },
  {
   "cell_type": "markdown",
   "metadata": {},
   "source": [
    "## Read in an Image"
   ]
  },
  {
   "cell_type": "code",
   "execution_count": null,
   "metadata": {},
   "outputs": [],
   "source": [
    "#reading in an image\n",
    "image = mpimg.imread('test_images/solidWhiteRight.jpg')\n",
    "    \n",
    "#printing out some stats and plotting\n",
    "print('This image is:', type(image), 'with dimensions:', image.shape)\n",
    "plt.imshow(image)  # if you wanted to show a single color channel image called 'gray', for example, call as plt.imshow(gray, cmap='gray')"
   ]
  },
  {
   "cell_type": "markdown",
   "metadata": {},
   "source": [
    "## Ideas for Lane Detection Pipeline"
   ]
  },
  {
   "cell_type": "markdown",
   "metadata": {},
   "source": [
    "**Some OpenCV functions (beyond those introduced in the lesson) that might be useful for this project are:**\n",
    "\n",
    "`cv2.inRange()` for color selection  \n",
    "`cv2.fillPoly()` for regions selection  \n",
    "`cv2.line()` to draw lines on an image given endpoints  \n",
    "`cv2.addWeighted()` to coadd / overlay two images  \n",
    "`cv2.cvtColor()` to grayscale or change color  \n",
    "`cv2.imwrite()` to output images to file  \n",
    "`cv2.bitwise_and()` to apply a mask to an image\n",
    "\n",
    "**Check out the OpenCV documentation to learn about these and discover even more awesome functionality!**"
   ]
  },
  {
   "cell_type": "markdown",
   "metadata": {},
   "source": [
    "## Helper Functions"
   ]
  },
  {
   "cell_type": "markdown",
   "metadata": {},
   "source": [
    "Below are some helper functions to help get you started. They should look familiar from the lesson!"
   ]
  },
  {
   "cell_type": "code",
   "execution_count": null,
   "metadata": {},
   "outputs": [],
   "source": [
    "import math\n",
    "\n",
    "def grayscale(img):\n",
    "    \"\"\"Applies the Grayscale transform\n",
    "    This will return an image with only one color channel\n",
    "    but NOTE: to see the returned image as grayscale\n",
    "    (assuming your grayscaled image is called 'gray')\n",
    "    you should call plt.imshow(gray, cmap='gray')\"\"\"\n",
    "    return cv2.cvtColor(img, cv2.COLOR_RGB2GRAY)\n",
    "    # Or use BGR2GRAY if you read an image with cv2.imread()\n",
    "    # return cv2.cvtColor(img, cv2.COLOR_BGR2GRAY)\n",
    "    \n",
    "def canny(img, low_threshold, high_threshold):\n",
    "    \"\"\"Applies the Canny transform\"\"\"\n",
    "    return cv2.Canny(img, low_threshold, high_threshold)\n",
    "\n",
    "def gaussian_blur(img, kernel_size):\n",
    "    \"\"\"Applies a Gaussian Noise kernel\"\"\"\n",
    "    return cv2.GaussianBlur(img, (kernel_size, kernel_size), 0)\n",
    "\n",
    "def region_of_interest(img, vertices):\n",
    "    \"\"\"\n",
    "    Applies an image mask.\n",
    "    \n",
    "    Only keeps the region of the image defined by the polygon\n",
    "    formed from `vertices`. The rest of the image is set to black.\n",
    "    `vertices` should be a numpy array of integer points.\n",
    "    \"\"\"\n",
    "    #defining a blank mask to start with\n",
    "    mask = np.zeros_like(img)   \n",
    "    \n",
    "    #defining a 3 channel or 1 channel color to fill the mask with depending on the input image\n",
    "    if len(img.shape) > 2:\n",
    "        channel_count = img.shape[2]  # i.e. 3 or 4 depending on your image\n",
    "        ignore_mask_color = (255,) * channel_count\n",
    "    else:\n",
    "        ignore_mask_color = 255\n",
    "        \n",
    "    #filling pixels inside the polygon defined by \"vertices\" with the fill color    \n",
    "    cv2.fillPoly(mask, vertices, ignore_mask_color)\n",
    "    \n",
    "    #returning the image only where mask pixels are nonzero\n",
    "    masked_image = cv2.bitwise_and(img, mask)\n",
    "    return masked_image\n",
    "\n",
    "\n",
    "def draw_lines(img, lines, color=[255, 0, 0], thickness=2):\n",
    "    \"\"\"\n",
    "    NOTE: this is the function you might want to use as a starting point once you want to \n",
    "    average/extrapolate the line segments you detect to map out the full\n",
    "    extent of the lane (going from the result shown in raw-lines-example.mp4\n",
    "    to that shown in P1_example.mp4).  \n",
    "    \n",
    "    Think about things like separating line segments by their \n",
    "    slope ((y2-y1)/(x2-x1)) to decide which segments are part of the left\n",
    "    line vs. the right line.  Then, you can average the position of each of \n",
    "    the lines and extrapolate to the top and bottom of the lane.\n",
    "    \n",
    "    This function draws `lines` with `color` and `thickness`.    \n",
    "    Lines are drawn on the image inplace (mutates the image).\n",
    "    If you want to make the lines semi-transparent, think about combining\n",
    "    this function with the weighted_img() function below\n",
    "    \"\"\"\n",
    "    for line in lines:\n",
    "        for x1,y1,x2,y2 in line:\n",
    "            cv2.line(img, (x1, y1), (x2, y2), color, thickness)\n",
    "\n",
    "def hough_lines(img, rho, theta, threshold, min_line_len, max_line_gap):\n",
    "    \"\"\"\n",
    "    `img` should be the output of a Canny transform.\n",
    "        \n",
    "    Returns an image with hough lines drawn.\n",
    "    \"\"\"\n",
    "    lines = cv2.HoughLinesP(img, rho, theta, threshold, np.array([]), minLineLength=min_line_len, maxLineGap=max_line_gap)\n",
    "    line_img = np.zeros((img.shape[0], img.shape[1], 3), dtype=np.uint8)\n",
    "    draw_lines(line_img, lines)\n",
    "    return line_img\n",
    "\n",
    "# Python 3 has support for cool math symbols.\n",
    "\n",
    "def weighted_img(img, initial_img, α=0.8, β=1., γ=0.):\n",
    "    \"\"\"\n",
    "    `img` is the output of the hough_lines(), An image with lines drawn on it.\n",
    "    Should be a blank image (all black) with lines drawn on it.\n",
    "    \n",
    "    `initial_img` should be the image before any processing.\n",
    "    \n",
    "    The result image is computed as follows:\n",
    "    \n",
    "    initial_img * α + img * β + γ\n",
    "    NOTE: initial_img and img must be the same shape!\n",
    "    \"\"\"\n",
    "    return cv2.addWeighted(initial_img, α, img, β, γ)"
   ]
  },
  {
   "cell_type": "markdown",
   "metadata": {},
   "source": [
    "## Test Images\n",
    "\n",
    "Build your pipeline to work on the images in the directory \"test_images\"  \n",
    "**You should make sure your pipeline works well on these images before you try the videos.**"
   ]
  },
  {
   "cell_type": "code",
   "execution_count": null,
   "metadata": {},
   "outputs": [],
   "source": [
    "import os\n",
    "os.listdir(\"test_images/\")"
   ]
  },
  {
   "cell_type": "markdown",
   "metadata": {},
   "source": [
    "## Build a Lane Finding Pipeline\n",
    "\n"
   ]
  },
  {
   "cell_type": "markdown",
   "metadata": {},
   "source": [
    "Build the pipeline and run your solution on all test_images. Make copies into the `test_images_output` directory, and you can use the images in your writeup report.\n",
    "\n",
    "Try tuning the various parameters, especially the low and high Canny thresholds as well as the Hough lines parameters."
   ]
  },
  {
   "cell_type": "code",
   "execution_count": 19,
   "metadata": {},
   "outputs": [
    {
     "name": "stdout",
     "output_type": "stream",
     "text": [
      "This image is: <class 'numpy.ndarray'> with dimensions: (540, 960, 3)\n",
      "-0.5597964376590331\n"
     ]
    },
    {
     "data": {
      "text/plain": [
       "<matplotlib.image.AxesImage at 0x16806be0640>"
      ]
     },
     "execution_count": 19,
     "metadata": {},
     "output_type": "execute_result"
    },
    {
     "data": {
      "image/png": "[encoded data removed]",
      "text/plain": [
       "<Figure size 432x288 with 1 Axes>"
      ]
     },
     "metadata": {
      "needs_background": "light"
     },
     "output_type": "display_data"
    }
   ],
   "source": [
    "# TODO: Build your pipeline that will draw lane lines on the test_images\n",
    "# then save them to the test_images_output directory.\n",
    "\n",
    "import matplotlib.pyplot as plt\n",
    "import matplotlib.image as mpimg\n",
    "import numpy as np\n",
    "import cv2\n",
    "\n",
    "#drawing static image in our notebook (standard solution to add plots to Jupyter notebook)\n",
    "%matplotlib inline\n",
    "\n",
    "\n",
    "def read_image():\n",
    "    img = mpimg.imread('test_images/solidWhiteRight.jpg')\n",
    "    print('This image is:', type(img), 'with dimensions:', img.shape)\n",
    "    return img  \n",
    "\n",
    "def grayscale(img):\n",
    "    \n",
    "    return cv2.cvtColor(img, cv2.COLOR_RGB2GRAY)\n",
    "    #using RGB to gray because image has been imported using mpimg.imread (use BGR in case you used cv2.imread)\n",
    "    \"\"\"NOTE: to see the returned image as grayscale\n",
    "    (assuming your grayscaled image is called 'gray')\n",
    "    you should call plt.imshow(gray, cmap='gray')\"\"\"\n",
    "    \n",
    "def canny(img, low_threshold, high_threshold):\n",
    "    \"\"\"Applies the Canny transform\"\"\"\n",
    "    return cv2.Canny(img, low_threshold, high_threshold)\n",
    "\n",
    "def gaussian_blur(img, kernel_size):\n",
    "    \"\"\"Applies a Gaussian Noise kernel\"\"\"\n",
    "    return cv2.GaussianBlur(img, (kernel_size, kernel_size), 0)\n",
    "\n",
    "def region_of_interest(img, vertices):\n",
    "    \"\"\"\n",
    "    Applies an image mask.\n",
    "    \n",
    "    Only keeps the region of the image defined by the polygon\n",
    "    formed from `vertices`. The rest of the image is set to black.\n",
    "    `vertices` should be a numpy array of integer points.\n",
    "    \"\"\"\n",
    "    #defining a blank mask to start with\n",
    "    mask = np.zeros_like(img)   \n",
    "    \n",
    "    #defining a 3 channel or 1 channel color to fill the mask with depending on the input image\n",
    "    if len(img.shape) > 2:\n",
    "        channel_count = img.shape[2]  # i.e. 3 or 4 depending on your image\n",
    "        ignore_mask_color = (255,) * channel_count\n",
    "    else:\n",
    "        ignore_mask_color = 255\n",
    "        \n",
    "    #filling pixels inside the polygon defined by \"vertices\" with the fill color    \n",
    "    cv2.fillPoly(mask, vertices, ignore_mask_color)\n",
    "    \n",
    "    #returning the image only where mask pixels are nonzero\n",
    "    masked_image = cv2.bitwise_and(img, mask)\n",
    "    return masked_image    \n",
    "\n",
    "def hough_lines(img, rho, theta, threshold, min_line_len, max_line_gap):\n",
    "    \"\"\"\n",
    "    `img` should be the output of a Canny transform.\n",
    "        \n",
    "    Returns an image with hough lines drawn.\n",
    "    \"\"\"\n",
    "    lines = cv2.HoughLinesP(img, rho, theta, threshold, np.array([]), minLineLength=min_line_len, maxLineGap=max_line_gap)\n",
    "    line_img = np.zeros((img.shape[0], img.shape[1], 3), dtype=np.uint8)       \n",
    "    draw_lines(line_img, lines)\n",
    "    #print(lines[0][0][2])    \n",
    "    return line_img\n",
    "\n",
    "def draw_lines(img, lines, color=[255, 0, 0], thickness=6):\n",
    "    \"\"\"\n",
    "    This function draws `lines` with `color` and `thickness`.    \n",
    "    Lines are drawn on the image inplace (mutates the image).\n",
    "    \"\"\"\n",
    "    for line in lines:\n",
    "        for x1,y1,x2,y2 in line:\n",
    "            cv2.line(img, (x1, y1), (x2, y2), color, thickness)\n",
    "\n",
    "\n",
    "\n",
    "\"\"\"Reading in an image\n",
    "Input the image location in the function defined at the top\"\"\"\n",
    "image = read_image()\n",
    "#plt.imshow(image)   \"\"\"Test to check if image loaded properly\"\"\"\n",
    "        \n",
    "\"\"\"Convert image to a grayscale image named gray_img\"\"\"\n",
    "gray_img = grayscale(image) \n",
    "#plt.imshow(gray_img, cmap='gray') \n",
    "\n",
    "\"\"\"Apply Gaussian filter before applying canny function\"\"\"\n",
    "filtered_gray_img=gaussian_blur(gray_img,5)\n",
    "\n",
    "\"\"\"Apply canny to get pixels at the gradient of color intensity\"\"\"\n",
    "canny_img = canny(filtered_gray_img,50,150)\n",
    "#plt.imshow(canny_img,cmap='gray')   \n",
    "\n",
    "\"\"\"Apply mask: We'll keep only the part ocupied by lane in front of the vehicle in the image\n",
    "      Assumption: Camera is mounted at the front of the vehicle\"\"\"\n",
    "\n",
    "# (1) Add vertices. Each coordinate tuple should be of the form (x,y). Origin is at the top left of the image\n",
    "vertices=np.array([[(60,540),(453,320),(523,320),(920,540)]],dtype=np.int32)\n",
    "\n",
    "print((320-540)/(453-60))\n",
    "\n",
    "# (2) Apply mask on the image and ONLY keep the region formed by the above polygon\n",
    "roi_img=region_of_interest(canny_img,vertices)\n",
    "#plt.imshow(roi_img,cmap='gray')   \n",
    "\n",
    "\"\"\"Apply Hough Transform\"\"\"\n",
    "line_img=hough_lines(roi_img,2,np.pi/180,50,5,10)\n",
    "plt.imshow(line_img)\n",
    "\n",
    "combo=cv2.addWeighted(image,1,line_img,1,0)\n",
    "plt.imshow(combo)\n"
   ]
  },
  {
   "cell_type": "markdown",
   "metadata": {},
   "source": [
    "## Test on Videos\n",
    "\n",
    "You know what's cooler than drawing lanes over images? Drawing lanes over video!\n",
    "\n",
    "We can test our solution on two provided videos:\n",
    "\n",
    "`solidWhiteRight.mp4`\n",
    "\n",
    "`solidYellowLeft.mp4`\n",
    "\n",
    "**Note: if you get an import error when you run the next cell, try changing your kernel (select the Kernel menu above --> Change Kernel). Still have problems? Try relaunching Jupyter Notebook from the terminal prompt. Also, consult the forums for more troubleshooting tips.**\n",
    "\n",
    "**If you get an error that looks like this:**\n",
    "```\n",
    "NeedDownloadError: Need ffmpeg exe. \n",
    "You can download it by calling: \n",
    "imageio.plugins.ffmpeg.download()\n",
    "```\n",
    "**Follow the instructions in the error message and check out [this forum post](https://discussions.udacity.com/t/project-error-of-test-on-videos/274082) for more troubleshooting tips across operating systems.**"
   ]
  },
  {
   "cell_type": "code",
   "execution_count": 1,
   "metadata": {},
   "outputs": [],
   "source": [
    "# Import everything needed to edit/save/watch video clips\n",
    "from moviepy.editor import VideoFileClip\n",
    "from IPython.display import HTML"
   ]
  },
  {
   "cell_type": "code",
   "execution_count": 9,
   "metadata": {},
   "outputs": [],
   "source": [
    "def process_image(image):\n",
    "    # NOTE: The output you return should be a color image (3 channel) for processing video below\n",
    "    # TODO: put your pipeline here,\n",
    "    # you should return the final output (image where lines are drawn on lanes)\n",
    "\n",
    "    \n",
    "    import matplotlib.pyplot as plt\n",
    "    import matplotlib.image as mpimg\n",
    "    import numpy as np\n",
    "    import cv2\n",
    "    import statistics\n",
    "\n",
    "    #drawing static image in our notebook (standard solution to add plots to Jupyter notebook)\n",
    "    %matplotlib inline\n",
    "    #you can keep toggling between this and %matplotlib notebook to track coordinates of pixels in the image\n",
    "\n",
    "    \"\"\"\n",
    "    def read_image():\n",
    "        img = mpimg.imread('test_images/solidWhiteRight.jpg')\n",
    "        print('This image is:', type(img), 'with dimensions:', img.shape)\n",
    "        return img  \n",
    "    \"\"\"\n",
    "\n",
    "    def grayscale(img):\n",
    "\n",
    "        return cv2.cvtColor(img, cv2.COLOR_RGB2GRAY)\n",
    "        #using RGB to gray because image has been imported using mpimg.imread (use BGR in case you used cv2.imread)\n",
    "        \"\"\"NOTE: to see the returned image as grayscale\n",
    "        (assuming your grayscaled image is called 'gray')\n",
    "        you should call plt.imshow(gray, cmap='gray')\"\"\"\n",
    "\n",
    "    def canny(img, low_threshold, high_threshold):\n",
    "        \"\"\"Applies the Canny transform\"\"\"\n",
    "        return cv2.Canny(img, low_threshold, high_threshold)\n",
    "\n",
    "    def gaussian_blur(img, kernel_size):\n",
    "        \"\"\"Applies a Gaussian Noise kernel\"\"\"\n",
    "        return cv2.GaussianBlur(img, (kernel_size, kernel_size), 0)\n",
    "\n",
    "    def region_of_interest(img, vertices):\n",
    "        \"\"\"\n",
    "        Applies an image mask.\n",
    "\n",
    "        Only keeps the region of the image defined by the polygon\n",
    "        formed from `vertices`. The rest of the image is set to black.\n",
    "        `vertices` should be a numpy array of integer points.\n",
    "        \"\"\"\n",
    "        #defining a blank mask to start with\n",
    "        mask = np.zeros_like(img)   \n",
    "\n",
    "        #defining a 3 channel or 1 channel color to fill the mask with depending on the input image\n",
    "        if len(img.shape) > 2:\n",
    "            channel_count = img.shape[2]  # i.e. 3 or 4 depending on your image\n",
    "            ignore_mask_color = (255,) * channel_count\n",
    "        else:\n",
    "            ignore_mask_color = 255\n",
    "\n",
    "        #filling pixels inside the polygon defined by \"vertices\" with the fill color    \n",
    "        cv2.fillPoly(mask, vertices, ignore_mask_color)\n",
    "\n",
    "        #returning the image only where mask pixels are nonzero\n",
    "        masked_image = cv2.bitwise_and(img, mask)\n",
    "        return masked_image    \n",
    "\n",
    "    def hough_lines(img, rho, theta, threshold, min_line_len, max_line_gap):\n",
    "        \"\"\"\n",
    "        `img` should be the output of a Canny transform.\n",
    "\n",
    "        Returns an image with hough lines drawn.\n",
    "        \"\"\"\n",
    "        global lines\n",
    "        lines = cv2.HoughLinesP(img, rho, theta, threshold, np.array([]), minLineLength=min_line_len, maxLineGap=max_line_gap)\n",
    "        line_img = np.zeros((img.shape[0], img.shape[1], 3), dtype=np.uint8)       \n",
    "        draw_lines(line_img, lines)\n",
    "        #print(lines[0][0][2])    \n",
    "        return line_img\n",
    "\n",
    "    def draw_lines(img, lines, color=[255, 0, 0], thickness=2):\n",
    "        \"\"\"\n",
    "        This function draws `lines` with `color` and `thickness`.    \n",
    "        Lines are drawn on the image inplace (mutates the image).\n",
    "        \"\"\"\n",
    "        for line in lines:\n",
    "            for x1,y1,x2,y2 in line:\n",
    "                cv2.line(img, (x1, y1), (x2, y2), color, thickness)\n",
    "\n",
    "\n",
    "    \"\"\"Reading in an image\n",
    "    Input the image location in the function defined at the top\"\"\"\n",
    "    #image = read_image()\n",
    "    #plt.imshow(image)   \"\"\"Test to check if image loaded properly\"\"\"\n",
    "\n",
    "    \"\"\"Convert image to a grayscale image named gray_img\"\"\"\n",
    "    gray_img = grayscale(image) \n",
    "    #plt.imshow(gray_img, cmap='gray') \n",
    "\n",
    "    \"\"\"Apply Gaussian filter before applying canny function\"\"\"\n",
    "    filtered_gray_img=gaussian_blur(gray_img,5)\n",
    "\n",
    "    \"\"\"Apply canny to get pixels at the gradient of color intensity\"\"\"\n",
    "    canny_img = canny(filtered_gray_img,50,150)\n",
    "    #plt.imshow(canny_img,cmap='gray')   \n",
    "\n",
    "    \"\"\"Apply mask: We'll keep only the part ocupied by lane in front of the vehicle in the image\n",
    "          Assumption: Camera is mounted at the front of the vehicle\"\"\"\n",
    "\n",
    "    # (1) Add vertices. Each coordinate tuple should be of the form (x,y). Origin is at the top left of the image\n",
    "    #vertices=np.array([[(60,540),(453,320),(523,320),(920,540)]],dtype=np.int32)\n",
    "    vertices=np.array([[((60/960)*image.shape[1],(540/540)*image.shape[0]),((453/960)*image.shape[1],(320/540)*image.shape[0]),((523/960)*image.shape[1],(320/540)*image.shape[0]),((920/960)*image.shape[1],(540/540)*image.shape[0])]],dtype=np.int32)\n",
    "\n",
    "    # (2) Apply mask on the image and ONLY keep the region formed by the above polygon\n",
    "    roi_img=region_of_interest(canny_img,vertices)\n",
    "    #plt.imshow(roi_img,cmap='gray')   \n",
    "\n",
    "    \"\"\"Apply Hough Transform\"\"\"\n",
    "    hough_line_img=hough_lines(roi_img,2,np.pi/180,50,5,10)\n",
    "    #plt.imshow(hough_line_img)\n",
    "\n",
    "\n",
    "    \"\"\"Equation of line: y=mx+c (m = slope, c = y intercept)\"\"\"\n",
    "\n",
    "    \"\"\"We want to draw 2 lines from the top part of our region of interest to the bottom edge of the region. \n",
    "    To do that, we'll require the coordinates of the top most point of lines and slope of the line\"\"\"\n",
    "\n",
    "\n",
    "    \"First, we'll find a ALLOWED range for the slope of our lines to ignore randomly oriented lines that come by mistake\"\n",
    "\n",
    "    #finding the slope of the sides of our trapezium. \n",
    "    #We need to remember viewing the cartesian plane from top left corner\n",
    "    slope_left_edge= (vertices[0][1][1]-vertices[0][0][1])/(vertices[0][1][0]-vertices[0][0][0])\n",
    "    slope_right_edge= (vertices[0][2][1]-vertices[0][3][1])/(vertices[0][2][0]-vertices[0][3][0])\n",
    "    #result: -0.54 and 0.55 respectively\n",
    "    # arctan(0.55)=30 degrees. The slope of lanes are steeper than our polygon boundary and should be near 45 degrees(roughly).  \n",
    "    #So m should lie between 2.144 and 0.466 (corresponding to inverse of 65 and 25 degrees) \n",
    "\n",
    "\n",
    "    \"\"\"Task:1- Finding average slope of lines on the left side and right side of the lane\"\"\"\n",
    "    \"\"\"Task:2- Taking intersection of all lines on the left side with y_top (i.e. topmost side of our mask polygon)\n",
    "               We'll find the x coordinate of each line's intersection with that line. We'll then average it\"\"\"\n",
    "\n",
    "    m_left=[]    #intializing lists to store values for individual lines. Later we'll average the values\n",
    "    m_right=[]\n",
    "    x_top_left=[]\n",
    "    x_top_right=[]\n",
    "    y_top=vertices[0][1][1]\n",
    "\n",
    "    for line in lines:      #\"lines\" is a global variable declared in \"hough_lines\" function\n",
    "        #print(line)\n",
    "        for x1,y1,x2,y2 in line:\n",
    "            m=(y2-y1)/(x2-x1)\n",
    "            c=((x2)*(y1)-(x1)*(y2))/(x2-x1)\n",
    "            if m<0 and m>-1.2 and m<-0.55:\n",
    "                m_left.append(m)\n",
    "                x_top_left.append((y_top-c)/m)\n",
    "            if m>0 and m>0.55 and m<1.2:\n",
    "                m_right.append(m)\n",
    "                x_top_right.append((y_top-c)/m)\n",
    "\n",
    "    if len(m_left)>0 and len(m_right)>0:\n",
    "        m_left_avg=statistics.mean(m_left)\n",
    "        m_right_avg=statistics.mean(m_right)\n",
    "    elif len(m_left)==0 and len(m_right)>0:\n",
    "        m_right_avg=statistics.mean(m_right)\n",
    "        m_left_avg=-m_right_avg\n",
    "    elif len(m_left)>0 and len(m_right)==0:\n",
    "        m_left_avg=statistics.mean(m_left)\n",
    "        m_right_avg=-m_left_avg\n",
    "    else:\n",
    "        m_left_avg=slope_left_edge\n",
    "        m_right_avg=slope_right_edge\n",
    "        \n",
    "    x_top_middle_point=int((vertices[0][1][0]+vertices[0][2][0])/2)\n",
    "    \n",
    "    if len(x_top_left)>0 and len(x_top_right)>0:\n",
    "        x_top_left_avg=int(statistics.mean(x_top_left))\n",
    "        x_top_right_avg=int(statistics.mean(x_top_right))\n",
    "    elif len(x_top_left)==0 and len(x_top_right)>0:\n",
    "        x_top_right_avg=int(statistics.mean(x_top_right))\n",
    "        x_top_left_avg= x_top_middle_point-(x_top_right_avg-x_top_middle_point)\n",
    "    elif len(x_top_left)>0 and len(x_top_right)==0:\n",
    "        x_top_left_avg=int(statistics.mean(x_top_left))\n",
    "        x_top_right_avg=x_top_middle_point+(x_top_middle_point-x_top_left_avg)\n",
    "    else:\n",
    "        x_top_left_avg=int(vertices[0][1][0])\n",
    "        x_top_right_avg=int(vertices[0][2][0])\n",
    "\n",
    "        \n",
    "    c_left=(y_top)-(m_left_avg*x_top_left_avg)\n",
    "    c_right=(y_top)-(m_right_avg*x_top_right_avg)\n",
    "\n",
    "    y_bottom=vertices[0][0][1]\n",
    "    x_bottom_left= int((y_bottom-c_left)/m_left_avg) \n",
    "    x_bottom_right= int((y_bottom-c_right)/m_right_avg)\n",
    "    print(y_bottom)\n",
    "    print(x_bottom_left)\n",
    "    print(x_bottom_right)\n",
    "\n",
    "    lane_lines_img = np.zeros((image.shape[0], image.shape[1], 3), dtype=np.uint8)       #3-D image. Stacking not required\n",
    "\n",
    "\n",
    "    #vertices=np.array([[(x_bottom_left,y_bottom),(x_top_left_avg,y_top),(x_bottom_right,y_bottom),(x_top_right_avg,y_top)]])\n",
    "    cv2.line(lane_lines_img, (x_bottom_left,y_bottom),(x_top_left_avg,y_top), [255,0,0], 15)\n",
    "    cv2.line(lane_lines_img, (x_bottom_right,y_bottom),(x_top_right_avg,y_top), [255,0,0], 15)\n",
    "\n",
    "    #plt.imshow(lane_lines_img)\n",
    "\n",
    "    combo=cv2.addWeighted(image,1,lane_lines_img,0.5,0)\n",
    "    plt.imshow(combo)\n",
    "\n",
    "    combo2=cv2.addWeighted(image,1,hough_line_img,0.5,0)\n",
    "    plt.imshow(combo2)\n",
    "\n",
    "    return combo"
   ]
  },
  {
   "cell_type": "markdown",
   "metadata": {},
   "source": [
    "Let's try the one with the solid white lane on the right first ..."
   ]
  },
  {
   "cell_type": "code",
   "execution_count": 12,
   "metadata": {},
   "outputs": [
    {
     "name": "stderr",
     "output_type": "stream",
     "text": [
      "t:  39%|███▉      | 98/251 [13:20<00:24,  6.30it/s, now=None]\n",
      "t:   0%|          | 0/221 [00:00<?, ?it/s, now=None]\u001b[A"
     ]
    },
    {
     "name": "stdout",
     "output_type": "stream",
     "text": [
      "540\n",
      "157\n",
      "859\n",
      "Moviepy - Building video test_videos_output/solidWhiteRight.mp4.\n",
      "Moviepy - Writing video test_videos_output/solidWhiteRight.mp4\n",
      "\n",
      "540\n",
      "157\n",
      "859\n"
     ]
    },
    {
     "name": "stderr",
     "output_type": "stream",
     "text": [
      "\n",
      "t:   1%|          | 2/221 [00:00<00:21, 10.06it/s, now=None]\u001b[A\n",
      "t:   1%|▏         | 3/221 [00:00<00:26,  8.36it/s, now=None]\u001b[A"
     ]
    },
    {
     "name": "stdout",
     "output_type": "stream",
     "text": [
      "540\n",
      "155\n",
      "859\n",
      "540\n",
      "149\n"
     ]
    },
    {
     "name": "stderr",
     "output_type": "stream",
     "text": [
      "\n",
      "t:   2%|▏         | 4/221 [00:00<00:29,  7.32it/s, now=None]\u001b[A"
     ]
    },
    {
     "name": "stdout",
     "output_type": "stream",
     "text": [
      "862\n",
      "540\n",
      "157\n",
      "861\n"
     ]
    },
    {
     "name": "stderr",
     "output_type": "stream",
     "text": [
      "\n",
      "t:   2%|▏         | 5/221 [00:00<00:28,  7.58it/s, now=None]\u001b[A\n",
      "t:   3%|▎         | 6/221 [00:00<00:30,  7.13it/s, now=None]\u001b[A"
     ]
    },
    {
     "name": "stdout",
     "output_type": "stream",
     "text": [
      "540\n",
      "157\n",
      "862\n",
      "540\n",
      "148\n",
      "857\n"
     ]
    },
    {
     "name": "stderr",
     "output_type": "stream",
     "text": [
      "\n",
      "t:   4%|▎         | 8/221 [00:01<00:27,  7.88it/s, now=None]\u001b[A"
     ]
    },
    {
     "name": "stdout",
     "output_type": "stream",
     "text": [
      "540\n",
      "149\n",
      "863\n",
      "540\n",
      "147\n",
      "862\n"
     ]
    },
    {
     "name": "stderr",
     "output_type": "stream",
     "text": [
      "\n",
      "t:   4%|▍         | 9/221 [00:01<00:26,  8.15it/s, now=None]\u001b[A\n",
      "t:   5%|▍         | 10/221 [00:01<00:25,  8.17it/s, now=None]\u001b[A"
     ]
    },
    {
     "name": "stdout",
     "output_type": "stream",
     "text": [
      "540\n",
      "150\n",
      "855\n",
      "540\n",
      "153\n",
      "862\n"
     ]
    },
    {
     "name": "stderr",
     "output_type": "stream",
     "text": [
      "\n",
      "t:   5%|▍         | 11/221 [00:01<00:25,  8.36it/s, now=None]\u001b[A\n",
      "t:   5%|▌         | 12/221 [00:01<00:25,  8.35it/s, now=None]\u001b[A"
     ]
    },
    {
     "name": "stdout",
     "output_type": "stream",
     "text": [
      "540\n",
      "153\n",
      "847\n",
      "540\n",
      "158\n",
      "844\n"
     ]
    },
    {
     "name": "stderr",
     "output_type": "stream",
     "text": [
      "\n",
      "t:   6%|▌         | 13/221 [00:01<00:24,  8.33it/s, now=None]\u001b[A\n",
      "t:   6%|▋         | 14/221 [00:01<00:26,  7.94it/s, now=None]\u001b[A"
     ]
    },
    {
     "name": "stdout",
     "output_type": "stream",
     "text": [
      "540\n",
      "151\n",
      "841\n",
      "540\n",
      "142\n",
      "844\n"
     ]
    },
    {
     "name": "stderr",
     "output_type": "stream",
     "text": [
      "\n",
      "t:   7%|▋         | 15/221 [00:01<00:25,  7.94it/s, now=None]\u001b[A\n",
      "t:   7%|▋         | 16/221 [00:01<00:25,  8.19it/s, now=None]\u001b[A"
     ]
    },
    {
     "name": "stdout",
     "output_type": "stream",
     "text": [
      "540\n",
      "143\n",
      "841\n",
      "540\n",
      "140\n",
      "848\n"
     ]
    },
    {
     "name": "stderr",
     "output_type": "stream",
     "text": [
      "\n",
      "t:   8%|▊         | 17/221 [00:02<00:25,  7.88it/s, now=None]\u001b[A\n",
      "t:   8%|▊         | 18/221 [00:02<00:25,  8.11it/s, now=None]\u001b[A"
     ]
    },
    {
     "name": "stdout",
     "output_type": "stream",
     "text": [
      "540\n",
      "148\n",
      "842\n",
      "540\n",
      "147\n",
      "856\n",
      "540"
     ]
    },
    {
     "name": "stderr",
     "output_type": "stream",
     "text": [
      "\n",
      "t:   9%|▉         | 20/221 [00:02<00:23,  8.69it/s, now=None]\u001b[A"
     ]
    },
    {
     "name": "stdout",
     "output_type": "stream",
     "text": [
      "\n",
      "143\n",
      "845\n",
      "540\n",
      "141\n",
      "840\n"
     ]
    },
    {
     "name": "stderr",
     "output_type": "stream",
     "text": [
      "\n",
      "t:  10%|▉         | 21/221 [00:02<00:23,  8.41it/s, now=None]\u001b[A\n",
      "t:  10%|▉         | 22/221 [00:02<00:22,  8.72it/s, now=None]\u001b[A"
     ]
    },
    {
     "name": "stdout",
     "output_type": "stream",
     "text": [
      "540\n",
      "150\n",
      "841\n",
      "540\n",
      "146\n",
      "845\n"
     ]
    },
    {
     "name": "stderr",
     "output_type": "stream",
     "text": [
      "\n",
      "t:  10%|█         | 23/221 [00:02<00:22,  8.78it/s, now=None]\u001b[A\n",
      "t:  11%|█▏        | 25/221 [00:02<00:20,  9.60it/s, now=None]\u001b[A"
     ]
    },
    {
     "name": "stdout",
     "output_type": "stream",
     "text": [
      "540\n",
      "153\n",
      "844\n",
      "540\n",
      "158\n",
      "840\n",
      "540\n",
      "148\n",
      "841\n"
     ]
    },
    {
     "name": "stderr",
     "output_type": "stream",
     "text": [
      "\n",
      "t:  12%|█▏        | 27/221 [00:03<00:18, 10.47it/s, now=None]\u001b[A"
     ]
    },
    {
     "name": "stdout",
     "output_type": "stream",
     "text": [
      "540\n",
      "149\n",
      "848\n",
      "540\n",
      "153\n",
      "845\n",
      "540\n",
      "150\n",
      "843\n"
     ]
    },
    {
     "name": "stderr",
     "output_type": "stream",
     "text": [
      "\n",
      "t:  13%|█▎        | 29/221 [00:03<00:17, 11.10it/s, now=None]\u001b[A\n",
      "t:  14%|█▍        | 31/221 [00:03<00:15, 12.00it/s, now=None]\u001b[A"
     ]
    },
    {
     "name": "stdout",
     "output_type": "stream",
     "text": [
      "540\n",
      "145\n",
      "846\n",
      "540\n",
      "145\n",
      "847\n",
      "540\n",
      "157\n",
      "848\n",
      "540\n",
      "149\n",
      "849\n"
     ]
    },
    {
     "name": "stderr",
     "output_type": "stream",
     "text": [
      "\n",
      "t:  15%|█▍        | 33/221 [00:06<01:34,  2.00it/s, now=None]\u001b[A"
     ]
    },
    {
     "name": "stdout",
     "output_type": "stream",
     "text": [
      "540\n",
      "149\n",
      "854\n"
     ]
    },
    {
     "name": "stderr",
     "output_type": "stream",
     "text": [
      "\n",
      "t:  15%|█▌        | 34/221 [00:06<01:21,  2.30it/s, now=None]\u001b[A\n",
      "t:  16%|█▌        | 35/221 [00:06<01:03,  2.92it/s, now=None]\u001b[A"
     ]
    },
    {
     "name": "stdout",
     "output_type": "stream",
     "text": [
      "540\n",
      "151\n",
      "848\n",
      "540\n",
      "150\n",
      "856\n"
     ]
    },
    {
     "name": "stderr",
     "output_type": "stream",
     "text": [
      "\n",
      "t:  16%|█▋        | 36/221 [00:07<01:26,  2.15it/s, now=None]\u001b[A\n",
      "t:  17%|█▋        | 37/221 [00:07<01:10,  2.60it/s, now=None]\u001b[A"
     ]
    },
    {
     "name": "stdout",
     "output_type": "stream",
     "text": [
      "540\n",
      "156\n",
      "846\n",
      "540\n",
      "153\n",
      "846\n"
     ]
    },
    {
     "name": "stderr",
     "output_type": "stream",
     "text": [
      "\n",
      "t:  17%|█▋        | 38/221 [00:07<01:02,  2.93it/s, now=None]\u001b[A\n",
      "t:  18%|█▊        | 39/221 [00:08<00:50,  3.62it/s, now=None]\u001b[A"
     ]
    },
    {
     "name": "stdout",
     "output_type": "stream",
     "text": [
      "540\n",
      "154\n",
      "850\n",
      "540\n",
      "150\n",
      "845\n"
     ]
    },
    {
     "name": "stderr",
     "output_type": "stream",
     "text": [
      "\n",
      "t:  18%|█▊        | 40/221 [00:08<00:42,  4.26it/s, now=None]\u001b[A\n",
      "t:  19%|█▊        | 41/221 [00:08<00:36,  4.94it/s, now=None]\u001b[A"
     ]
    },
    {
     "name": "stdout",
     "output_type": "stream",
     "text": [
      "540\n",
      "146\n",
      "839\n",
      "540\n",
      "146\n",
      "838\n",
      "540"
     ]
    },
    {
     "name": "stderr",
     "output_type": "stream",
     "text": [
      "\n",
      "t:  19%|█▉        | 43/221 [00:08<00:29,  5.97it/s, now=None]\u001b[A"
     ]
    },
    {
     "name": "stdout",
     "output_type": "stream",
     "text": [
      "\n",
      "158\n",
      "843\n",
      "540\n",
      "151\n",
      "831\n",
      "540\n",
      "141\n",
      "846\n"
     ]
    },
    {
     "name": "stderr",
     "output_type": "stream",
     "text": [
      "\n",
      "t:  20%|██        | 45/221 [00:08<00:25,  7.01it/s, now=None]\u001b[A\n",
      "t:  21%|██▏       | 47/221 [00:08<00:21,  8.04it/s, now=None]\u001b[A"
     ]
    },
    {
     "name": "stdout",
     "output_type": "stream",
     "text": [
      "540\n",
      "154\n",
      "844\n",
      "540\n",
      "153\n",
      "841\n",
      "540\n",
      "158\n",
      "847\n"
     ]
    },
    {
     "name": "stderr",
     "output_type": "stream",
     "text": [
      "\n",
      "t:  22%|██▏       | 49/221 [00:11<01:24,  2.02it/s, now=None]\u001b[A"
     ]
    },
    {
     "name": "stdout",
     "output_type": "stream",
     "text": [
      "540\n",
      "152\n",
      "849\n",
      "540\n",
      "146\n",
      "843\n"
     ]
    },
    {
     "name": "stderr",
     "output_type": "stream",
     "text": [
      "\n",
      "t:  23%|██▎       | 50/221 [00:11<01:06,  2.58it/s, now=None]\u001b[A\n",
      "t:  23%|██▎       | 51/221 [00:11<00:52,  3.24it/s, now=None]\u001b[A"
     ]
    },
    {
     "name": "stdout",
     "output_type": "stream",
     "text": [
      "540\n",
      "141\n",
      "842\n",
      "540\n",
      "136\n",
      "848\n"
     ]
    },
    {
     "name": "stderr",
     "output_type": "stream",
     "text": [
      "\n",
      "t:  24%|██▎       | 52/221 [00:11<00:44,  3.78it/s, now=None]\u001b[A"
     ]
    },
    {
     "name": "stdout",
     "output_type": "stream",
     "text": [
      "540\n",
      "136\n",
      "846\n"
     ]
    },
    {
     "name": "stderr",
     "output_type": "stream",
     "text": [
      "\n",
      "t:  24%|██▍       | 53/221 [00:12<00:42,  4.00it/s, now=None]\u001b[A\n",
      "t:  24%|██▍       | 54/221 [00:12<00:38,  4.39it/s, now=None]\u001b[A"
     ]
    },
    {
     "name": "stdout",
     "output_type": "stream",
     "text": [
      "540\n",
      "141\n",
      "846\n",
      "540\n",
      "138\n",
      "855\n"
     ]
    },
    {
     "name": "stderr",
     "output_type": "stream",
     "text": [
      "\n",
      "t:  25%|██▍       | 55/221 [00:12<00:32,  5.07it/s, now=None]\u001b[A\n",
      "t:  26%|██▌       | 57/221 [00:12<00:27,  5.96it/s, now=None]"
     ]
    },
    {
     "name": "stdout",
     "output_type": "stream",
     "text": [
      "540\n",
      "141\n",
      "851\n",
      "540\n",
      "135\n",
      "836\n"
     ]
    },
    {
     "name": "stderr",
     "output_type": "stream",
     "text": [
      "\u001b[A\n",
      "t:  26%|██▌       | 58/221 [00:12<00:25,  6.45it/s, now=None]\u001b[A"
     ]
    },
    {
     "name": "stdout",
     "output_type": "stream",
     "text": [
      "540\n",
      "145\n",
      "837\n",
      "540\n",
      "144\n",
      "839\n"
     ]
    },
    {
     "name": "stderr",
     "output_type": "stream",
     "text": [
      "\n",
      "t:  27%|██▋       | 59/221 [00:12<00:24,  6.65it/s, now=None]\u001b[A"
     ]
    },
    {
     "name": "stdout",
     "output_type": "stream",
     "text": [
      "540\n",
      "139\n",
      "843\n"
     ]
    },
    {
     "name": "stderr",
     "output_type": "stream",
     "text": [
      "\n",
      "t:  27%|██▋       | 60/221 [00:13<00:27,  5.96it/s, now=None]\u001b[A\n",
      "t:  28%|██▊       | 61/221 [00:13<00:26,  6.06it/s, now=None]\u001b[A"
     ]
    },
    {
     "name": "stdout",
     "output_type": "stream",
     "text": [
      "540\n",
      "133\n",
      "842\n",
      "540\n",
      "130\n",
      "845\n"
     ]
    },
    {
     "name": "stderr",
     "output_type": "stream",
     "text": [
      "\n",
      "t:  28%|██▊       | 62/221 [00:13<00:24,  6.51it/s, now=None]\u001b[A\n",
      "t:  29%|██▉       | 64/221 [00:13<00:20,  7.58it/s, now=None]\u001b[A"
     ]
    },
    {
     "name": "stdout",
     "output_type": "stream",
     "text": [
      "540\n",
      "135\n",
      "834\n",
      "540\n",
      "129\n",
      "839\n",
      "540\n",
      "139\n",
      "842\n"
     ]
    },
    {
     "name": "stderr",
     "output_type": "stream",
     "text": [
      "\n",
      "t:  30%|██▉       | 66/221 [00:13<00:18,  8.47it/s, now=None]\u001b[A"
     ]
    },
    {
     "name": "stdout",
     "output_type": "stream",
     "text": [
      "540\n",
      "133\n",
      "827\n",
      "540\n",
      "120\n",
      "838\n"
     ]
    },
    {
     "name": "stderr",
     "output_type": "stream",
     "text": [
      "\n",
      "t:  30%|███       | 67/221 [00:13<00:18,  8.40it/s, now=None]\u001b[A\n",
      "t:  31%|███       | 68/221 [00:14<00:18,  8.16it/s, now=None]\u001b[A"
     ]
    },
    {
     "name": "stdout",
     "output_type": "stream",
     "text": [
      "540\n",
      "126\n",
      "840\n",
      "540\n",
      "115\n",
      "839\n"
     ]
    },
    {
     "name": "stderr",
     "output_type": "stream",
     "text": [
      "\n",
      "t:  31%|███       | 69/221 [00:14<00:20,  7.32it/s, now=None]\u001b[A"
     ]
    },
    {
     "name": "stdout",
     "output_type": "stream",
     "text": [
      "540\n",
      "127\n",
      "840\n",
      "540\n",
      "145\n",
      "830\n"
     ]
    },
    {
     "name": "stderr",
     "output_type": "stream",
     "text": [
      "\n",
      "t:  32%|███▏      | 71/221 [00:16<01:13,  2.05it/s, now=None]\u001b[A\n",
      "t:  33%|███▎      | 72/221 [00:16<00:56,  2.63it/s, now=None]\u001b[A"
     ]
    },
    {
     "name": "stdout",
     "output_type": "stream",
     "text": [
      "540\n",
      "124\n",
      "832\n",
      "540\n",
      "132\n",
      "834\n"
     ]
    },
    {
     "name": "stderr",
     "output_type": "stream",
     "text": [
      "\n",
      "t:  33%|███▎      | 73/221 [00:17<00:45,  3.24it/s, now=None]\u001b[A\n",
      "t:  34%|███▍      | 75/221 [00:17<00:35,  4.17it/s, now=None]\u001b[A"
     ]
    },
    {
     "name": "stdout",
     "output_type": "stream",
     "text": [
      "540\n",
      "126\n",
      "829\n",
      "540\n",
      "125\n",
      "838\n",
      "540\n",
      "121\n",
      "837\n"
     ]
    },
    {
     "name": "stderr",
     "output_type": "stream",
     "text": [
      "\n",
      "t:  34%|███▍      | 76/221 [00:17<00:29,  4.96it/s, now=None]\u001b[A"
     ]
    },
    {
     "name": "stdout",
     "output_type": "stream",
     "text": [
      "540\n",
      "125\n",
      "831\n"
     ]
    },
    {
     "name": "stderr",
     "output_type": "stream",
     "text": [
      "\n",
      "t:  35%|███▍      | 77/221 [00:17<00:29,  4.91it/s, now=None]\u001b[A\n",
      "t:  36%|███▌      | 79/221 [00:17<00:23,  5.93it/s, now=None]\u001b[A"
     ]
    },
    {
     "name": "stdout",
     "output_type": "stream",
     "text": [
      "540\n",
      "113\n",
      "826\n",
      "540\n",
      "133\n",
      "827\n",
      "540\n",
      "117\n",
      "820\n",
      "540\n",
      "119\n",
      "825\n"
     ]
    },
    {
     "name": "stderr",
     "output_type": "stream",
     "text": [
      "\n",
      "t:  37%|███▋      | 81/221 [00:18<00:23,  5.99it/s, now=None]\u001b[A\n",
      "t:  37%|███▋      | 82/221 [00:18<00:23,  5.79it/s, now=None]\u001b[A"
     ]
    },
    {
     "name": "stdout",
     "output_type": "stream",
     "text": [
      "540\n",
      "113\n",
      "820\n",
      "540"
     ]
    },
    {
     "name": "stderr",
     "output_type": "stream",
     "text": [
      "\n",
      "t:  38%|███▊      | 84/221 [00:18<00:20,  6.83it/s, now=None]\u001b[A"
     ]
    },
    {
     "name": "stdout",
     "output_type": "stream",
     "text": [
      "\n",
      "120\n",
      "831\n",
      "540\n",
      "118\n",
      "826\n",
      "540\n",
      "107\n",
      "829\n"
     ]
    },
    {
     "name": "stderr",
     "output_type": "stream",
     "text": [
      "\n",
      "t:  38%|███▊      | 85/221 [00:18<00:20,  6.49it/s, now=None]\u001b[A\n",
      "t:  39%|███▉      | 86/221 [00:18<00:18,  7.23it/s, now=None]\u001b[A"
     ]
    },
    {
     "name": "stdout",
     "output_type": "stream",
     "text": [
      "540\n",
      "107\n",
      "823\n",
      "540\n",
      "115\n",
      "823\n",
      "540"
     ]
    },
    {
     "name": "stderr",
     "output_type": "stream",
     "text": [
      "\n",
      "t:  40%|███▉      | 88/221 [00:18<00:16,  8.01it/s, now=None]\u001b[A"
     ]
    },
    {
     "name": "stdout",
     "output_type": "stream",
     "text": [
      "\n",
      "121\n",
      "827\n",
      "540\n",
      "127\n",
      "823\n"
     ]
    },
    {
     "name": "stderr",
     "output_type": "stream",
     "text": [
      "\n",
      "t:  40%|████      | 89/221 [00:19<00:18,  7.30it/s, now=None]\u001b[A\n",
      "t:  41%|████      | 90/221 [00:19<00:17,  7.61it/s, now=None]\u001b[A"
     ]
    },
    {
     "name": "stdout",
     "output_type": "stream",
     "text": [
      "540\n",
      "125\n",
      "824\n",
      "540\n",
      "104\n",
      "818\n"
     ]
    },
    {
     "name": "stderr",
     "output_type": "stream",
     "text": [
      "\n",
      "t:  41%|████      | 91/221 [00:19<00:18,  7.07it/s, now=None]\u001b[A"
     ]
    },
    {
     "name": "stdout",
     "output_type": "stream",
     "text": [
      "540\n",
      "119\n",
      "820\n",
      "540\n",
      "122\n",
      "812\n"
     ]
    },
    {
     "name": "stderr",
     "output_type": "stream",
     "text": [
      "\n",
      "t:  42%|████▏     | 93/221 [00:19<00:17,  7.23it/s, now=None]\u001b[A\n",
      "t:  43%|████▎     | 94/221 [00:19<00:16,  7.62it/s, now=None]\u001b[A"
     ]
    },
    {
     "name": "stdout",
     "output_type": "stream",
     "text": [
      "540\n",
      "124\n",
      "813\n",
      "540\n",
      "123\n",
      "816\n"
     ]
    },
    {
     "name": "stderr",
     "output_type": "stream",
     "text": [
      "\n",
      "t:  43%|████▎     | 95/221 [00:20<00:54,  2.32it/s, now=None]\u001b[A"
     ]
    },
    {
     "name": "stdout",
     "output_type": "stream",
     "text": [
      "540\n",
      "120\n",
      "818\n"
     ]
    },
    {
     "name": "stderr",
     "output_type": "stream",
     "text": [
      "\n",
      "t:  43%|████▎     | 96/221 [00:22<01:33,  1.34it/s, now=None]\u001b[A"
     ]
    },
    {
     "name": "stdout",
     "output_type": "stream",
     "text": [
      "540\n",
      "116\n",
      "826\n"
     ]
    },
    {
     "name": "stderr",
     "output_type": "stream",
     "text": [
      "\n",
      "t:  44%|████▍     | 97/221 [00:22<01:16,  1.62it/s, now=None]\u001b[A\n"
     ]
    },
    {
     "name": "stdout",
     "output_type": "stream",
     "text": [
      "540\n",
      "128\n",
      "820\n",
      "540\n",
      "125\n",
      "827\n"
     ]
    },
    {
     "name": "stderr",
     "output_type": "stream",
     "text": [
      "t:  45%|████▍     | 99/221 [00:22<00:56,  2.17it/s, now=None]\u001b[A\n",
      "t:  45%|████▌     | 100/221 [00:22<00:43,  2.78it/s, now=None]\u001b[A"
     ]
    },
    {
     "name": "stdout",
     "output_type": "stream",
     "text": [
      "540\n",
      "125\n",
      "828\n",
      "540\n",
      "114\n",
      "820\n"
     ]
    },
    {
     "name": "stderr",
     "output_type": "stream",
     "text": [
      "\n",
      "t:  46%|████▌     | 101/221 [00:23<00:36,  3.26it/s, now=None]\u001b[A\n",
      "t:  46%|████▌     | 102/221 [00:23<00:29,  4.07it/s, now=None]\u001b[A"
     ]
    },
    {
     "name": "stdout",
     "output_type": "stream",
     "text": [
      "540\n",
      "127\n",
      "823\n",
      "540\n",
      "127\n",
      "823\n"
     ]
    },
    {
     "name": "stderr",
     "output_type": "stream",
     "text": [
      "\n",
      "t:  47%|████▋     | 103/221 [00:23<00:26,  4.42it/s, now=None]\u001b[A\n",
      "t:  48%|████▊     | 105/221 [00:23<00:21,  5.35it/s, now=None]\u001b[A"
     ]
    },
    {
     "name": "stdout",
     "output_type": "stream",
     "text": [
      "540\n",
      "137\n",
      "822\n",
      "540\n",
      "139\n",
      "826\n"
     ]
    },
    {
     "name": "stderr",
     "output_type": "stream",
     "text": [
      "\n",
      "t:  48%|████▊     | 107/221 [00:23<00:17,  6.38it/s, now=None]\u001b[A"
     ]
    },
    {
     "name": "stdout",
     "output_type": "stream",
     "text": [
      "540\n",
      "127\n",
      "825\n",
      "540\n",
      "134\n",
      "831\n",
      "540\n",
      "139\n",
      "840\n"
     ]
    },
    {
     "name": "stderr",
     "output_type": "stream",
     "text": [
      "\n",
      "t:  49%|████▉     | 109/221 [00:23<00:15,  7.26it/s, now=None]\u001b[A"
     ]
    },
    {
     "name": "stdout",
     "output_type": "stream",
     "text": [
      "540\n",
      "133\n",
      "827\n",
      "540\n",
      "133\n",
      "830\n",
      "540\n",
      "139\n",
      "831\n"
     ]
    },
    {
     "name": "stderr",
     "output_type": "stream",
     "text": [
      "\n",
      "t:  50%|█████     | 111/221 [00:24<00:13,  8.16it/s, now=None]\u001b[A\n"
     ]
    },
    {
     "name": "stdout",
     "output_type": "stream",
     "text": [
      "540\n",
      "136\n",
      "830\n",
      "540\n",
      "132\n",
      "828\n"
     ]
    },
    {
     "name": "stderr",
     "output_type": "stream",
     "text": [
      "t:  51%|█████     | 113/221 [00:24<00:12,  8.45it/s, now=None]\u001b[A"
     ]
    },
    {
     "name": "stdout",
     "output_type": "stream",
     "text": [
      "540\n",
      "132\n",
      "827\n"
     ]
    },
    {
     "name": "stderr",
     "output_type": "stream",
     "text": [
      "\n",
      "t:  52%|█████▏    | 114/221 [00:24<00:17,  6.12it/s, now=None]\u001b[A\n",
      "t:  52%|█████▏    | 116/221 [00:24<00:14,  7.23it/s, now=None]\u001b[A"
     ]
    },
    {
     "name": "stdout",
     "output_type": "stream",
     "text": [
      "540\n",
      "123\n",
      "839\n",
      "540\n",
      "141\n",
      "833\n",
      "540\n",
      "132\n",
      "834\n"
     ]
    },
    {
     "name": "stderr",
     "output_type": "stream",
     "text": [
      "\n",
      "t:  53%|█████▎    | 118/221 [00:24<00:12,  8.07it/s, now=None]\u001b[A"
     ]
    },
    {
     "name": "stdout",
     "output_type": "stream",
     "text": [
      "540\n",
      "132\n",
      "839\n",
      "540\n",
      "131\n",
      "837\n",
      "540\n",
      "127\n",
      "840\n"
     ]
    },
    {
     "name": "stderr",
     "output_type": "stream",
     "text": [
      "\n",
      "t:  54%|█████▍    | 120/221 [00:25<00:11,  8.91it/s, now=None]\u001b[A"
     ]
    },
    {
     "name": "stdout",
     "output_type": "stream",
     "text": [
      "540\n",
      "127\n",
      "840\n",
      "540\n",
      "144\n",
      "841\n"
     ]
    },
    {
     "name": "stderr",
     "output_type": "stream",
     "text": [
      "\n",
      "t:  55%|█████▌    | 122/221 [00:27<00:47,  2.10it/s, now=None]\u001b[A\n"
     ]
    },
    {
     "name": "stdout",
     "output_type": "stream",
     "text": [
      "540\n",
      "137\n",
      "847\n"
     ]
    },
    {
     "name": "stderr",
     "output_type": "stream",
     "text": [
      "t:  56%|█████▌    | 123/221 [00:27<00:39,  2.50it/s, now=None]\u001b[A\n",
      "t:  56%|█████▌    | 124/221 [00:28<00:30,  3.14it/s, now=None]\u001b[A"
     ]
    },
    {
     "name": "stdout",
     "output_type": "stream",
     "text": [
      "540\n",
      "141\n",
      "844\n",
      "540\n",
      "134\n",
      "845\n"
     ]
    },
    {
     "name": "stderr",
     "output_type": "stream",
     "text": [
      "\n",
      "t:  57%|█████▋    | 125/221 [00:28<00:30,  3.20it/s, now=None]\u001b[A\n",
      "t:  57%|█████▋    | 126/221 [00:28<00:25,  3.77it/s, now=None]\u001b[A"
     ]
    },
    {
     "name": "stdout",
     "output_type": "stream",
     "text": [
      "540\n",
      "138\n",
      "844\n",
      "540\n",
      "138\n",
      "845\n"
     ]
    },
    {
     "name": "stderr",
     "output_type": "stream",
     "text": [
      "\n",
      "t:  57%|█████▋    | 127/221 [00:28<00:20,  4.59it/s, now=None]\u001b[A\n"
     ]
    },
    {
     "name": "stdout",
     "output_type": "stream",
     "text": [
      "540\n",
      "159\n",
      "853\n",
      "540\n",
      "139\n",
      "846\n"
     ]
    },
    {
     "name": "stderr",
     "output_type": "stream",
     "text": [
      "t:  58%|█████▊    | 129/221 [00:28<00:16,  5.50it/s, now=None]\u001b[A\n",
      "t:  59%|█████▉    | 130/221 [00:29<00:15,  5.92it/s, now=None]\u001b[A"
     ]
    },
    {
     "name": "stdout",
     "output_type": "stream",
     "text": [
      "540\n",
      "159\n",
      "845\n",
      "540\n",
      "145\n",
      "851\n"
     ]
    },
    {
     "name": "stderr",
     "output_type": "stream",
     "text": [
      "\n",
      "t:  59%|█████▉    | 131/221 [00:29<00:13,  6.48it/s, now=None]\u001b[A\n",
      "t:  60%|█████▉    | 132/221 [00:29<00:12,  7.13it/s, now=None]\u001b[A"
     ]
    },
    {
     "name": "stdout",
     "output_type": "stream",
     "text": [
      "540\n",
      "147\n",
      "850\n",
      "540\n",
      "156\n",
      "853\n"
     ]
    },
    {
     "name": "stderr",
     "output_type": "stream",
     "text": [
      "\n",
      "t:  60%|██████    | 133/221 [00:29<00:11,  7.50it/s, now=None]\u001b[A\n",
      "t:  61%|██████    | 134/221 [00:29<00:10,  8.07it/s, now=None]\u001b[A"
     ]
    },
    {
     "name": "stdout",
     "output_type": "stream",
     "text": [
      "540\n",
      "156\n",
      "855\n",
      "540\n",
      "150\n",
      "849\n",
      "540"
     ]
    },
    {
     "name": "stderr",
     "output_type": "stream",
     "text": [
      "\n",
      "t:  62%|██████▏   | 136/221 [00:29<00:09,  8.89it/s, now=None]\u001b[A\n",
      "t:  62%|██████▏   | 137/221 [00:29<00:09,  9.14it/s, now=None]\u001b[A"
     ]
    },
    {
     "name": "stdout",
     "output_type": "stream",
     "text": [
      "\n",
      "153\n",
      "852\n",
      "540\n",
      "140\n",
      "858\n",
      "540"
     ]
    },
    {
     "name": "stderr",
     "output_type": "stream",
     "text": [
      "\n",
      "t:  62%|██████▏   | 138/221 [00:29<00:09,  8.85it/s, now=None]\u001b[A"
     ]
    },
    {
     "name": "stdout",
     "output_type": "stream",
     "text": [
      "\n",
      "149\n",
      "860\n",
      "540\n",
      "152\n",
      "859\n"
     ]
    },
    {
     "name": "stderr",
     "output_type": "stream",
     "text": [
      "\n",
      "t:  63%|██████▎   | 139/221 [00:29<00:09,  8.55it/s, now=None]\u001b[A\n",
      "t:  63%|██████▎   | 140/221 [00:30<00:10,  7.44it/s, now=None]\u001b[A"
     ]
    },
    {
     "name": "stdout",
     "output_type": "stream",
     "text": [
      "540\n",
      "148\n",
      "860\n",
      "540\n",
      "149\n",
      "852\n"
     ]
    },
    {
     "name": "stderr",
     "output_type": "stream",
     "text": [
      "\n",
      "t:  64%|██████▍   | 141/221 [00:30<00:14,  5.55it/s, now=None]\u001b[A\n",
      "t:  64%|██████▍   | 142/221 [00:30<00:12,  6.35it/s, now=None]\u001b[A"
     ]
    },
    {
     "name": "stdout",
     "output_type": "stream",
     "text": [
      "540\n",
      "148\n",
      "855\n",
      "540\n",
      "155\n",
      "854\n"
     ]
    },
    {
     "name": "stderr",
     "output_type": "stream",
     "text": [
      "\n",
      "t:  65%|██████▍   | 143/221 [00:33<01:13,  1.06it/s, now=None]\u001b[A"
     ]
    },
    {
     "name": "stdout",
     "output_type": "stream",
     "text": [
      "540\n",
      "147\n",
      "845\n",
      "540\n",
      "157\n",
      "846\n"
     ]
    },
    {
     "name": "stderr",
     "output_type": "stream",
     "text": [
      "\n",
      "t:  66%|██████▌   | 145/221 [00:33<00:52,  1.44it/s, now=None]\u001b[A\n",
      "t:  67%|██████▋   | 147/221 [00:33<00:37,  1.96it/s, now=None]\u001b[A"
     ]
    },
    {
     "name": "stdout",
     "output_type": "stream",
     "text": [
      "540\n",
      "162\n",
      "847\n",
      "540\n",
      "157\n",
      "854\n",
      "540\n",
      "156\n",
      "860\n"
     ]
    },
    {
     "name": "stderr",
     "output_type": "stream",
     "text": [
      "\n",
      "t:  67%|██████▋   | 149/221 [00:33<00:27,  2.63it/s, now=None]\u001b[A"
     ]
    },
    {
     "name": "stdout",
     "output_type": "stream",
     "text": [
      "540\n",
      "164\n",
      "859\n",
      "540\n",
      "162\n",
      "857\n",
      "540\n",
      "160\n",
      "859\n"
     ]
    },
    {
     "name": "stderr",
     "output_type": "stream",
     "text": [
      "\n",
      "t:  68%|██████▊   | 151/221 [00:34<00:20,  3.47it/s, now=None]\u001b[A\n",
      "t:  69%|██████▉   | 153/221 [00:34<00:15,  4.40it/s, now=None]\u001b[A"
     ]
    },
    {
     "name": "stdout",
     "output_type": "stream",
     "text": [
      "540\n",
      "152\n",
      "861\n",
      "540\n",
      "170\n",
      "862\n",
      "540\n",
      "160\n",
      "856\n"
     ]
    },
    {
     "name": "stderr",
     "output_type": "stream",
     "text": [
      "\n",
      "t:  70%|███████   | 155/221 [00:34<00:12,  5.40it/s, now=None]\u001b[A"
     ]
    },
    {
     "name": "stdout",
     "output_type": "stream",
     "text": [
      "540\n",
      "170\n",
      "864\n",
      "540\n",
      "161\n",
      "860\n",
      "540\n",
      "161\n",
      "867\n"
     ]
    },
    {
     "name": "stderr",
     "output_type": "stream",
     "text": [
      "\n",
      "t:  71%|███████   | 157/221 [00:34<00:10,  6.23it/s, now=None]\u001b[A\n",
      "t:  72%|███████▏  | 159/221 [00:34<00:08,  7.35it/s, now=None]\u001b[A"
     ]
    },
    {
     "name": "stdout",
     "output_type": "stream",
     "text": [
      "540\n",
      "162\n",
      "861\n",
      "540\n",
      "167\n",
      "870\n",
      "540\n",
      "168\n",
      "861\n"
     ]
    },
    {
     "name": "stderr",
     "output_type": "stream",
     "text": [
      "\n",
      "t:  73%|███████▎  | 161/221 [00:34<00:07,  8.31it/s, now=None]\u001b[A"
     ]
    },
    {
     "name": "stdout",
     "output_type": "stream",
     "text": [
      "540\n",
      "162\n",
      "872\n",
      "540\n",
      "169\n",
      "872\n",
      "540\n",
      "172\n",
      "879\n"
     ]
    },
    {
     "name": "stderr",
     "output_type": "stream",
     "text": [
      "\n",
      "t:  74%|███████▍  | 163/221 [00:35<00:06,  9.18it/s, now=None]\u001b[A\n",
      "t:  75%|███████▍  | 165/221 [00:35<00:05,  9.75it/s, now=None]\u001b[A"
     ]
    },
    {
     "name": "stdout",
     "output_type": "stream",
     "text": [
      "540\n",
      "181\n",
      "878\n",
      "540\n",
      "177\n",
      "879\n",
      "540\n",
      "177\n",
      "879\n"
     ]
    },
    {
     "name": "stderr",
     "output_type": "stream",
     "text": [
      "\n",
      "t:  76%|███████▌  | 167/221 [00:35<00:05, 10.15it/s, now=None]\u001b[A"
     ]
    },
    {
     "name": "stdout",
     "output_type": "stream",
     "text": [
      "540\n",
      "181\n",
      "875\n",
      "540\n",
      "178\n",
      "884\n"
     ]
    },
    {
     "name": "stderr",
     "output_type": "stream",
     "text": [
      "\n",
      "t:  76%|███████▋  | 169/221 [00:35<00:06,  8.38it/s, now=None]\u001b[A"
     ]
    },
    {
     "name": "stdout",
     "output_type": "stream",
     "text": [
      "540\n",
      "186\n",
      "876\n",
      "540\n",
      "179\n",
      "867\n",
      "540\n",
      "182\n",
      "874\n"
     ]
    },
    {
     "name": "stderr",
     "output_type": "stream",
     "text": [
      "\n",
      "t:  77%|███████▋  | 171/221 [00:35<00:05,  9.49it/s, now=None]\u001b[A\n",
      "t:  78%|███████▊  | 173/221 [00:36<00:04, 10.42it/s, now=None]\u001b[A"
     ]
    },
    {
     "name": "stdout",
     "output_type": "stream",
     "text": [
      "540\n",
      "182\n",
      "879\n",
      "540\n",
      "181\n",
      "879\n",
      "540\n",
      "181\n",
      "885\n",
      "540\n",
      "176\n",
      "865\n"
     ]
    },
    {
     "name": "stderr",
     "output_type": "stream",
     "text": [
      "\n",
      "t:  79%|███████▉  | 175/221 [00:38<00:17,  2.59it/s, now=None]\u001b[A"
     ]
    },
    {
     "name": "stdout",
     "output_type": "stream",
     "text": [
      "540\n",
      "179\n",
      "879\n"
     ]
    },
    {
     "name": "stderr",
     "output_type": "stream",
     "text": [
      "\n",
      "t:  80%|███████▉  | 176/221 [00:38<00:18,  2.46it/s, now=None]\u001b[A\n",
      "t:  80%|████████  | 177/221 [00:38<00:14,  3.04it/s, now=None]\u001b[A"
     ]
    },
    {
     "name": "stdout",
     "output_type": "stream",
     "text": [
      "540\n",
      "180\n",
      "876\n",
      "540\n",
      "188\n",
      "873\n"
     ]
    },
    {
     "name": "stderr",
     "output_type": "stream",
     "text": [
      "\n",
      "t:  81%|████████  | 178/221 [00:38<00:11,  3.84it/s, now=None]\u001b[A\n",
      "t:  81%|████████  | 179/221 [00:38<00:08,  4.70it/s, now=None]\u001b[A"
     ]
    },
    {
     "name": "stdout",
     "output_type": "stream",
     "text": [
      "540\n",
      "184\n",
      "880\n",
      "540\n",
      "190\n",
      "881\n",
      "540"
     ]
    },
    {
     "name": "stderr",
     "output_type": "stream",
     "text": [
      "\n",
      "t:  82%|████████▏ | 181/221 [00:39<00:07,  5.71it/s, now=None]\u001b[A"
     ]
    },
    {
     "name": "stdout",
     "output_type": "stream",
     "text": [
      "\n",
      "184\n",
      "887\n",
      "540\n",
      "188\n",
      "880\n",
      "540\n",
      "181\n",
      "885\n"
     ]
    },
    {
     "name": "stderr",
     "output_type": "stream",
     "text": [
      "\n",
      "t:  83%|████████▎ | 183/221 [00:39<00:05,  6.73it/s, now=None]\u001b[A\n",
      "t:  84%|████████▎ | 185/221 [00:39<00:04,  7.77it/s, now=None]\u001b[A"
     ]
    },
    {
     "name": "stdout",
     "output_type": "stream",
     "text": [
      "540\n",
      "190\n",
      "877\n",
      "540\n",
      "188\n",
      "877\n",
      "540\n",
      "183\n",
      "881\n"
     ]
    },
    {
     "name": "stderr",
     "output_type": "stream",
     "text": [
      "\n",
      "t:  85%|████████▍ | 187/221 [00:39<00:04,  8.39it/s, now=None]\u001b[A"
     ]
    },
    {
     "name": "stdout",
     "output_type": "stream",
     "text": [
      "540\n",
      "191\n",
      "883\n",
      "540\n",
      "190\n",
      "879\n",
      "540\n",
      "175\n",
      "882\n"
     ]
    },
    {
     "name": "stderr",
     "output_type": "stream",
     "text": [
      "\n",
      "t:  86%|████████▌ | 189/221 [00:39<00:03,  9.31it/s, now=None]\u001b[A\n",
      "t:  86%|████████▋ | 191/221 [00:40<00:03,  9.84it/s, now=None]\u001b[A"
     ]
    },
    {
     "name": "stdout",
     "output_type": "stream",
     "text": [
      "540\n",
      "189\n",
      "890\n",
      "540\n",
      "180\n",
      "890\n",
      "540\n",
      "182\n",
      "897\n"
     ]
    },
    {
     "name": "stderr",
     "output_type": "stream",
     "text": [
      "\n",
      "t:  87%|████████▋ | 193/221 [00:40<00:02, 10.16it/s, now=None]\u001b[A"
     ]
    },
    {
     "name": "stdout",
     "output_type": "stream",
     "text": [
      "540\n",
      "178\n",
      "896\n",
      "540\n",
      "182\n",
      "888\n",
      "540\n",
      "185\n",
      "883\n"
     ]
    },
    {
     "name": "stderr",
     "output_type": "stream",
     "text": [
      "\n",
      "t:  88%|████████▊ | 195/221 [00:40<00:02, 10.78it/s, now=None]\u001b[A\n",
      "t:  89%|████████▉ | 197/221 [00:40<00:02, 11.23it/s, now=None]\u001b[A"
     ]
    },
    {
     "name": "stdout",
     "output_type": "stream",
     "text": [
      "540\n",
      "180\n",
      "874\n",
      "540\n",
      "186\n",
      "873\n",
      "540\n",
      "183\n",
      "880\n"
     ]
    },
    {
     "name": "stderr",
     "output_type": "stream",
     "text": [
      "\n",
      "t:  90%|█████████ | 199/221 [00:40<00:01, 11.21it/s, now=None]\u001b[A"
     ]
    },
    {
     "name": "stdout",
     "output_type": "stream",
     "text": [
      "540\n",
      "177\n",
      "888\n",
      "540\n",
      "186\n",
      "879\n",
      "540\n",
      "180\n",
      "879\n"
     ]
    },
    {
     "name": "stderr",
     "output_type": "stream",
     "text": [
      "\n",
      "t:  91%|█████████ | 201/221 [00:40<00:01, 11.55it/s, now=None]\u001b[A\n",
      "t:  92%|█████████▏| 203/221 [00:41<00:01, 11.66it/s, now=None]\u001b[A"
     ]
    },
    {
     "name": "stdout",
     "output_type": "stream",
     "text": [
      "540\n",
      "191\n",
      "889\n",
      "540\n",
      "183\n",
      "883\n",
      "540\n",
      "190\n",
      "886\n"
     ]
    },
    {
     "name": "stderr",
     "output_type": "stream",
     "text": [
      "\n",
      "t:  93%|█████████▎| 205/221 [00:41<00:01, 11.67it/s, now=None]\u001b[A"
     ]
    },
    {
     "name": "stdout",
     "output_type": "stream",
     "text": [
      "540\n",
      "187\n",
      "882\n",
      "540\n",
      "184\n",
      "890\n",
      "540\n",
      "186\n",
      "887\n"
     ]
    },
    {
     "name": "stderr",
     "output_type": "stream",
     "text": [
      "\n",
      "t:  94%|█████████▎| 207/221 [00:41<00:01, 11.40it/s, now=None]\u001b[A"
     ]
    },
    {
     "name": "stdout",
     "output_type": "stream",
     "text": [
      "540\n",
      "180\n",
      "887\n",
      "540\n",
      "182\n",
      "893\n"
     ]
    },
    {
     "name": "stderr",
     "output_type": "stream",
     "text": [
      "\n",
      "t:  95%|█████████▍| 209/221 [00:42<00:02,  4.66it/s, now=None]\u001b[A"
     ]
    },
    {
     "name": "stdout",
     "output_type": "stream",
     "text": [
      "540\n",
      "178\n",
      "898\n"
     ]
    },
    {
     "name": "stderr",
     "output_type": "stream",
     "text": [
      "\n",
      "t:  95%|█████████▌| 210/221 [00:43<00:06,  1.59it/s, now=None]\u001b[A\n",
      "t:  96%|█████████▌| 212/221 [00:44<00:04,  2.14it/s, now=None]\u001b[A"
     ]
    },
    {
     "name": "stdout",
     "output_type": "stream",
     "text": [
      "540\n",
      "170\n",
      "899\n",
      "540\n",
      "171\n",
      "898\n",
      "540\n",
      "177\n",
      "895\n"
     ]
    },
    {
     "name": "stderr",
     "output_type": "stream",
     "text": [
      "\n",
      "t:  97%|█████████▋| 214/221 [00:44<00:02,  2.83it/s, now=None]\u001b[A"
     ]
    },
    {
     "name": "stdout",
     "output_type": "stream",
     "text": [
      "540\n",
      "178\n",
      "890\n",
      "540\n",
      "174\n",
      "895\n",
      "540\n",
      "177\n",
      "888\n"
     ]
    },
    {
     "name": "stderr",
     "output_type": "stream",
     "text": [
      "\n",
      "t:  98%|█████████▊| 216/221 [00:44<00:01,  3.65it/s, now=None]\u001b[A\n",
      "t:  98%|█████████▊| 217/221 [00:44<00:00,  4.40it/s, now=None]\u001b[A"
     ]
    },
    {
     "name": "stdout",
     "output_type": "stream",
     "text": [
      "540\n",
      "184\n",
      "893\n",
      "540\n",
      "177\n",
      "886\n"
     ]
    },
    {
     "name": "stderr",
     "output_type": "stream",
     "text": [
      "\n",
      "t:  99%|█████████▉| 219/221 [00:44<00:00,  5.39it/s, now=None]\u001b[A"
     ]
    },
    {
     "name": "stdout",
     "output_type": "stream",
     "text": [
      "540\n",
      "176\n",
      "885\n",
      "540\n",
      "174\n",
      "883\n",
      "540\n",
      "187\n",
      "886\n"
     ]
    },
    {
     "name": "stderr",
     "output_type": "stream",
     "text": [
      "\n",
      "t: 100%|██████████| 221/221 [00:44<00:00,  6.42it/s, now=None]\u001b[A\n",
      "                                                              \u001b[A"
     ]
    },
    {
     "name": "stdout",
     "output_type": "stream",
     "text": [
      "540\n",
      "174\n",
      "881\n"
     ]
    },
    {
     "name": "stderr",
     "output_type": "stream",
     "text": [
      "t:  39%|███▉      | 98/251 [14:10<00:24,  6.30it/s, now=None]"
     ]
    },
    {
     "name": "stdout",
     "output_type": "stream",
     "text": [
      "Moviepy - Done !\n",
      "Moviepy - video ready test_videos_output/solidWhiteRight.mp4\n",
      "Wall time: 49.6 s\n"
     ]
    },
    {
     "data": {
      "image/png": "[encoded data removed]",
      "text/plain": [
       "<Figure size 432x288 with 1 Axes>"
      ]
     },
     "metadata": {
      "needs_background": "light"
     },
     "output_type": "display_data"
    }
   ],
   "source": [
    "white_output = 'test_videos_output/solidWhiteRight.mp4'\n",
    "## To speed up the testing process you may want to try your pipeline on a shorter subclip of the video\n",
    "## To do so add .subclip(start_second,end_second) to the end of the line below\n",
    "## Where start_second and end_second are integer values representing the start and end of the subclip\n",
    "## You may also uncomment the following line for a subclip of the first 5 seconds\n",
    "##clip1 = VideoFileClip(\"test_videos/solidWhiteRight.mp4\").subclip(4,5)\n",
    "clip1 = VideoFileClip(\"test_videos/solidWhiteRight.mp4\")\n",
    "white_clip = clip1.fl_image(process_image) #NOTE: this function expects color images!!\n",
    "%time white_clip.write_videofile(white_output, audio=False)"
   ]
  },
  {
   "cell_type": "markdown",
   "metadata": {},
   "source": [
    "Play the video inline, or if you prefer find the video in your filesystem (should be in the same directory) and play it in your video player of choice."
   ]
  },
  {
   "cell_type": "code",
   "execution_count": 18,
   "metadata": {},
   "outputs": [
    {
     "data": {
      "text/html": [
       "\n",
       "<video width=\"960\" height=\"540\" controls>\n",
       "  <source src=\"test_videos_output/solidWhiteRight.mp4\">\n",
       "</video>\n"
      ],
      "text/plain": [
       "<IPython.core.display.HTML object>"
      ]
     },
     "execution_count": 18,
     "metadata": {},
     "output_type": "execute_result"
    }
   ],
   "source": [
    "HTML(\"\"\"\n",
    "<video width=\"960\" height=\"540\" controls>\n",
    "  <source src=\"{0}\">\n",
    "</video>\n",
    "\"\"\".format(white_output))"
   ]
  },
  {
   "cell_type": "markdown",
   "metadata": {},
   "source": [
    "## Improve the draw_lines() function\n",
    "\n",
    "**At this point, if you were successful with making the pipeline and tuning parameters, you probably have the Hough line segments drawn onto the road, but what about identifying the full extent of the lane and marking it clearly as in the example video (P1_example.mp4)?  Think about defining a line to run the full length of the visible lane based on the line segments you identified with the Hough Transform. As mentioned previously, try to average and/or extrapolate the line segments you've detected to map out the full extent of the lane lines. You can see an example of the result you're going for in the video \"P1_example.mp4\".**\n",
    "\n",
    "**Go back and modify your draw_lines function accordingly and try re-running your pipeline. The new output should draw a single, solid line over the left lane line and a single, solid line over the right lane line. The lines should start from the bottom of the image and extend out to the top of the region of interest.**"
   ]
  },
  {
   "cell_type": "markdown",
   "metadata": {},
   "source": [
    "Now for the one with the solid yellow lane on the left. This one's more tricky!"
   ]
  },
  {
   "cell_type": "code",
   "execution_count": 13,
   "metadata": {},
   "outputs": [
    {
     "name": "stderr",
     "output_type": "stream",
     "text": [
      "t:  39%|███▉      | 98/251 [14:11<00:24,  6.30it/s, now=None]\n",
      "t:   0%|          | 0/681 [00:00<?, ?it/s, now=None]\u001b[A"
     ]
    },
    {
     "name": "stdout",
     "output_type": "stream",
     "text": [
      "540\n",
      "114\n",
      "835\n",
      "Moviepy - Building video test_videos_output/solidYellowLeft.mp4.\n",
      "Moviepy - Writing video test_videos_output/solidYellowLeft.mp4\n",
      "\n",
      "540\n",
      "114\n",
      "835\n"
     ]
    },
    {
     "name": "stderr",
     "output_type": "stream",
     "text": [
      "\n",
      "t:   0%|          | 2/681 [00:00<00:43, 15.63it/s, now=None]\u001b[A\n",
      "t:   0%|          | 3/681 [00:00<00:51, 13.06it/s, now=None]\u001b[A"
     ]
    },
    {
     "name": "stdout",
     "output_type": "stream",
     "text": [
      "540\n",
      "112\n",
      "838\n",
      "540\n",
      "117\n",
      "835\n"
     ]
    },
    {
     "name": "stderr",
     "output_type": "stream",
     "text": [
      "\n",
      "t:   1%|          | 4/681 [00:00<01:06, 10.18it/s, now=None]\u001b[A\n",
      "t:   1%|          | 5/681 [00:00<01:19,  8.52it/s, now=None]\u001b[A"
     ]
    },
    {
     "name": "stdout",
     "output_type": "stream",
     "text": [
      "540\n",
      "121\n",
      "828\n",
      "540\n",
      "136\n",
      "828\n"
     ]
    },
    {
     "name": "stderr",
     "output_type": "stream",
     "text": [
      "\n",
      "t:   1%|          | 6/681 [00:00<01:15,  8.89it/s, now=None]\u001b[A\n",
      "t:   1%|          | 7/681 [00:00<01:14,  9.00it/s, now=None]\u001b[A"
     ]
    },
    {
     "name": "stdout",
     "output_type": "stream",
     "text": [
      "540\n",
      "143\n",
      "828\n",
      "540\n",
      "151\n",
      "829\n"
     ]
    },
    {
     "name": "stderr",
     "output_type": "stream",
     "text": [
      "\n",
      "t:   1%|          | 8/681 [00:00<01:15,  8.86it/s, now=None]\u001b[A\n",
      "t:   1%|▏         | 10/681 [00:01<01:13,  9.19it/s, now=None]\u001b[A"
     ]
    },
    {
     "name": "stdout",
     "output_type": "stream",
     "text": [
      "540\n",
      "139\n",
      "826\n",
      "540\n",
      "152\n",
      "837\n",
      "540"
     ]
    },
    {
     "name": "stderr",
     "output_type": "stream",
     "text": [
      "\n",
      "t:   2%|▏         | 11/681 [00:01<01:11,  9.36it/s, now=None]\u001b[A"
     ]
    },
    {
     "name": "stdout",
     "output_type": "stream",
     "text": [
      "\n",
      "134\n",
      "839\n",
      "540\n",
      "149\n",
      "840\n"
     ]
    },
    {
     "name": "stderr",
     "output_type": "stream",
     "text": [
      "\n",
      "t:   2%|▏         | 12/681 [00:04<12:34,  1.13s/it, now=None]\u001b[A\n",
      "t:   2%|▏         | 14/681 [00:04<09:03,  1.23it/s, now=None]\u001b[A"
     ]
    },
    {
     "name": "stdout",
     "output_type": "stream",
     "text": [
      "540\n",
      "130\n",
      "849\n",
      "540\n",
      "145\n",
      "843\n",
      "540\n",
      "147\n",
      "839\n"
     ]
    },
    {
     "name": "stderr",
     "output_type": "stream",
     "text": [
      "\n",
      "t:   2%|▏         | 16/681 [00:05<06:35,  1.68it/s, now=None]\u001b[A"
     ]
    },
    {
     "name": "stdout",
     "output_type": "stream",
     "text": [
      "540\n",
      "140\n",
      "831\n",
      "540\n",
      "149\n",
      "850\n",
      "540\n",
      "143\n",
      "845\n"
     ]
    },
    {
     "name": "stderr",
     "output_type": "stream",
     "text": [
      "\n",
      "t:   3%|▎         | 18/681 [00:05<04:52,  2.27it/s, now=None]\u001b[A\n",
      "t:   3%|▎         | 20/681 [00:05<03:43,  2.95it/s, now=None]"
     ]
    },
    {
     "name": "stdout",
     "output_type": "stream",
     "text": [
      "540\n",
      "149\n",
      "844\n",
      "540\n",
      "167\n",
      "849\n"
     ]
    },
    {
     "name": "stderr",
     "output_type": "stream",
     "text": [
      "\u001b[A\n",
      "t:   3%|▎         | 22/681 [00:05<02:48,  3.92it/s, now=None]\u001b[A"
     ]
    },
    {
     "name": "stdout",
     "output_type": "stream",
     "text": [
      "540\n",
      "144\n",
      "850\n",
      "540\n",
      "143\n",
      "857\n",
      "540\n",
      "165\n",
      "861\n",
      "540\n",
      "157\n",
      "851\n"
     ]
    },
    {
     "name": "stderr",
     "output_type": "stream",
     "text": [
      "\n",
      "t:   4%|▎         | 24/681 [00:05<02:11,  5.01it/s, now=None]\u001b[A\n",
      "t:   4%|▍         | 26/681 [00:05<01:45,  6.21it/s, now=None]\u001b[A"
     ]
    },
    {
     "name": "stdout",
     "output_type": "stream",
     "text": [
      "540\n",
      "157\n",
      "846\n",
      "540\n",
      "164\n",
      "852\n",
      "540\n",
      "156\n",
      "853\n"
     ]
    },
    {
     "name": "stderr",
     "output_type": "stream",
     "text": [
      "\n",
      "t:   4%|▍         | 28/681 [00:05<01:26,  7.58it/s, now=None]\u001b[A\n",
      "t:   4%|▍         | 30/681 [00:06<01:12,  9.04it/s, now=None]\u001b[A"
     ]
    },
    {
     "name": "stdout",
     "output_type": "stream",
     "text": [
      "540\n",
      "176\n",
      "857\n",
      "540\n",
      "155\n",
      "859\n",
      "540\n",
      "160\n",
      "860\n",
      "540"
     ]
    },
    {
     "name": "stderr",
     "output_type": "stream",
     "text": [
      "\n",
      "t:   5%|▍         | 32/681 [00:06<01:03, 10.22it/s, now=None]\u001b[A"
     ]
    },
    {
     "name": "stdout",
     "output_type": "stream",
     "text": [
      "\n",
      "156\n",
      "862\n",
      "540\n",
      "165\n",
      "852\n",
      "540\n",
      "154\n",
      "843\n"
     ]
    },
    {
     "name": "stderr",
     "output_type": "stream",
     "text": [
      "\n",
      "t:   5%|▍         | 34/681 [00:06<00:58, 11.08it/s, now=None]\u001b[A"
     ]
    },
    {
     "name": "stdout",
     "output_type": "stream",
     "text": [
      "540\n",
      "162\n",
      "876\n",
      "540\n",
      "162\n",
      "880\n",
      "540\n",
      "161\n",
      "857\n"
     ]
    },
    {
     "name": "stderr",
     "output_type": "stream",
     "text": [
      "\n",
      "t:   5%|▌         | 36/681 [00:06<00:56, 11.48it/s, now=None]\u001b[A\n",
      "t:   6%|▌         | 38/681 [00:06<00:53, 11.98it/s, now=None]\u001b[A"
     ]
    },
    {
     "name": "stdout",
     "output_type": "stream",
     "text": [
      "540\n",
      "162\n",
      "863\n",
      "540\n",
      "158\n",
      "862\n",
      "540\n",
      "159\n",
      "867\n",
      "540\n",
      "160\n",
      "873\n"
     ]
    },
    {
     "name": "stderr",
     "output_type": "stream",
     "text": [
      "\n",
      "t:   6%|▌         | 40/681 [00:06<01:08,  9.40it/s, now=None]\u001b[A"
     ]
    },
    {
     "name": "stdout",
     "output_type": "stream",
     "text": [
      "540\n",
      "156\n",
      "867\n"
     ]
    },
    {
     "name": "stderr",
     "output_type": "stream",
     "text": [
      "\n",
      "t:   6%|▌         | 42/681 [00:09<05:30,  1.93it/s, now=None]\u001b[A"
     ]
    },
    {
     "name": "stdout",
     "output_type": "stream",
     "text": [
      "540\n",
      "153\n",
      "872\n",
      "540\n",
      "150\n",
      "870\n"
     ]
    },
    {
     "name": "stderr",
     "output_type": "stream",
     "text": [
      "\n",
      "t:   6%|▋         | 43/681 [00:10<04:13,  2.52it/s, now=None]\u001b[A\n",
      "t:   6%|▋         | 44/681 [00:10<03:21,  3.17it/s, now=None]\u001b[A"
     ]
    },
    {
     "name": "stdout",
     "output_type": "stream",
     "text": [
      "540\n",
      "158\n",
      "871\n",
      "540\n",
      "156\n",
      "854\n"
     ]
    },
    {
     "name": "stderr",
     "output_type": "stream",
     "text": [
      "\n",
      "t:   7%|▋         | 45/681 [00:10<02:47,  3.79it/s, now=None]\u001b[A\n",
      "t:   7%|▋         | 47/681 [00:10<02:12,  4.80it/s, now=None]\u001b[A"
     ]
    },
    {
     "name": "stdout",
     "output_type": "stream",
     "text": [
      "540\n",
      "156\n",
      "858\n",
      "540\n",
      "155\n",
      "860\n",
      "540\n",
      "156\n",
      "854\n"
     ]
    },
    {
     "name": "stderr",
     "output_type": "stream",
     "text": [
      "\n",
      "t:   7%|▋         | 49/681 [00:10<01:47,  5.88it/s, now=None]\u001b[A"
     ]
    },
    {
     "name": "stdout",
     "output_type": "stream",
     "text": [
      "540\n",
      "156\n",
      "861\n",
      "540\n",
      "153\n",
      "871\n",
      "540\n",
      "146\n",
      "863\n"
     ]
    },
    {
     "name": "stderr",
     "output_type": "stream",
     "text": [
      "\n",
      "t:   7%|▋         | 51/681 [00:10<01:29,  7.05it/s, now=None]\u001b[A\n"
     ]
    },
    {
     "name": "stdout",
     "output_type": "stream",
     "text": [
      "540\n",
      "147\n",
      "859\n",
      "540\n",
      "147\n",
      "871\n"
     ]
    },
    {
     "name": "stderr",
     "output_type": "stream",
     "text": [
      "t:   8%|▊         | 53/681 [00:10<01:21,  7.66it/s, now=None]\u001b[A\n",
      "t:   8%|▊         | 55/681 [00:11<01:13,  8.48it/s, now=None]\u001b[A"
     ]
    },
    {
     "name": "stdout",
     "output_type": "stream",
     "text": [
      "540\n",
      "144\n",
      "848\n",
      "540\n",
      "150\n",
      "871\n",
      "540\n",
      "151\n",
      "864\n"
     ]
    },
    {
     "name": "stderr",
     "output_type": "stream",
     "text": [
      "\n",
      "t:   8%|▊         | 57/681 [00:11<01:07,  9.22it/s, now=None]\u001b[A"
     ]
    },
    {
     "name": "stdout",
     "output_type": "stream",
     "text": [
      "540\n",
      "155\n",
      "862\n",
      "540\n",
      "154\n",
      "870\n",
      "540\n",
      "147\n",
      "849\n"
     ]
    },
    {
     "name": "stderr",
     "output_type": "stream",
     "text": [
      "\n",
      "t:   9%|▊         | 59/681 [00:11<01:03,  9.81it/s, now=None]\u001b[A\n",
      "t:   9%|▉         | 61/681 [00:11<00:58, 10.62it/s, now=None]\u001b[A"
     ]
    },
    {
     "name": "stdout",
     "output_type": "stream",
     "text": [
      "540\n",
      "158\n",
      "850\n",
      "540\n",
      "146\n",
      "867\n",
      "540\n",
      "146\n",
      "863\n"
     ]
    },
    {
     "name": "stderr",
     "output_type": "stream",
     "text": [
      "\n",
      "t:   9%|▉         | 63/681 [00:11<00:56, 11.03it/s, now=None]\u001b[A"
     ]
    },
    {
     "name": "stdout",
     "output_type": "stream",
     "text": [
      "540\n",
      "145\n",
      "861\n",
      "540\n",
      "135\n",
      "853\n",
      "540\n",
      "142\n",
      "864\n"
     ]
    },
    {
     "name": "stderr",
     "output_type": "stream",
     "text": [
      "\n",
      "t:  10%|▉         | 65/681 [00:11<00:54, 11.38it/s, now=None]\u001b[A\n",
      "t:  10%|▉         | 67/681 [00:12<00:52, 11.75it/s, now=None]\u001b[A"
     ]
    },
    {
     "name": "stdout",
     "output_type": "stream",
     "text": [
      "540\n",
      "145\n",
      "844\n",
      "540\n",
      "137\n",
      "858\n",
      "540\n",
      "143\n",
      "856\n",
      "540\n",
      "146\n",
      "846\n"
     ]
    },
    {
     "name": "stderr",
     "output_type": "stream",
     "text": [
      "\n",
      "t:  10%|█         | 69/681 [00:14<04:33,  2.24it/s, now=None]\u001b[A"
     ]
    },
    {
     "name": "stdout",
     "output_type": "stream",
     "text": [
      "540\n",
      "140\n",
      "843\n"
     ]
    },
    {
     "name": "stderr",
     "output_type": "stream",
     "text": [
      "\n",
      "t:  10%|█         | 70/681 [00:15<04:38,  2.19it/s, now=None]\u001b[A\n",
      "t:  11%|█         | 72/681 [00:15<03:27,  2.93it/s, now=None]\u001b[A"
     ]
    },
    {
     "name": "stdout",
     "output_type": "stream",
     "text": [
      "540\n",
      "146\n",
      "849\n",
      "540\n",
      "142\n",
      "848\n",
      "540\n",
      "157\n",
      "849\n"
     ]
    },
    {
     "name": "stderr",
     "output_type": "stream",
     "text": [
      "\n",
      "t:  11%|█         | 74/681 [00:15<02:39,  3.81it/s, now=None]\u001b[A"
     ]
    },
    {
     "name": "stdout",
     "output_type": "stream",
     "text": [
      "540\n",
      "143\n",
      "841\n",
      "540\n",
      "143\n",
      "841\n",
      "540\n",
      "150\n",
      "841\n"
     ]
    },
    {
     "name": "stderr",
     "output_type": "stream",
     "text": [
      "\n",
      "t:  11%|█         | 76/681 [00:15<02:05,  4.84it/s, now=None]\u001b[A"
     ]
    },
    {
     "name": "stdout",
     "output_type": "stream",
     "text": [
      "540\n",
      "148\n",
      "855\n",
      "540\n",
      "153\n",
      "845\n"
     ]
    },
    {
     "name": "stderr",
     "output_type": "stream",
     "text": [
      "\n",
      "t:  11%|█▏        | 78/681 [00:15<01:48,  5.53it/s, now=None]\u001b[A\n",
      "t:  12%|█▏        | 80/681 [00:16<01:28,  6.77it/s, now=None]\u001b[A"
     ]
    },
    {
     "name": "stdout",
     "output_type": "stream",
     "text": [
      "540\n",
      "146\n",
      "835\n",
      "540\n",
      "144\n",
      "843\n",
      "540\n",
      "153\n",
      "850\n"
     ]
    },
    {
     "name": "stderr",
     "output_type": "stream",
     "text": [
      "\n",
      "t:  12%|█▏        | 82/681 [00:16<01:15,  7.94it/s, now=None]\u001b[A"
     ]
    },
    {
     "name": "stdout",
     "output_type": "stream",
     "text": [
      "540\n",
      "146\n",
      "832\n",
      "540\n",
      "145\n",
      "844\n",
      "540\n",
      "142\n",
      "836\n"
     ]
    },
    {
     "name": "stderr",
     "output_type": "stream",
     "text": [
      "\n",
      "t:  12%|█▏        | 84/681 [00:16<01:05,  9.06it/s, now=None]\u001b[A\n",
      "t:  13%|█▎        | 86/681 [00:16<01:02,  9.50it/s, now=None]\u001b[A"
     ]
    },
    {
     "name": "stdout",
     "output_type": "stream",
     "text": [
      "540\n",
      "140\n",
      "843\n",
      "540\n",
      "149\n",
      "845\n",
      "540"
     ]
    },
    {
     "name": "stderr",
     "output_type": "stream",
     "text": [
      "\n",
      "t:  13%|█▎        | 88/681 [00:16<00:57, 10.27it/s, now=None]\u001b[A"
     ]
    },
    {
     "name": "stdout",
     "output_type": "stream",
     "text": [
      "\n",
      "149\n",
      "837\n",
      "540\n",
      "146\n",
      "837\n",
      "540\n",
      "139\n",
      "850\n"
     ]
    },
    {
     "name": "stderr",
     "output_type": "stream",
     "text": [
      "\n",
      "t:  13%|█▎        | 90/681 [00:16<00:54, 10.94it/s, now=None]\u001b[A"
     ]
    },
    {
     "name": "stdout",
     "output_type": "stream",
     "text": [
      "540\n",
      "142\n",
      "841\n",
      "540\n",
      "133\n",
      "854\n",
      "540\n",
      "137\n",
      "840\n"
     ]
    },
    {
     "name": "stderr",
     "output_type": "stream",
     "text": [
      "\n",
      "t:  14%|█▎        | 92/681 [00:17<00:58, 10.03it/s, now=None]\u001b[A\n",
      "t:  14%|█▍        | 94/681 [00:17<00:56, 10.35it/s, now=None]\u001b[A"
     ]
    },
    {
     "name": "stdout",
     "output_type": "stream",
     "text": [
      "540\n",
      "142\n",
      "831\n",
      "540\n",
      "141\n",
      "840\n",
      "540\n",
      "147\n",
      "832\n"
     ]
    },
    {
     "name": "stderr",
     "output_type": "stream",
     "text": [
      "\n",
      "t:  14%|█▍        | 96/681 [00:17<00:52, 11.22it/s, now=None]\u001b[A"
     ]
    },
    {
     "name": "stdout",
     "output_type": "stream",
     "text": [
      "540\n",
      "147\n",
      "837\n",
      "540\n",
      "150\n",
      "830\n",
      "540\n",
      "149\n",
      "830\n"
     ]
    },
    {
     "name": "stderr",
     "output_type": "stream",
     "text": [
      "\n",
      "t:  14%|█▍        | 98/681 [00:17<00:49, 11.83it/s, now=None]\u001b[A"
     ]
    },
    {
     "name": "stdout",
     "output_type": "stream",
     "text": [
      "540\n",
      "153\n",
      "838\n",
      "540\n",
      "145\n",
      "838\n"
     ]
    },
    {
     "name": "stderr",
     "output_type": "stream",
     "text": [
      "\n",
      "t:  15%|█▍        | 100/681 [00:20<05:05,  1.90it/s, now=None]\u001b[A\n",
      "t:  15%|█▍        | 101/681 [00:20<03:58,  2.43it/s, now=None]\u001b[A"
     ]
    },
    {
     "name": "stdout",
     "output_type": "stream",
     "text": [
      "540\n",
      "154\n",
      "836\n",
      "540\n",
      "146\n",
      "838\n"
     ]
    },
    {
     "name": "stderr",
     "output_type": "stream",
     "text": [
      "\n",
      "t:  15%|█▍        | 102/681 [00:20<03:20,  2.89it/s, now=None]\u001b[A\n",
      "t:  15%|█▌        | 103/681 [00:21<02:53,  3.34it/s, now=None]\u001b[A"
     ]
    },
    {
     "name": "stdout",
     "output_type": "stream",
     "text": [
      "540\n",
      "154\n",
      "857\n",
      "540"
     ]
    },
    {
     "name": "stderr",
     "output_type": "stream",
     "text": [
      "\n",
      "t:  15%|█▌        | 105/681 [00:21<02:15,  4.26it/s, now=None]\u001b[A"
     ]
    },
    {
     "name": "stdout",
     "output_type": "stream",
     "text": [
      "\n",
      "151\n",
      "844\n",
      "540\n",
      "148\n",
      "841\n",
      "540\n",
      "141\n",
      "843\n"
     ]
    },
    {
     "name": "stderr",
     "output_type": "stream",
     "text": [
      "\n",
      "t:  16%|█▌        | 107/681 [00:21<01:49,  5.26it/s, now=None]\u001b[A"
     ]
    },
    {
     "name": "stdout",
     "output_type": "stream",
     "text": [
      "540\n",
      "149\n",
      "836\n",
      "540\n",
      "144\n",
      "831\n",
      "540\n",
      "143\n",
      "842\n"
     ]
    },
    {
     "name": "stderr",
     "output_type": "stream",
     "text": [
      "\n",
      "t:  16%|█▌        | 109/681 [00:21<01:30,  6.29it/s, now=None]\u001b[A\n",
      "t:  16%|█▌        | 110/681 [00:21<01:21,  7.02it/s, now=None]\u001b[A\n"
     ]
    },
    {
     "name": "stdout",
     "output_type": "stream",
     "text": [
      "540\n",
      "154\n",
      "838\n",
      "540\n",
      "146\n",
      "848\n"
     ]
    },
    {
     "name": "stderr",
     "output_type": "stream",
     "text": [
      "t:  16%|█▋        | 111/681 [00:21<01:17,  7.40it/s, now=None]\u001b[A\n",
      "t:  16%|█▋        | 112/681 [00:22<01:15,  7.55it/s, now=None]\u001b[A"
     ]
    },
    {
     "name": "stdout",
     "output_type": "stream",
     "text": [
      "540\n",
      "140\n",
      "850\n",
      "540\n",
      "144\n",
      "835\n"
     ]
    },
    {
     "name": "stderr",
     "output_type": "stream",
     "text": [
      "\n",
      "t:  17%|█▋        | 113/681 [00:22<01:13,  7.74it/s, now=None]\u001b[A\n",
      "t:  17%|█▋        | 114/681 [00:22<01:13,  7.74it/s, now=None]\u001b[A"
     ]
    },
    {
     "name": "stdout",
     "output_type": "stream",
     "text": [
      "540\n",
      "148\n",
      "845\n",
      "540\n",
      "145\n",
      "843\n"
     ]
    },
    {
     "name": "stderr",
     "output_type": "stream",
     "text": [
      "\n",
      "t:  17%|█▋        | 115/681 [00:22<01:19,  7.08it/s, now=None]\u001b[A\n",
      "t:  17%|█▋        | 116/681 [00:22<01:21,  6.97it/s, now=None]\u001b[A"
     ]
    },
    {
     "name": "stdout",
     "output_type": "stream",
     "text": [
      "540\n",
      "151\n",
      "847\n",
      "540\n",
      "150\n",
      "849\n"
     ]
    },
    {
     "name": "stderr",
     "output_type": "stream",
     "text": [
      "\n",
      "t:  17%|█▋        | 117/681 [00:22<01:24,  6.67it/s, now=None]\u001b[A"
     ]
    },
    {
     "name": "stdout",
     "output_type": "stream",
     "text": [
      "540\n",
      "148\n",
      "844\n"
     ]
    },
    {
     "name": "stderr",
     "output_type": "stream",
     "text": [
      "\n",
      "t:  17%|█▋        | 118/681 [00:23<01:44,  5.39it/s, now=None]\u001b[A\n",
      "t:  17%|█▋        | 119/681 [00:23<01:32,  6.06it/s, now=None]\u001b[A"
     ]
    },
    {
     "name": "stdout",
     "output_type": "stream",
     "text": [
      "540\n",
      "141\n",
      "841\n",
      "540\n",
      "148\n",
      "849\n"
     ]
    },
    {
     "name": "stderr",
     "output_type": "stream",
     "text": [
      "\n",
      "t:  18%|█▊        | 120/681 [00:23<01:25,  6.58it/s, now=None]\u001b[A\n",
      "t:  18%|█▊        | 121/681 [00:23<01:26,  6.46it/s, now=None]\u001b[A"
     ]
    },
    {
     "name": "stdout",
     "output_type": "stream",
     "text": [
      "540\n",
      "144\n",
      "847\n",
      "540\n",
      "150\n",
      "841\n"
     ]
    },
    {
     "name": "stderr",
     "output_type": "stream",
     "text": [
      "\n",
      "t:  18%|█▊        | 122/681 [00:26<10:13,  1.10s/it, now=None]\u001b[A\n",
      "t:  18%|█▊        | 123/681 [00:26<07:28,  1.24it/s, now=None]\u001b[A"
     ]
    },
    {
     "name": "stdout",
     "output_type": "stream",
     "text": [
      "540\n",
      "143\n",
      "847\n",
      "540\n",
      "150\n",
      "838\n",
      "540"
     ]
    },
    {
     "name": "stderr",
     "output_type": "stream",
     "text": [
      "\n",
      "t:  18%|█▊        | 125/681 [00:27<05:27,  1.70it/s, now=None]\u001b[A"
     ]
    },
    {
     "name": "stdout",
     "output_type": "stream",
     "text": [
      "\n",
      "148\n",
      "846\n",
      "540\n",
      "144\n",
      "845\n"
     ]
    },
    {
     "name": "stderr",
     "output_type": "stream",
     "text": [
      "\n",
      "t:  19%|█▊        | 126/681 [00:27<04:07,  2.24it/s, now=None]\u001b[A\n",
      "t:  19%|█▊        | 127/681 [00:27<03:16,  2.81it/s, now=None]\u001b[A"
     ]
    },
    {
     "name": "stdout",
     "output_type": "stream",
     "text": [
      "540\n",
      "155\n",
      "847\n",
      "540\n",
      "144\n",
      "842\n"
     ]
    },
    {
     "name": "stderr",
     "output_type": "stream",
     "text": [
      "\n",
      "t:  19%|█▉        | 128/681 [00:27<02:37,  3.51it/s, now=None]\u001b[A\n",
      "t:  19%|█▉        | 129/681 [00:27<02:09,  4.25it/s, now=None]\u001b[A"
     ]
    },
    {
     "name": "stdout",
     "output_type": "stream",
     "text": [
      "540\n",
      "148\n",
      "853\n",
      "540\n",
      "147\n",
      "854\n"
     ]
    },
    {
     "name": "stderr",
     "output_type": "stream",
     "text": [
      "\n",
      "t:  19%|█▉        | 130/681 [00:27<01:51,  4.94it/s, now=None]\u001b[A\n",
      "t:  19%|█▉        | 131/681 [00:27<01:36,  5.72it/s, now=None]\u001b[A\n"
     ]
    },
    {
     "name": "stdout",
     "output_type": "stream",
     "text": [
      "540\n",
      "149\n",
      "848\n",
      "540\n",
      "160\n",
      "851\n"
     ]
    },
    {
     "name": "stderr",
     "output_type": "stream",
     "text": [
      "t:  19%|█▉        | 132/681 [00:27<01:23,  6.54it/s, now=None]\u001b[A\n",
      "t:  20%|█▉        | 134/681 [00:28<01:11,  7.66it/s, now=None]\u001b[A"
     ]
    },
    {
     "name": "stdout",
     "output_type": "stream",
     "text": [
      "540\n",
      "147\n",
      "844\n",
      "540\n",
      "155\n",
      "850\n",
      "540\n",
      "145\n",
      "853\n"
     ]
    },
    {
     "name": "stderr",
     "output_type": "stream",
     "text": [
      "\n",
      "t:  20%|█▉        | 135/681 [00:28<01:09,  7.82it/s, now=None]\u001b[A\n",
      "t:  20%|█▉        | 136/681 [00:28<01:12,  7.55it/s, now=None]\u001b[A"
     ]
    },
    {
     "name": "stdout",
     "output_type": "stream",
     "text": [
      "540\n",
      "149\n",
      "854\n",
      "540\n",
      "152\n",
      "847\n"
     ]
    },
    {
     "name": "stderr",
     "output_type": "stream",
     "text": [
      "\n",
      "t:  20%|██        | 137/681 [00:28<01:11,  7.65it/s, now=None]\u001b[A\n",
      "t:  20%|██        | 138/681 [00:28<01:12,  7.50it/s, now=None]\u001b[A"
     ]
    },
    {
     "name": "stdout",
     "output_type": "stream",
     "text": [
      "540\n",
      "147\n",
      "863\n",
      "540\n",
      "150\n",
      "850\n"
     ]
    },
    {
     "name": "stderr",
     "output_type": "stream",
     "text": [
      "\n",
      "t:  20%|██        | 139/681 [00:28<01:17,  7.02it/s, now=None]\u001b[A\n",
      "t:  21%|██        | 141/681 [00:28<01:07,  7.98it/s, now=None]\u001b[A"
     ]
    },
    {
     "name": "stdout",
     "output_type": "stream",
     "text": [
      "540\n",
      "156\n",
      "853\n",
      "540\n",
      "145\n",
      "846\n",
      "540\n",
      "148\n",
      "846\n"
     ]
    },
    {
     "name": "stderr",
     "output_type": "stream",
     "text": [
      "\n",
      "t:  21%|██        | 142/681 [00:32<10:39,  1.19s/it, now=None]\u001b[A\n",
      "t:  21%|██        | 144/681 [00:32<07:38,  1.17it/s, now=None]\u001b[A"
     ]
    },
    {
     "name": "stdout",
     "output_type": "stream",
     "text": [
      "540\n",
      "148\n",
      "854\n",
      "540\n",
      "149\n",
      "852\n",
      "540\n",
      "153\n",
      "859\n"
     ]
    },
    {
     "name": "stderr",
     "output_type": "stream",
     "text": [
      "\n",
      "t:  21%|██▏       | 146/681 [00:32<05:34,  1.60it/s, now=None]\u001b[A"
     ]
    },
    {
     "name": "stdout",
     "output_type": "stream",
     "text": [
      "540\n",
      "152\n",
      "855\n",
      "540\n",
      "147\n",
      "856\n"
     ]
    },
    {
     "name": "stderr",
     "output_type": "stream",
     "text": [
      "\n",
      "t:  22%|██▏       | 147/681 [00:33<04:15,  2.09it/s, now=None]\u001b[A\n",
      "t:  22%|██▏       | 148/681 [00:33<03:24,  2.61it/s, now=None]\u001b[A"
     ]
    },
    {
     "name": "stdout",
     "output_type": "stream",
     "text": [
      "540\n",
      "153\n",
      "853\n",
      "540\n",
      "152\n",
      "855\n"
     ]
    },
    {
     "name": "stderr",
     "output_type": "stream",
     "text": [
      "\n",
      "t:  22%|██▏       | 149/681 [00:33<02:44,  3.23it/s, now=None]\u001b[A\n",
      "t:  22%|██▏       | 150/681 [00:33<02:15,  3.93it/s, now=None]\u001b[A"
     ]
    },
    {
     "name": "stdout",
     "output_type": "stream",
     "text": [
      "540\n",
      "156\n",
      "861\n",
      "540\n",
      "154\n",
      "853\n"
     ]
    },
    {
     "name": "stderr",
     "output_type": "stream",
     "text": [
      "\n",
      "t:  22%|██▏       | 151/681 [00:33<01:59,  4.43it/s, now=None]\u001b[A\n",
      "t:  22%|██▏       | 152/681 [00:33<01:45,  5.03it/s, now=None]\u001b[A"
     ]
    },
    {
     "name": "stdout",
     "output_type": "stream",
     "text": [
      "540\n",
      "152\n",
      "866\n",
      "540\n",
      "156\n",
      "868\n"
     ]
    },
    {
     "name": "stderr",
     "output_type": "stream",
     "text": [
      "\n",
      "t:  22%|██▏       | 153/681 [00:33<01:36,  5.48it/s, now=None]\u001b[A"
     ]
    },
    {
     "name": "stdout",
     "output_type": "stream",
     "text": [
      "540\n",
      "153\n",
      "863\n"
     ]
    },
    {
     "name": "stderr",
     "output_type": "stream",
     "text": [
      "\n",
      "t:  23%|██▎       | 154/681 [00:34<02:07,  4.15it/s, now=None]\u001b[A\n",
      "t:  23%|██▎       | 155/681 [00:34<01:52,  4.69it/s, now=None]\u001b[A"
     ]
    },
    {
     "name": "stdout",
     "output_type": "stream",
     "text": [
      "540\n",
      "150\n",
      "858\n",
      "540\n",
      "155\n",
      "862\n"
     ]
    },
    {
     "name": "stderr",
     "output_type": "stream",
     "text": [
      "\n",
      "t:  23%|██▎       | 157/681 [00:34<01:32,  5.66it/s, now=None]\u001b[A"
     ]
    },
    {
     "name": "stdout",
     "output_type": "stream",
     "text": [
      "540\n",
      "153\n",
      "862\n",
      "540\n",
      "154\n",
      "868\n"
     ]
    },
    {
     "name": "stderr",
     "output_type": "stream",
     "text": [
      "\n",
      "t:  23%|██▎       | 158/681 [00:34<01:26,  6.05it/s, now=None]\u001b[A\n",
      "t:  23%|██▎       | 159/681 [00:34<01:19,  6.55it/s, now=None]\u001b[A"
     ]
    },
    {
     "name": "stdout",
     "output_type": "stream",
     "text": [
      "540\n",
      "160\n",
      "863\n",
      "540\n",
      "155\n",
      "867\n"
     ]
    },
    {
     "name": "stderr",
     "output_type": "stream",
     "text": [
      "\n",
      "t:  23%|██▎       | 160/681 [00:34<01:17,  6.71it/s, now=None]\u001b[A\n",
      "t:  24%|██▎       | 161/681 [00:35<01:13,  7.09it/s, now=None]\u001b[A"
     ]
    },
    {
     "name": "stdout",
     "output_type": "stream",
     "text": [
      "540\n",
      "158\n",
      "871\n",
      "540\n",
      "165\n",
      "866\n"
     ]
    },
    {
     "name": "stderr",
     "output_type": "stream",
     "text": [
      "\n",
      "t:  24%|██▍       | 162/681 [00:36<04:19,  2.00it/s, now=None]\u001b[A"
     ]
    },
    {
     "name": "stdout",
     "output_type": "stream",
     "text": [
      "540\n",
      "167\n",
      "863\n"
     ]
    },
    {
     "name": "stderr",
     "output_type": "stream",
     "text": [
      "\n",
      "t:  24%|██▍       | 163/681 [00:38<07:58,  1.08it/s, now=None]\u001b[A\n",
      "t:  24%|██▍       | 165/681 [00:38<05:45,  1.49it/s, now=None]\u001b[A"
     ]
    },
    {
     "name": "stdout",
     "output_type": "stream",
     "text": [
      "540\n",
      "173\n",
      "866\n",
      "540\n",
      "164\n",
      "871\n",
      "540\n",
      "165\n",
      "866\n"
     ]
    },
    {
     "name": "stderr",
     "output_type": "stream",
     "text": [
      "\n",
      "t:  24%|██▍       | 166/681 [00:38<04:18,  2.00it/s, now=None]\u001b[A\n",
      "t:  25%|██▍       | 167/681 [00:38<03:15,  2.62it/s, now=None]\u001b[A"
     ]
    },
    {
     "name": "stdout",
     "output_type": "stream",
     "text": [
      "540\n",
      "161\n",
      "875\n",
      "540\n",
      "162\n",
      "873\n",
      "540\n",
      "161\n",
      "873\n"
     ]
    },
    {
     "name": "stderr",
     "output_type": "stream",
     "text": [
      "\n",
      "t:  25%|██▍       | 169/681 [00:38<02:29,  3.42it/s, now=None]\u001b[A\n",
      "t:  25%|██▌       | 171/681 [00:39<01:57,  4.33it/s, now=None]\u001b[A"
     ]
    },
    {
     "name": "stdout",
     "output_type": "stream",
     "text": [
      "540\n",
      "166\n",
      "880\n",
      "540\n",
      "167\n",
      "881\n",
      "540\n",
      "178\n",
      "875\n"
     ]
    },
    {
     "name": "stderr",
     "output_type": "stream",
     "text": [
      "\n",
      "t:  25%|██▌       | 172/681 [00:39<01:39,  5.14it/s, now=None]\u001b[A"
     ]
    },
    {
     "name": "stdout",
     "output_type": "stream",
     "text": [
      "540\n",
      "173\n",
      "878\n",
      "540\n",
      "174\n",
      "875\n"
     ]
    },
    {
     "name": "stderr",
     "output_type": "stream",
     "text": [
      "\n",
      "t:  26%|██▌       | 174/681 [00:39<01:27,  5.80it/s, now=None]\u001b[A\n",
      "t:  26%|██▌       | 175/681 [00:39<01:29,  5.64it/s, now=None]\u001b[A"
     ]
    },
    {
     "name": "stdout",
     "output_type": "stream",
     "text": [
      "540\n",
      "171\n",
      "881\n",
      "540"
     ]
    },
    {
     "name": "stderr",
     "output_type": "stream",
     "text": [
      "\n",
      "t:  26%|██▌       | 176/681 [00:39<01:28,  5.73it/s, now=None]\u001b[A"
     ]
    },
    {
     "name": "stdout",
     "output_type": "stream",
     "text": [
      "\n",
      "178\n",
      "871\n",
      "540\n",
      "174\n",
      "880\n"
     ]
    },
    {
     "name": "stderr",
     "output_type": "stream",
     "text": [
      "\n",
      "t:  26%|██▌       | 177/681 [00:40<01:59,  4.21it/s, now=None]\u001b[A\n",
      "t:  26%|██▌       | 178/681 [00:40<01:45,  4.79it/s, now=None]\u001b[A"
     ]
    },
    {
     "name": "stdout",
     "output_type": "stream",
     "text": [
      "540\n",
      "180\n",
      "885\n",
      "540\n",
      "182\n",
      "881\n"
     ]
    },
    {
     "name": "stderr",
     "output_type": "stream",
     "text": [
      "\n",
      "t:  26%|██▋       | 179/681 [00:40<01:36,  5.18it/s, now=None]\u001b[A\n",
      "t:  26%|██▋       | 180/681 [00:40<01:23,  6.02it/s, now=None]\u001b[A"
     ]
    },
    {
     "name": "stdout",
     "output_type": "stream",
     "text": [
      "540\n",
      "178\n",
      "881\n",
      "540\n",
      "183\n",
      "879\n",
      "540"
     ]
    },
    {
     "name": "stderr",
     "output_type": "stream",
     "text": [
      "\n",
      "t:  27%|██▋       | 182/681 [00:40<01:11,  6.99it/s, now=None]\u001b[A"
     ]
    },
    {
     "name": "stdout",
     "output_type": "stream",
     "text": [
      "\n",
      "177\n",
      "885\n",
      "540\n",
      "178\n",
      "884\n"
     ]
    },
    {
     "name": "stderr",
     "output_type": "stream",
     "text": [
      "\n",
      "t:  27%|██▋       | 183/681 [00:44<08:57,  1.08s/it, now=None]\u001b[A\n",
      "t:  27%|██▋       | 184/681 [00:44<06:32,  1.27it/s, now=None]\u001b[A"
     ]
    },
    {
     "name": "stdout",
     "output_type": "stream",
     "text": [
      "540\n",
      "174\n",
      "889\n",
      "540\n",
      "184\n",
      "886\n"
     ]
    },
    {
     "name": "stderr",
     "output_type": "stream",
     "text": [
      "\n",
      "t:  27%|██▋       | 185/681 [00:44<04:52,  1.70it/s, now=None]\u001b[A\n",
      "t:  27%|██▋       | 186/681 [00:44<03:41,  2.23it/s, now=None]\u001b[A"
     ]
    },
    {
     "name": "stdout",
     "output_type": "stream",
     "text": [
      "540\n",
      "179\n",
      "878\n",
      "540\n",
      "181\n",
      "883\n"
     ]
    },
    {
     "name": "stderr",
     "output_type": "stream",
     "text": [
      "\n",
      "t:  27%|██▋       | 187/681 [00:44<02:50,  2.90it/s, now=None]\u001b[A\n",
      "t:  28%|██▊       | 188/681 [00:44<02:15,  3.63it/s, now=None]\u001b[A"
     ]
    },
    {
     "name": "stdout",
     "output_type": "stream",
     "text": [
      "540\n",
      "177\n",
      "882\n",
      "540\n",
      "184\n",
      "882\n"
     ]
    },
    {
     "name": "stderr",
     "output_type": "stream",
     "text": [
      "\n",
      "t:  28%|██▊       | 189/681 [00:44<01:51,  4.43it/s, now=None]\u001b[A\n",
      "t:  28%|██▊       | 190/681 [00:44<01:44,  4.71it/s, now=None]\u001b[A"
     ]
    },
    {
     "name": "stdout",
     "output_type": "stream",
     "text": [
      "540\n",
      "184\n",
      "886\n",
      "540\n",
      "179\n",
      "882\n"
     ]
    },
    {
     "name": "stderr",
     "output_type": "stream",
     "text": [
      "\n",
      "t:  28%|██▊       | 191/681 [00:44<01:31,  5.36it/s, now=None]\u001b[A\n",
      "t:  28%|██▊       | 192/681 [00:45<01:21,  5.98it/s, now=None]\u001b[A"
     ]
    },
    {
     "name": "stdout",
     "output_type": "stream",
     "text": [
      "540\n",
      "185\n",
      "885\n",
      "540\n",
      "186\n",
      "878\n"
     ]
    },
    {
     "name": "stderr",
     "output_type": "stream",
     "text": [
      "\n",
      "t:  28%|██▊       | 193/681 [00:45<01:14,  6.55it/s, now=None]\u001b[A\n"
     ]
    },
    {
     "name": "stdout",
     "output_type": "stream",
     "text": [
      "540\n",
      "184\n",
      "882\n"
     ]
    },
    {
     "name": "stderr",
     "output_type": "stream",
     "text": [
      "t:  28%|██▊       | 194/681 [00:45<01:28,  5.52it/s, now=None]\u001b[A\n",
      "t:  29%|██▉       | 196/681 [00:45<01:14,  6.53it/s, now=None]\u001b[A"
     ]
    },
    {
     "name": "stdout",
     "output_type": "stream",
     "text": [
      "540\n",
      "186\n",
      "876\n",
      "540\n",
      "186\n",
      "871\n",
      "540\n",
      "180\n",
      "873\n"
     ]
    },
    {
     "name": "stderr",
     "output_type": "stream",
     "text": [
      "\n",
      "t:  29%|██▉       | 197/681 [00:45<01:06,  7.26it/s, now=None]\u001b[A\n",
      "t:  29%|██▉       | 198/681 [00:45<01:01,  7.85it/s, now=None]\u001b[A"
     ]
    },
    {
     "name": "stdout",
     "output_type": "stream",
     "text": [
      "540\n",
      "182\n",
      "880\n",
      "540\n",
      "180\n",
      "878\n",
      "540"
     ]
    },
    {
     "name": "stderr",
     "output_type": "stream",
     "text": [
      "\n",
      "t:  29%|██▉       | 200/681 [00:46<00:55,  8.65it/s, now=None]\u001b[A"
     ]
    },
    {
     "name": "stdout",
     "output_type": "stream",
     "text": [
      "\n",
      "178\n",
      "869\n",
      "540\n",
      "176\n",
      "875\n",
      "540\n",
      "177\n",
      "875\n"
     ]
    },
    {
     "name": "stderr",
     "output_type": "stream",
     "text": [
      "\n",
      "t:  30%|██▉       | 202/681 [00:46<00:50,  9.50it/s, now=None]\u001b[A\n",
      "t:  30%|██▉       | 204/681 [00:46<00:48,  9.94it/s, now=None]\u001b[A"
     ]
    },
    {
     "name": "stdout",
     "output_type": "stream",
     "text": [
      "540\n",
      "194\n",
      "873\n",
      "540\n",
      "180\n",
      "875\n",
      "540\n",
      "168"
     ]
    },
    {
     "name": "stderr",
     "output_type": "stream",
     "text": [
      "\n",
      "t:  30%|███       | 206/681 [00:46<00:45, 10.41it/s, now=None]\u001b[A"
     ]
    },
    {
     "name": "stdout",
     "output_type": "stream",
     "text": [
      "\n",
      "870\n",
      "540\n",
      "171\n",
      "868\n",
      "540\n",
      "176\n",
      "867\n"
     ]
    },
    {
     "name": "stderr",
     "output_type": "stream",
     "text": [
      "\n",
      "t:  31%|███       | 208/681 [00:46<00:43, 10.99it/s, now=None]\u001b[A"
     ]
    },
    {
     "name": "stdout",
     "output_type": "stream",
     "text": [
      "540\n",
      "175\n",
      "875\n",
      "540\n",
      "180\n",
      "870\n",
      "540\n",
      "170\n",
      "861\n"
     ]
    },
    {
     "name": "stderr",
     "output_type": "stream",
     "text": [
      "\n",
      "t:  31%|███       | 210/681 [00:49<03:40,  2.14it/s, now=None]\u001b[A\n",
      "t:  31%|███       | 211/681 [00:49<03:41,  2.12it/s, now=None]"
     ]
    },
    {
     "name": "stdout",
     "output_type": "stream",
     "text": [
      "540\n",
      "169\n",
      "871\n"
     ]
    },
    {
     "name": "stderr",
     "output_type": "stream",
     "text": [
      "\u001b[A\n",
      "t:  31%|███       | 212/681 [00:50<03:00,  2.60it/s, now=None]"
     ]
    },
    {
     "name": "stdout",
     "output_type": "stream",
     "text": [
      "540\n",
      "167\n",
      "872\n"
     ]
    },
    {
     "name": "stderr",
     "output_type": "stream",
     "text": [
      "\u001b[A\n",
      "t:  31%|███▏      | 213/681 [00:50<02:32,  3.07it/s, now=None]\u001b[A"
     ]
    },
    {
     "name": "stdout",
     "output_type": "stream",
     "text": [
      "540\n",
      "163\n",
      "867\n",
      "540\n",
      "178\n",
      "861\n"
     ]
    },
    {
     "name": "stderr",
     "output_type": "stream",
     "text": [
      "\n",
      "t:  31%|███▏      | 214/681 [00:50<02:54,  2.68it/s, now=None]\u001b[A\n",
      "t:  32%|███▏      | 215/681 [00:50<02:19,  3.33it/s, now=None]\u001b[A"
     ]
    },
    {
     "name": "stdout",
     "output_type": "stream",
     "text": [
      "540\n",
      "169\n",
      "867\n",
      "540\n",
      "160\n",
      "865\n"
     ]
    },
    {
     "name": "stderr",
     "output_type": "stream",
     "text": [
      "\n",
      "t:  32%|███▏      | 216/681 [00:51<01:58,  3.92it/s, now=None]\u001b[A\n",
      "t:  32%|███▏      | 217/681 [00:51<01:39,  4.64it/s, now=None]\u001b[A"
     ]
    },
    {
     "name": "stdout",
     "output_type": "stream",
     "text": [
      "540\n",
      "159\n",
      "865\n",
      "540\n",
      "163\n",
      "862\n"
     ]
    },
    {
     "name": "stderr",
     "output_type": "stream",
     "text": [
      "\n",
      "t:  32%|███▏      | 218/681 [00:51<01:31,  5.04it/s, now=None]\u001b[A\n",
      "t:  32%|███▏      | 220/681 [00:51<01:14,  6.16it/s, now=None]\u001b[A"
     ]
    },
    {
     "name": "stdout",
     "output_type": "stream",
     "text": [
      "540\n",
      "161\n",
      "861\n",
      "540\n",
      "167\n",
      "858\n",
      "540\n",
      "166\n",
      "870\n"
     ]
    },
    {
     "name": "stderr",
     "output_type": "stream",
     "text": [
      "\n",
      "t:  33%|███▎      | 222/681 [00:51<01:03,  7.22it/s, now=None]\u001b[A"
     ]
    },
    {
     "name": "stdout",
     "output_type": "stream",
     "text": [
      "540\n",
      "164\n",
      "853\n",
      "540\n",
      "162\n",
      "868\n",
      "540\n",
      "169\n",
      "861\n"
     ]
    },
    {
     "name": "stderr",
     "output_type": "stream",
     "text": [
      "\n",
      "t:  33%|███▎      | 224/681 [00:51<00:54,  8.32it/s, now=None]\u001b[A\n",
      "t:  33%|███▎      | 226/681 [00:51<00:49,  9.16it/s, now=None]\u001b[A"
     ]
    },
    {
     "name": "stdout",
     "output_type": "stream",
     "text": [
      "540\n",
      "164\n",
      "860\n",
      "540\n",
      "165\n",
      "863\n",
      "540\n",
      "165\n",
      "862\n"
     ]
    },
    {
     "name": "stderr",
     "output_type": "stream",
     "text": [
      "\n",
      "t:  33%|███▎      | 228/681 [00:52<00:46,  9.66it/s, now=None]\u001b[A"
     ]
    },
    {
     "name": "stdout",
     "output_type": "stream",
     "text": [
      "540\n",
      "166\n",
      "865\n",
      "540\n",
      "159\n",
      "860\n",
      "540\n",
      "167\n",
      "865\n"
     ]
    },
    {
     "name": "stderr",
     "output_type": "stream",
     "text": [
      "\n",
      "t:  34%|███▍      | 230/681 [00:52<00:45,  9.89it/s, now=None]\u001b[A"
     ]
    },
    {
     "name": "stdout",
     "output_type": "stream",
     "text": [
      "540\n",
      "164\n",
      "862\n",
      "540\n",
      "168\n",
      "874\n"
     ]
    },
    {
     "name": "stderr",
     "output_type": "stream",
     "text": [
      "\n",
      "t:  34%|███▍      | 232/681 [00:52<00:46,  9.56it/s, now=None]\u001b[A"
     ]
    },
    {
     "name": "stdout",
     "output_type": "stream",
     "text": [
      "540\n",
      "157\n",
      "864\n",
      "540\n",
      "152\n",
      "869\n"
     ]
    },
    {
     "name": "stderr",
     "output_type": "stream",
     "text": [
      "\n",
      "t:  34%|███▍      | 234/681 [00:54<02:42,  2.75it/s, now=None]\u001b[A"
     ]
    },
    {
     "name": "stdout",
     "output_type": "stream",
     "text": [
      "540\n",
      "150\n",
      "862\n"
     ]
    },
    {
     "name": "stderr",
     "output_type": "stream",
     "text": [
      "\n",
      "t:  35%|███▍      | 235/681 [00:55<04:50,  1.53it/s, now=None]\u001b[A\n",
      "t:  35%|███▍      | 236/681 [00:55<03:38,  2.03it/s, now=None]\u001b[A"
     ]
    },
    {
     "name": "stdout",
     "output_type": "stream",
     "text": [
      "540\n",
      "151\n",
      "858\n",
      "540\n",
      "153\n",
      "855\n",
      "540"
     ]
    },
    {
     "name": "stderr",
     "output_type": "stream",
     "text": [
      "\n",
      "t:  35%|███▍      | 238/681 [00:56<02:43,  2.71it/s, now=None]\u001b[A"
     ]
    },
    {
     "name": "stdout",
     "output_type": "stream",
     "text": [
      "\n",
      "149\n",
      "869\n",
      "540\n",
      "156\n",
      "873\n",
      "540"
     ]
    },
    {
     "name": "stderr",
     "output_type": "stream",
     "text": [
      "\n",
      "t:  35%|███▌      | 240/681 [00:56<02:06,  3.50it/s, now=None]\u001b[A\n",
      "t:  35%|███▌      | 241/681 [00:56<01:42,  4.28it/s, now=None]\u001b[A"
     ]
    },
    {
     "name": "stdout",
     "output_type": "stream",
     "text": [
      "\n",
      "155\n",
      "872\n",
      "540\n",
      "158\n",
      "863\n",
      "540"
     ]
    },
    {
     "name": "stderr",
     "output_type": "stream",
     "text": [
      "\n",
      "t:  36%|███▌      | 243/681 [00:56<01:21,  5.35it/s, now=None]\u001b[A"
     ]
    },
    {
     "name": "stdout",
     "output_type": "stream",
     "text": [
      "\n",
      "153\n",
      "871\n",
      "540\n",
      "151\n",
      "875\n",
      "540\n",
      "156\n",
      "873\n"
     ]
    },
    {
     "name": "stderr",
     "output_type": "stream",
     "text": [
      "\n",
      "t:  36%|███▌      | 245/681 [00:56<01:06,  6.51it/s, now=None]\u001b[A"
     ]
    },
    {
     "name": "stdout",
     "output_type": "stream",
     "text": [
      "540\n",
      "151\n",
      "865\n",
      "540\n",
      "159\n",
      "861\n"
     ]
    },
    {
     "name": "stderr",
     "output_type": "stream",
     "text": [
      "\n",
      "t:  36%|███▋      | 247/681 [00:57<01:11,  6.05it/s, now=None]\u001b[A\n",
      "t:  37%|███▋      | 249/681 [00:57<00:58,  7.40it/s, now=None]\u001b[A"
     ]
    },
    {
     "name": "stdout",
     "output_type": "stream",
     "text": [
      "540\n",
      "150\n",
      "874\n",
      "540\n",
      "152\n",
      "864\n",
      "540\n",
      "149\n",
      "862\n",
      "540"
     ]
    },
    {
     "name": "stderr",
     "output_type": "stream",
     "text": [
      "\n",
      "t:  37%|███▋      | 251/681 [00:57<00:50,  8.59it/s, now=None]\u001b[A"
     ]
    },
    {
     "name": "stdout",
     "output_type": "stream",
     "text": [
      "\n",
      "156\n",
      "865\n",
      "540\n",
      "162\n",
      "857\n",
      "540\n",
      "159\n",
      "870\n"
     ]
    },
    {
     "name": "stderr",
     "output_type": "stream",
     "text": [
      "\n",
      "t:  37%|███▋      | 253/681 [00:57<00:47,  9.07it/s, now=None]\u001b[A"
     ]
    },
    {
     "name": "stdout",
     "output_type": "stream",
     "text": [
      "540\n",
      "156\n",
      "862\n",
      "540\n",
      "155\n",
      "856\n",
      "540\n",
      "160\n",
      "861\n"
     ]
    },
    {
     "name": "stderr",
     "output_type": "stream",
     "text": [
      "\n",
      "t:  37%|███▋      | 255/681 [00:57<00:41, 10.17it/s, now=None]\u001b[A\n",
      "t:  38%|███▊      | 257/681 [00:57<00:39, 10.62it/s, now=None]\u001b[A"
     ]
    },
    {
     "name": "stdout",
     "output_type": "stream",
     "text": [
      "540\n",
      "163\n",
      "860\n",
      "540\n",
      "160\n",
      "857\n",
      "540\n",
      "156\n",
      "865\n"
     ]
    },
    {
     "name": "stderr",
     "output_type": "stream",
     "text": [
      "\n",
      "t:  38%|███▊      | 259/681 [00:58<00:38, 11.10it/s, now=None]\u001b[A"
     ]
    },
    {
     "name": "stdout",
     "output_type": "stream",
     "text": [
      "540\n",
      "157\n",
      "864\n",
      "540\n",
      "159\n",
      "852\n",
      "540\n",
      "158\n",
      "854\n"
     ]
    },
    {
     "name": "stderr",
     "output_type": "stream",
     "text": [
      "\n",
      "t:  38%|███▊      | 261/681 [00:58<00:36, 11.57it/s, now=None]\u001b[A\n",
      "t:  39%|███▊      | 263/681 [00:58<00:35, 11.77it/s, now=None]\u001b[A"
     ]
    },
    {
     "name": "stdout",
     "output_type": "stream",
     "text": [
      "540\n",
      "163\n",
      "865\n",
      "540\n",
      "160\n",
      "859\n",
      "540\n",
      "161\n",
      "850\n"
     ]
    },
    {
     "name": "stderr",
     "output_type": "stream",
     "text": [
      "\n",
      "t:  39%|███▉      | 265/681 [00:58<00:33, 12.25it/s, now=None]\u001b[A"
     ]
    },
    {
     "name": "stdout",
     "output_type": "stream",
     "text": [
      "540\n",
      "160\n",
      "857\n",
      "540\n",
      "156\n",
      "860\n",
      "540\n",
      "162\n",
      "872\n"
     ]
    },
    {
     "name": "stderr",
     "output_type": "stream",
     "text": [
      "\n",
      "t:  39%|███▉      | 267/681 [00:59<01:12,  5.71it/s, now=None]\u001b[A"
     ]
    },
    {
     "name": "stdout",
     "output_type": "stream",
     "text": [
      "540\n",
      "153\n",
      "861\n"
     ]
    },
    {
     "name": "stderr",
     "output_type": "stream",
     "text": [
      "\n",
      "t:  39%|███▉      | 268/681 [01:01<04:53,  1.41it/s, now=None]\u001b[A"
     ]
    },
    {
     "name": "stdout",
     "output_type": "stream",
     "text": [
      "540\n",
      "151\n",
      "854\n"
     ]
    },
    {
     "name": "stderr",
     "output_type": "stream",
     "text": [
      "\n",
      "t:  40%|███▉      | 269/681 [01:01<04:19,  1.59it/s, now=None]\u001b[A\n",
      "t:  40%|███▉      | 270/681 [01:01<03:15,  2.10it/s, now=None]\u001b[A"
     ]
    },
    {
     "name": "stdout",
     "output_type": "stream",
     "text": [
      "540\n",
      "156\n",
      "863\n",
      "540\n",
      "155\n",
      "866\n",
      "540\n",
      "150\n",
      "864\n"
     ]
    },
    {
     "name": "stderr",
     "output_type": "stream",
     "text": [
      "\n",
      "t:  40%|███▉      | 272/681 [01:01<02:27,  2.77it/s, now=None]\u001b[A\n"
     ]
    },
    {
     "name": "stdout",
     "output_type": "stream",
     "text": [
      "540\n",
      "159\n",
      "876\n",
      "540\n",
      "151\n",
      "856\n"
     ]
    },
    {
     "name": "stderr",
     "output_type": "stream",
     "text": [
      "t:  40%|████      | 274/681 [01:02<01:55,  3.53it/s, now=None]\u001b[A\n",
      "t:  41%|████      | 276/681 [01:02<01:29,  4.51it/s, now=None]\u001b[A"
     ]
    },
    {
     "name": "stdout",
     "output_type": "stream",
     "text": [
      "540\n",
      "162\n",
      "867\n",
      "540\n",
      "160\n",
      "875\n",
      "540\n",
      "159\n",
      "875\n"
     ]
    },
    {
     "name": "stderr",
     "output_type": "stream",
     "text": [
      "\n",
      "t:  41%|████      | 278/681 [01:02<01:11,  5.60it/s, now=None]\u001b[A"
     ]
    },
    {
     "name": "stdout",
     "output_type": "stream",
     "text": [
      "540\n",
      "152\n",
      "874\n",
      "540\n",
      "153\n",
      "870\n",
      "540\n",
      "158\n",
      "874\n"
     ]
    },
    {
     "name": "stderr",
     "output_type": "stream",
     "text": [
      "\n",
      "t:  41%|████      | 280/681 [01:02<00:59,  6.78it/s, now=None]\u001b[A\n",
      "t:  41%|████▏     | 282/681 [01:02<00:50,  7.85it/s, now=None]\u001b[A"
     ]
    },
    {
     "name": "stdout",
     "output_type": "stream",
     "text": [
      "540\n",
      "162\n",
      "870\n",
      "540\n",
      "169\n",
      "868\n",
      "540\n",
      "161\n",
      "869\n"
     ]
    },
    {
     "name": "stderr",
     "output_type": "stream",
     "text": [
      "\n",
      "t:  42%|████▏     | 284/681 [01:02<00:44,  8.93it/s, now=None]\u001b[A"
     ]
    },
    {
     "name": "stdout",
     "output_type": "stream",
     "text": [
      "540\n",
      "171\n",
      "867\n",
      "540\n",
      "170\n",
      "866\n",
      "540\n",
      "169\n",
      "872\n"
     ]
    },
    {
     "name": "stderr",
     "output_type": "stream",
     "text": [
      "\n",
      "t:  42%|████▏     | 286/681 [01:03<00:39,  9.88it/s, now=None]\u001b[A\n",
      "t:  42%|████▏     | 288/681 [01:03<00:36, 10.75it/s, now=None]\u001b[A"
     ]
    },
    {
     "name": "stdout",
     "output_type": "stream",
     "text": [
      "540\n",
      "170\n",
      "867\n",
      "540\n",
      "167\n",
      "871\n",
      "540\n",
      "165\n",
      "853\n"
     ]
    },
    {
     "name": "stderr",
     "output_type": "stream",
     "text": [
      "\n",
      "t:  43%|████▎     | 290/681 [01:03<00:34, 11.29it/s, now=None]\u001b[A"
     ]
    },
    {
     "name": "stdout",
     "output_type": "stream",
     "text": [
      "540\n",
      "173\n",
      "862\n",
      "540\n",
      "163\n",
      "860\n",
      "540\n",
      "165\n",
      "853\n"
     ]
    },
    {
     "name": "stderr",
     "output_type": "stream",
     "text": [
      "\n",
      "t:  43%|████▎     | 292/681 [01:03<00:33, 11.48it/s, now=None]\u001b[A\n",
      "t:  43%|████▎     | 294/681 [01:03<00:32, 11.81it/s, now=None]\u001b[A"
     ]
    },
    {
     "name": "stdout",
     "output_type": "stream",
     "text": [
      "540\n",
      "163\n",
      "857\n",
      "540\n",
      "162\n",
      "865\n",
      "540\n",
      "174\n",
      "848\n"
     ]
    },
    {
     "name": "stderr",
     "output_type": "stream",
     "text": [
      "\n",
      "t:  43%|████▎     | 296/681 [01:03<00:37, 10.38it/s, now=None]\u001b[A"
     ]
    },
    {
     "name": "stdout",
     "output_type": "stream",
     "text": [
      "540\n",
      "170\n",
      "862\n",
      "540\n",
      "168\n",
      "861\n"
     ]
    },
    {
     "name": "stderr",
     "output_type": "stream",
     "text": [
      "\n",
      "t:  44%|████▍     | 298/681 [01:04<00:41,  9.32it/s, now=None]\u001b[A"
     ]
    },
    {
     "name": "stdout",
     "output_type": "stream",
     "text": [
      "540\n",
      "173\n",
      "862\n",
      "540\n",
      "166\n",
      "863\n"
     ]
    },
    {
     "name": "stderr",
     "output_type": "stream",
     "text": [
      "\n",
      "t:  44%|████▍     | 300/681 [01:04<00:42,  8.89it/s, now=None]\u001b[A"
     ]
    },
    {
     "name": "stdout",
     "output_type": "stream",
     "text": [
      "540\n",
      "175\n",
      "857\n",
      "540\n",
      "172\n",
      "856\n"
     ]
    },
    {
     "name": "stderr",
     "output_type": "stream",
     "text": [
      "\n",
      "t:  44%|████▍     | 301/681 [01:05<02:30,  2.53it/s, now=None]\u001b[A"
     ]
    },
    {
     "name": "stdout",
     "output_type": "stream",
     "text": [
      "540\n",
      "185\n",
      "841\n"
     ]
    },
    {
     "name": "stderr",
     "output_type": "stream",
     "text": [
      "\n",
      "t:  44%|████▍     | 302/681 [01:06<03:29,  1.81it/s, now=None]\u001b[A"
     ]
    },
    {
     "name": "stdout",
     "output_type": "stream",
     "text": [
      "540\n",
      "167\n",
      "844\n"
     ]
    },
    {
     "name": "stderr",
     "output_type": "stream",
     "text": [
      "\n",
      "t:  44%|████▍     | 303/681 [01:07<03:53,  1.62it/s, now=None]\u001b[A\n",
      "t:  45%|████▍     | 304/681 [01:07<03:17,  1.91it/s, now=None]\u001b[A"
     ]
    },
    {
     "name": "stdout",
     "output_type": "stream",
     "text": [
      "540\n",
      "173\n",
      "858\n",
      "540\n",
      "170\n",
      "857\n"
     ]
    },
    {
     "name": "stderr",
     "output_type": "stream",
     "text": [
      "\n",
      "t:  45%|████▍     | 306/681 [01:07<02:26,  2.56it/s, now=None]\u001b[A"
     ]
    },
    {
     "name": "stdout",
     "output_type": "stream",
     "text": [
      "540\n",
      "173\n",
      "858\n",
      "540\n",
      "166\n",
      "851\n",
      "540\n",
      "155\n",
      "866\n"
     ]
    },
    {
     "name": "stderr",
     "output_type": "stream",
     "text": [
      "\n",
      "t:  45%|████▌     | 308/681 [01:07<01:50,  3.37it/s, now=None]\u001b[A\n",
      "t:  46%|████▌     | 310/681 [01:08<01:25,  4.33it/s, now=None]\u001b[A"
     ]
    },
    {
     "name": "stdout",
     "output_type": "stream",
     "text": [
      "540\n",
      "169\n",
      "873\n",
      "540\n",
      "163\n",
      "858\n",
      "540\n",
      "170\n",
      "867\n"
     ]
    },
    {
     "name": "stderr",
     "output_type": "stream",
     "text": [
      "\n",
      "t:  46%|████▌     | 311/681 [01:08<01:11,  5.20it/s, now=None]\u001b[A\n",
      "t:  46%|████▌     | 313/681 [01:08<00:58,  6.27it/s, now=None]\u001b[A"
     ]
    },
    {
     "name": "stdout",
     "output_type": "stream",
     "text": [
      "540\n",
      "163\n",
      "864\n",
      "540\n",
      "166\n",
      "864\n",
      "540\n",
      "171\n",
      "865\n"
     ]
    },
    {
     "name": "stderr",
     "output_type": "stream",
     "text": [
      "\n",
      "t:  46%|████▋     | 315/681 [01:08<00:49,  7.37it/s, now=None]\u001b[A"
     ]
    },
    {
     "name": "stdout",
     "output_type": "stream",
     "text": [
      "540\n",
      "147\n",
      "868\n",
      "540\n",
      "153\n",
      "860\n",
      "540\n",
      "159\n",
      "862\n"
     ]
    },
    {
     "name": "stderr",
     "output_type": "stream",
     "text": [
      "\n",
      "t:  47%|████▋     | 317/681 [01:08<00:43,  8.37it/s, now=None]\u001b[A\n",
      "t:  47%|████▋     | 319/681 [01:08<00:37,  9.53it/s, now=None]\u001b[A"
     ]
    },
    {
     "name": "stdout",
     "output_type": "stream",
     "text": [
      "540\n",
      "154\n",
      "867\n",
      "540\n",
      "160\n",
      "860\n",
      "540\n",
      "160\n",
      "867\n"
     ]
    },
    {
     "name": "stderr",
     "output_type": "stream",
     "text": [
      "\n",
      "t:  47%|████▋     | 321/681 [01:08<00:34, 10.34it/s, now=None]\u001b[A"
     ]
    },
    {
     "name": "stdout",
     "output_type": "stream",
     "text": [
      "540\n",
      "157\n",
      "868\n",
      "540\n",
      "162\n",
      "865\n",
      "540\n",
      "156\n",
      "867\n"
     ]
    },
    {
     "name": "stderr",
     "output_type": "stream",
     "text": [
      "\n",
      "t:  47%|████▋     | 323/681 [01:09<00:32, 11.04it/s, now=None]\u001b[A\n",
      "t:  48%|████▊     | 325/681 [01:09<00:30, 11.58it/s, now=None]\u001b[A"
     ]
    },
    {
     "name": "stdout",
     "output_type": "stream",
     "text": [
      "540\n",
      "153\n",
      "862\n",
      "540\n",
      "156\n",
      "865\n",
      "540\n",
      "155\n",
      "855\n"
     ]
    },
    {
     "name": "stderr",
     "output_type": "stream",
     "text": [
      "\n",
      "t:  48%|████▊     | 327/681 [01:09<00:28, 12.21it/s, now=None]\u001b[A"
     ]
    },
    {
     "name": "stdout",
     "output_type": "stream",
     "text": [
      "540\n",
      "153\n",
      "856\n",
      "540\n",
      "159\n",
      "858\n",
      "540\n",
      "160\n",
      "850\n"
     ]
    },
    {
     "name": "stderr",
     "output_type": "stream",
     "text": [
      "\n",
      "t:  48%|████▊     | 329/681 [01:09<00:28, 12.37it/s, now=None]\u001b[A\n",
      "t:  49%|████▊     | 331/681 [01:09<00:27, 12.79it/s, now=None]\u001b[A"
     ]
    },
    {
     "name": "stdout",
     "output_type": "stream",
     "text": [
      "540\n",
      "153\n",
      "843\n",
      "540\n",
      "155\n",
      "859\n",
      "540\n",
      "149\n",
      "865\n",
      "540\n",
      "147\n",
      "852\n"
     ]
    },
    {
     "name": "stderr",
     "output_type": "stream",
     "text": [
      "\n",
      "t:  49%|████▉     | 333/681 [01:10<01:04,  5.42it/s, now=None]\u001b[A"
     ]
    },
    {
     "name": "stdout",
     "output_type": "stream",
     "text": [
      "540\n",
      "145\n",
      "854\n"
     ]
    },
    {
     "name": "stderr",
     "output_type": "stream",
     "text": [
      "\n",
      "t:  49%|████▉     | 334/681 [01:11<02:38,  2.18it/s, now=None]\u001b[A"
     ]
    },
    {
     "name": "stdout",
     "output_type": "stream",
     "text": [
      "540\n",
      "148\n",
      "857\n"
     ]
    },
    {
     "name": "stderr",
     "output_type": "stream",
     "text": [
      "\n",
      "t:  49%|████▉     | 335/681 [01:12<04:10,  1.38it/s, now=None]\u001b[A\n",
      "t:  49%|████▉     | 336/681 [01:13<03:07,  1.84it/s, now=None]\u001b[A"
     ]
    },
    {
     "name": "stdout",
     "output_type": "stream",
     "text": [
      "540\n",
      "143\n",
      "853\n",
      "540\n",
      "145\n",
      "860\n"
     ]
    },
    {
     "name": "stderr",
     "output_type": "stream",
     "text": [
      "\n",
      "t:  49%|████▉     | 337/681 [01:13<02:24,  2.39it/s, now=None]\u001b[A\n",
      "t:  50%|████▉     | 338/681 [01:13<01:55,  2.96it/s, now=None]\u001b[A"
     ]
    },
    {
     "name": "stdout",
     "output_type": "stream",
     "text": [
      "540\n",
      "147\n",
      "862\n",
      "540\n",
      "137\n",
      "862\n"
     ]
    },
    {
     "name": "stderr",
     "output_type": "stream",
     "text": [
      "\n",
      "t:  50%|████▉     | 340/681 [01:13<01:28,  3.84it/s, now=None]\u001b[A"
     ]
    },
    {
     "name": "stdout",
     "output_type": "stream",
     "text": [
      "540\n",
      "144\n",
      "853\n",
      "540\n",
      "143\n",
      "852\n",
      "540\n",
      "144\n",
      "854\n"
     ]
    },
    {
     "name": "stderr",
     "output_type": "stream",
     "text": [
      "\n",
      "t:  50%|█████     | 342/681 [01:13<01:09,  4.86it/s, now=None]\u001b[A\n",
      "t:  50%|█████     | 343/681 [01:13<01:00,  5.60it/s, now=None]\u001b[A"
     ]
    },
    {
     "name": "stdout",
     "output_type": "stream",
     "text": [
      "540\n",
      "141\n",
      "852\n",
      "540\n",
      "146\n",
      "865\n"
     ]
    },
    {
     "name": "stderr",
     "output_type": "stream",
     "text": [
      "\n",
      "t:  51%|█████     | 344/681 [01:13<00:54,  6.20it/s, now=None]\u001b[A\n",
      "t:  51%|█████     | 345/681 [01:14<00:52,  6.37it/s, now=None]\u001b[A"
     ]
    },
    {
     "name": "stdout",
     "output_type": "stream",
     "text": [
      "540\n",
      "141\n",
      "862\n",
      "540\n",
      "144\n",
      "867\n"
     ]
    },
    {
     "name": "stderr",
     "output_type": "stream",
     "text": [
      "\n",
      "t:  51%|█████     | 346/681 [01:14<00:48,  6.86it/s, now=None]\u001b[A\n",
      "t:  51%|█████     | 347/681 [01:14<00:46,  7.15it/s, now=None]\u001b[A"
     ]
    },
    {
     "name": "stdout",
     "output_type": "stream",
     "text": [
      "540\n",
      "142\n",
      "853\n",
      "540\n",
      "145\n",
      "860\n"
     ]
    },
    {
     "name": "stderr",
     "output_type": "stream",
     "text": [
      "\n",
      "t:  51%|█████     | 348/681 [01:14<00:49,  6.74it/s, now=None]\u001b[A\n",
      "t:  51%|█████     | 349/681 [01:14<00:46,  7.15it/s, now=None]\u001b[A"
     ]
    },
    {
     "name": "stdout",
     "output_type": "stream",
     "text": [
      "540\n",
      "146\n",
      "847\n",
      "540\n",
      "160\n",
      "853\n"
     ]
    },
    {
     "name": "stderr",
     "output_type": "stream",
     "text": [
      "\n",
      "t:  51%|█████▏    | 350/681 [01:14<00:45,  7.28it/s, now=None]\u001b[A\n",
      "t:  52%|█████▏    | 351/681 [01:14<00:43,  7.53it/s, now=None]\u001b[A"
     ]
    },
    {
     "name": "stdout",
     "output_type": "stream",
     "text": [
      "540\n",
      "168\n",
      "860\n",
      "540\n",
      "147\n",
      "858\n"
     ]
    },
    {
     "name": "stderr",
     "output_type": "stream",
     "text": [
      "\n",
      "t:  52%|█████▏    | 352/681 [01:14<00:43,  7.62it/s, now=None]\u001b[A\n",
      "t:  52%|█████▏    | 353/681 [01:15<00:41,  7.95it/s, now=None]\u001b[A"
     ]
    },
    {
     "name": "stdout",
     "output_type": "stream",
     "text": [
      "540\n",
      "153\n",
      "854\n",
      "540\n",
      "166\n",
      "850\n"
     ]
    },
    {
     "name": "stderr",
     "output_type": "stream",
     "text": [
      "\n",
      "t:  52%|█████▏    | 354/681 [01:15<00:40,  8.16it/s, now=None]\u001b[A\n",
      "t:  52%|█████▏    | 355/681 [01:15<00:38,  8.46it/s, now=None]\u001b[A"
     ]
    },
    {
     "name": "stdout",
     "output_type": "stream",
     "text": [
      "540\n",
      "148\n",
      "856\n",
      "540\n",
      "165\n",
      "861\n"
     ]
    },
    {
     "name": "stderr",
     "output_type": "stream",
     "text": [
      "\n",
      "t:  52%|█████▏    | 356/681 [01:15<00:42,  7.67it/s, now=None]\u001b[A\n",
      "t:  53%|█████▎    | 358/681 [01:15<00:38,  8.33it/s, now=None]\u001b[A"
     ]
    },
    {
     "name": "stdout",
     "output_type": "stream",
     "text": [
      "540\n",
      "163\n",
      "861\n",
      "540\n",
      "154\n",
      "848\n",
      "540"
     ]
    },
    {
     "name": "stderr",
     "output_type": "stream",
     "text": [
      "\n",
      "t:  53%|█████▎    | 359/681 [01:15<00:37,  8.50it/s, now=None]\u001b[A"
     ]
    },
    {
     "name": "stdout",
     "output_type": "stream",
     "text": [
      "\n",
      "155\n",
      "862\n",
      "540\n",
      "164\n",
      "861\n"
     ]
    },
    {
     "name": "stderr",
     "output_type": "stream",
     "text": [
      "\n",
      "t:  53%|█████▎    | 360/681 [01:19<05:43,  1.07s/it, now=None]\u001b[A\n",
      "t:  53%|█████▎    | 362/681 [01:19<04:06,  1.29it/s, now=None]\u001b[A"
     ]
    },
    {
     "name": "stdout",
     "output_type": "stream",
     "text": [
      "540\n",
      "150\n",
      "859\n",
      "540\n",
      "166\n",
      "850\n",
      "540\n",
      "159\n",
      "856\n",
      "540\n",
      "165\n",
      "855\n"
     ]
    },
    {
     "name": "stderr",
     "output_type": "stream",
     "text": [
      "\n",
      "t:  53%|█████▎    | 364/681 [01:19<03:05,  1.71it/s, now=None]\u001b[A\n",
      "t:  54%|█████▎    | 366/681 [01:19<02:16,  2.31it/s, now=None]\u001b[A"
     ]
    },
    {
     "name": "stdout",
     "output_type": "stream",
     "text": [
      "540\n",
      "169\n",
      "857\n",
      "540\n",
      "174\n",
      "850\n",
      "540\n",
      "157\n",
      "862\n"
     ]
    },
    {
     "name": "stderr",
     "output_type": "stream",
     "text": [
      "\n",
      "t:  54%|█████▍    | 368/681 [01:19<01:41,  3.08it/s, now=None]\u001b[A"
     ]
    },
    {
     "name": "stdout",
     "output_type": "stream",
     "text": [
      "540\n",
      "149\n",
      "860\n",
      "540\n",
      "164\n",
      "862\n",
      "540\n",
      "163\n",
      "845\n"
     ]
    },
    {
     "name": "stderr",
     "output_type": "stream",
     "text": [
      "\n",
      "t:  54%|█████▍    | 370/681 [01:19<01:17,  4.02it/s, now=None]\u001b[A\n",
      "t:  55%|█████▍    | 372/681 [01:20<01:00,  5.07it/s, now=None]\u001b[A"
     ]
    },
    {
     "name": "stdout",
     "output_type": "stream",
     "text": [
      "540\n",
      "158\n",
      "867\n",
      "540\n",
      "162\n",
      "864\n",
      "540\n",
      "154\n",
      "855\n"
     ]
    },
    {
     "name": "stderr",
     "output_type": "stream",
     "text": [
      "\n",
      "t:  55%|█████▍    | 374/681 [01:20<00:49,  6.20it/s, now=None]\u001b[A"
     ]
    },
    {
     "name": "stdout",
     "output_type": "stream",
     "text": [
      "540\n",
      "158\n",
      "858\n",
      "540\n",
      "162\n",
      "856\n",
      "540\n",
      "163\n",
      "858\n"
     ]
    },
    {
     "name": "stderr",
     "output_type": "stream",
     "text": [
      "\n",
      "t:  55%|█████▌    | 376/681 [01:20<00:43,  7.02it/s, now=None]\u001b[A\n",
      "t:  56%|█████▌    | 378/681 [01:20<00:37,  7.99it/s, now=None]\u001b[A"
     ]
    },
    {
     "name": "stdout",
     "output_type": "stream",
     "text": [
      "540\n",
      "156\n",
      "861\n",
      "540\n",
      "148\n",
      "850\n",
      "540\n",
      "147\n",
      "854\n"
     ]
    },
    {
     "name": "stderr",
     "output_type": "stream",
     "text": [
      "\n",
      "t:  56%|█████▌    | 380/681 [01:20<00:33,  8.95it/s, now=None]\u001b[A"
     ]
    },
    {
     "name": "stdout",
     "output_type": "stream",
     "text": [
      "540\n",
      "143\n",
      "851\n",
      "540\n",
      "144\n",
      "850\n",
      "540\n",
      "140\n",
      "854\n"
     ]
    },
    {
     "name": "stderr",
     "output_type": "stream",
     "text": [
      "\n",
      "t:  56%|█████▌    | 382/681 [01:20<00:30,  9.84it/s, now=None]\u001b[A\n",
      "t:  56%|█████▋    | 384/681 [01:21<00:28, 10.60it/s, now=None]\u001b[A"
     ]
    },
    {
     "name": "stdout",
     "output_type": "stream",
     "text": [
      "540\n",
      "147\n",
      "860\n",
      "540\n",
      "146\n",
      "852\n",
      "540\n",
      "145\n",
      "853\n"
     ]
    },
    {
     "name": "stderr",
     "output_type": "stream",
     "text": [
      "\n",
      "t:  57%|█████▋    | 386/681 [01:21<00:26, 11.15it/s, now=None]\u001b[A"
     ]
    },
    {
     "name": "stdout",
     "output_type": "stream",
     "text": [
      "540\n",
      "143\n",
      "864\n",
      "540\n",
      "146\n",
      "840\n",
      "540\n",
      "144\n",
      "853\n"
     ]
    },
    {
     "name": "stderr",
     "output_type": "stream",
     "text": [
      "\n",
      "t:  57%|█████▋    | 388/681 [01:24<02:39,  1.83it/s, now=None]\u001b[A\n",
      "t:  57%|█████▋    | 390/681 [01:24<01:57,  2.47it/s, now=None]\u001b[A"
     ]
    },
    {
     "name": "stdout",
     "output_type": "stream",
     "text": [
      "540\n",
      "143\n",
      "854\n",
      "540\n",
      "141\n",
      "851\n",
      "540\n",
      "145\n",
      "852\n"
     ]
    },
    {
     "name": "stderr",
     "output_type": "stream",
     "text": [
      "\n",
      "t:  58%|█████▊    | 392/681 [01:24<01:31,  3.17it/s, now=None]\u001b[A"
     ]
    },
    {
     "name": "stdout",
     "output_type": "stream",
     "text": [
      "540\n",
      "143\n",
      "847\n",
      "540\n",
      "138\n",
      "842\n"
     ]
    },
    {
     "name": "stderr",
     "output_type": "stream",
     "text": [
      "\n",
      "t:  58%|█████▊    | 394/681 [01:25<01:10,  4.08it/s, now=None]\u001b[A"
     ]
    },
    {
     "name": "stdout",
     "output_type": "stream",
     "text": [
      "540\n",
      "139\n",
      "848\n",
      "540\n",
      "142\n",
      "840\n",
      "540\n",
      "144\n",
      "847\n"
     ]
    },
    {
     "name": "stderr",
     "output_type": "stream",
     "text": [
      "\n",
      "t:  58%|█████▊    | 396/681 [01:25<00:55,  5.15it/s, now=None]\u001b[A\n",
      "t:  58%|█████▊    | 398/681 [01:25<00:44,  6.32it/s, now=None]\u001b[A"
     ]
    },
    {
     "name": "stdout",
     "output_type": "stream",
     "text": [
      "540\n",
      "146\n",
      "842\n",
      "540\n",
      "133\n",
      "843\n",
      "540\n",
      "140\n",
      "849\n"
     ]
    },
    {
     "name": "stderr",
     "output_type": "stream",
     "text": [
      "\n",
      "t:  59%|█████▊    | 400/681 [01:25<00:37,  7.42it/s, now=None]\u001b[A"
     ]
    },
    {
     "name": "stdout",
     "output_type": "stream",
     "text": [
      "540\n",
      "136\n",
      "844\n",
      "540\n",
      "139\n",
      "840\n",
      "540\n",
      "145\n",
      "833\n"
     ]
    },
    {
     "name": "stderr",
     "output_type": "stream",
     "text": [
      "\n",
      "t:  59%|█████▉    | 402/681 [01:25<00:33,  8.41it/s, now=None]\u001b[A\n",
      "t:  59%|█████▉    | 404/681 [01:25<00:29,  9.34it/s, now=None]\u001b[A"
     ]
    },
    {
     "name": "stdout",
     "output_type": "stream",
     "text": [
      "540\n",
      "146\n",
      "838\n",
      "540\n",
      "145\n",
      "840\n",
      "540\n",
      "136\n",
      "846\n"
     ]
    },
    {
     "name": "stderr",
     "output_type": "stream",
     "text": [
      "\n",
      "t:  60%|█████▉    | 406/681 [01:26<00:29,  9.18it/s, now=None]\u001b[A"
     ]
    },
    {
     "name": "stdout",
     "output_type": "stream",
     "text": [
      "540\n",
      "139\n",
      "842\n",
      "540\n",
      "137\n",
      "852\n"
     ]
    },
    {
     "name": "stderr",
     "output_type": "stream",
     "text": [
      "\n",
      "t:  60%|█████▉    | 408/681 [01:26<00:28,  9.48it/s, now=None]\u001b[A"
     ]
    },
    {
     "name": "stdout",
     "output_type": "stream",
     "text": [
      "540\n",
      "139\n",
      "837\n",
      "540\n",
      "142\n",
      "838\n",
      "540\n",
      "137\n",
      "839\n"
     ]
    },
    {
     "name": "stderr",
     "output_type": "stream",
     "text": [
      "\n",
      "t:  60%|██████    | 410/681 [01:26<00:26, 10.31it/s, now=None]\u001b[A\n",
      "t:  60%|██████    | 412/681 [01:26<00:25, 10.66it/s, now=None]\u001b[A"
     ]
    },
    {
     "name": "stdout",
     "output_type": "stream",
     "text": [
      "540\n",
      "138\n",
      "841\n",
      "540\n",
      "137\n",
      "845\n",
      "540\n"
     ]
    },
    {
     "name": "stderr",
     "output_type": "stream",
     "text": [
      "\n",
      "t:  61%|██████    | 414/681 [01:26<00:24, 10.92it/s, now=None]\u001b[A"
     ]
    },
    {
     "name": "stdout",
     "output_type": "stream",
     "text": [
      "136\n",
      "838\n",
      "540\n",
      "139\n",
      "843\n",
      "540\n",
      "140\n",
      "850\n",
      "540\n",
      "137\n",
      "854\n"
     ]
    },
    {
     "name": "stderr",
     "output_type": "stream",
     "text": [
      "\n",
      "t:  61%|██████    | 416/681 [01:29<02:16,  1.95it/s, now=None]\u001b[A\n",
      "t:  61%|██████▏   | 418/681 [01:29<01:40,  2.62it/s, now=None]\u001b[A"
     ]
    },
    {
     "name": "stdout",
     "output_type": "stream",
     "text": [
      "540\n",
      "137\n",
      "851\n",
      "540\n",
      "139\n",
      "852\n",
      "540\n",
      "139\n",
      "839\n"
     ]
    },
    {
     "name": "stderr",
     "output_type": "stream",
     "text": [
      "\n",
      "t:  62%|██████▏   | 420/681 [01:30<01:18,  3.32it/s, now=None]\u001b[A"
     ]
    },
    {
     "name": "stdout",
     "output_type": "stream",
     "text": [
      "540\n",
      "132\n",
      "842\n",
      "540\n",
      "138\n",
      "839\n"
     ]
    },
    {
     "name": "stderr",
     "output_type": "stream",
     "text": [
      "\n",
      "t:  62%|██████▏   | 422/681 [01:30<01:01,  4.22it/s, now=None]\u001b[A"
     ]
    },
    {
     "name": "stdout",
     "output_type": "stream",
     "text": [
      "540\n",
      "144\n",
      "846\n",
      "540\n",
      "146\n",
      "838\n",
      "540\n",
      "145\n",
      "841\n"
     ]
    },
    {
     "name": "stderr",
     "output_type": "stream",
     "text": [
      "\n",
      "t:  62%|██████▏   | 424/681 [01:30<00:48,  5.28it/s, now=None]\u001b[A\n",
      "t:  63%|██████▎   | 426/681 [01:30<00:40,  6.33it/s, now=None]\u001b[A"
     ]
    },
    {
     "name": "stdout",
     "output_type": "stream",
     "text": [
      "540\n",
      "140\n",
      "852\n",
      "540\n",
      "144\n",
      "853\n",
      "540\n",
      "147\n",
      "843\n"
     ]
    },
    {
     "name": "stderr",
     "output_type": "stream",
     "text": [
      "\n",
      "t:  63%|██████▎   | 428/681 [01:30<00:34,  7.43it/s, now=None]\u001b[A"
     ]
    },
    {
     "name": "stdout",
     "output_type": "stream",
     "text": [
      "540\n",
      "142\n",
      "845\n",
      "540\n",
      "142\n",
      "839\n",
      "540\n",
      "148\n",
      "850\n"
     ]
    },
    {
     "name": "stderr",
     "output_type": "stream",
     "text": [
      "\n",
      "t:  63%|██████▎   | 430/681 [01:30<00:29,  8.53it/s, now=None]\u001b[A\n",
      "t:  63%|██████▎   | 432/681 [01:31<00:27,  8.98it/s, now=None]\u001b[A"
     ]
    },
    {
     "name": "stdout",
     "output_type": "stream",
     "text": [
      "540\n",
      "143\n",
      "849\n",
      "540\n",
      "148\n",
      "845\n"
     ]
    },
    {
     "name": "stderr",
     "output_type": "stream",
     "text": [
      "\n",
      "t:  64%|██████▎   | 434/681 [01:31<00:25,  9.70it/s, now=None]\u001b[A"
     ]
    },
    {
     "name": "stdout",
     "output_type": "stream",
     "text": [
      "540\n",
      "142\n",
      "848\n",
      "540\n",
      "139\n",
      "854\n",
      "540\n",
      "143\n",
      "849\n"
     ]
    },
    {
     "name": "stderr",
     "output_type": "stream",
     "text": [
      "\n",
      "t:  64%|██████▍   | 436/681 [01:31<00:23, 10.45it/s, now=None]\u001b[A"
     ]
    },
    {
     "name": "stdout",
     "output_type": "stream",
     "text": [
      "540\n",
      "142\n",
      "847\n",
      "540\n",
      "137\n",
      "846\n",
      "540\n",
      "139\n",
      "849\n"
     ]
    },
    {
     "name": "stderr",
     "output_type": "stream",
     "text": [
      "\n",
      "t:  64%|██████▍   | 438/681 [01:31<00:22, 10.78it/s, now=None]\u001b[A"
     ]
    },
    {
     "name": "stdout",
     "output_type": "stream",
     "text": [
      "540\n",
      "140\n",
      "839\n"
     ]
    },
    {
     "name": "stderr",
     "output_type": "stream",
     "text": [
      "\n",
      "t:  65%|██████▍   | 440/681 [01:32<00:34,  7.07it/s, now=None]\u001b[A"
     ]
    },
    {
     "name": "stdout",
     "output_type": "stream",
     "text": [
      "540\n",
      "137\n",
      "856\n",
      "540\n",
      "125\n",
      "848\n",
      "540\n",
      "136\n",
      "854\n"
     ]
    },
    {
     "name": "stderr",
     "output_type": "stream",
     "text": [
      "\n",
      "t:  65%|██████▍   | 442/681 [01:32<00:29,  8.13it/s, now=None]\u001b[A\n",
      "t:  65%|██████▌   | 444/681 [01:32<00:25,  9.14it/s, now=None]\u001b[A"
     ]
    },
    {
     "name": "stdout",
     "output_type": "stream",
     "text": [
      "540\n",
      "144\n",
      "865\n",
      "540\n",
      "141\n",
      "849\n",
      "540\n",
      "133\n",
      "855\n"
     ]
    },
    {
     "name": "stderr",
     "output_type": "stream",
     "text": [
      "\n",
      "t:  65%|██████▌   | 446/681 [01:32<00:23, 10.00it/s, now=None]\u001b[A"
     ]
    },
    {
     "name": "stdout",
     "output_type": "stream",
     "text": [
      "540\n",
      "136\n",
      "847\n",
      "540\n",
      "135\n",
      "841\n",
      "540\n",
      "139\n",
      "851\n"
     ]
    },
    {
     "name": "stderr",
     "output_type": "stream",
     "text": [
      "\n",
      "t:  66%|██████▌   | 448/681 [01:33<00:43,  5.41it/s, now=None]\u001b[A"
     ]
    },
    {
     "name": "stdout",
     "output_type": "stream",
     "text": [
      "540\n",
      "136\n",
      "847\n"
     ]
    },
    {
     "name": "stderr",
     "output_type": "stream",
     "text": [
      "\n",
      "t:  66%|██████▌   | 449/681 [01:33<01:07,  3.45it/s, now=None]\u001b[A"
     ]
    },
    {
     "name": "stdout",
     "output_type": "stream",
     "text": [
      "540\n",
      "131\n",
      "848\n"
     ]
    },
    {
     "name": "stderr",
     "output_type": "stream",
     "text": [
      "\n",
      "t:  66%|██████▌   | 450/681 [01:34<01:31,  2.51it/s, now=None]\u001b[A"
     ]
    },
    {
     "name": "stdout",
     "output_type": "stream",
     "text": [
      "540\n",
      "135\n",
      "846\n"
     ]
    },
    {
     "name": "stderr",
     "output_type": "stream",
     "text": [
      "\n",
      "t:  66%|██████▌   | 451/681 [01:35<01:48,  2.12it/s, now=None]\u001b[A"
     ]
    },
    {
     "name": "stdout",
     "output_type": "stream",
     "text": [
      "540\n",
      "134\n",
      "845\n"
     ]
    },
    {
     "name": "stderr",
     "output_type": "stream",
     "text": [
      "\n",
      "t:  66%|██████▋   | 452/681 [01:35<01:55,  1.97it/s, now=None]\u001b[A\n",
      "t:  67%|██████▋   | 454/681 [01:35<01:25,  2.65it/s, now=None]\u001b[A"
     ]
    },
    {
     "name": "stdout",
     "output_type": "stream",
     "text": [
      "540\n",
      "136\n",
      "841\n",
      "540\n",
      "133\n",
      "848\n",
      "540\n",
      "132\n",
      "850\n"
     ]
    },
    {
     "name": "stderr",
     "output_type": "stream",
     "text": [
      "\n",
      "t:  67%|██████▋   | 456/681 [01:36<01:04,  3.49it/s, now=None]\u001b[A"
     ]
    },
    {
     "name": "stdout",
     "output_type": "stream",
     "text": [
      "540\n",
      "132\n",
      "863\n",
      "540\n",
      "135\n",
      "861\n",
      "540\n",
      "141\n",
      "842\n"
     ]
    },
    {
     "name": "stderr",
     "output_type": "stream",
     "text": [
      "\n",
      "t:  67%|██████▋   | 458/681 [01:36<00:49,  4.46it/s, now=None]\u001b[A\n",
      "t:  68%|██████▊   | 460/681 [01:36<00:39,  5.56it/s, now=None]\u001b[A"
     ]
    },
    {
     "name": "stdout",
     "output_type": "stream",
     "text": [
      "540\n",
      "133\n",
      "857\n",
      "540\n",
      "138\n",
      "850\n",
      "540\n",
      "131\n",
      "852\n"
     ]
    },
    {
     "name": "stderr",
     "output_type": "stream",
     "text": [
      "\n",
      "t:  68%|██████▊   | 462/681 [01:36<00:34,  6.33it/s, now=None]\u001b[A"
     ]
    },
    {
     "name": "stdout",
     "output_type": "stream",
     "text": [
      "540\n",
      "131\n",
      "851\n",
      "540\n",
      "138\n",
      "855\n"
     ]
    },
    {
     "name": "stderr",
     "output_type": "stream",
     "text": [
      "\n",
      "t:  68%|██████▊   | 464/681 [01:36<00:28,  7.58it/s, now=None]\u001b[A"
     ]
    },
    {
     "name": "stdout",
     "output_type": "stream",
     "text": [
      "540\n",
      "130\n",
      "851\n",
      "540\n",
      "150\n",
      "849\n",
      "540\n",
      "136\n",
      "852\n"
     ]
    },
    {
     "name": "stderr",
     "output_type": "stream",
     "text": [
      "\n",
      "t:  68%|██████▊   | 466/681 [01:36<00:24,  8.67it/s, now=None]\u001b[A\n",
      "t:  69%|██████▊   | 468/681 [01:37<00:22,  9.63it/s, now=None]\u001b[A"
     ]
    },
    {
     "name": "stdout",
     "output_type": "stream",
     "text": [
      "540\n",
      "140\n",
      "856\n",
      "540\n",
      "143\n",
      "865\n",
      "540\n",
      "135\n",
      "867\n"
     ]
    },
    {
     "name": "stderr",
     "output_type": "stream",
     "text": [
      "\n",
      "t:  69%|██████▉   | 470/681 [01:37<00:20, 10.54it/s, now=None]\u001b[A"
     ]
    },
    {
     "name": "stdout",
     "output_type": "stream",
     "text": [
      "540\n",
      "145\n",
      "861\n",
      "540\n",
      "140\n",
      "854\n",
      "540\n",
      "137\n",
      "847\n"
     ]
    },
    {
     "name": "stderr",
     "output_type": "stream",
     "text": [
      "\n",
      "t:  69%|██████▉   | 472/681 [01:37<00:18, 11.14it/s, now=None]\u001b[A\n",
      "t:  70%|██████▉   | 474/681 [01:37<00:17, 11.70it/s, now=None]\u001b[A"
     ]
    },
    {
     "name": "stdout",
     "output_type": "stream",
     "text": [
      "540\n",
      "150\n",
      "853\n",
      "540\n",
      "149\n",
      "850\n",
      "540\n",
      "151\n",
      "844\n"
     ]
    },
    {
     "name": "stderr",
     "output_type": "stream",
     "text": [
      "\n",
      "t:  70%|██████▉   | 476/681 [01:37<00:17, 12.04it/s, now=None]\u001b[A"
     ]
    },
    {
     "name": "stdout",
     "output_type": "stream",
     "text": [
      "540\n",
      "142\n",
      "849\n",
      "540\n",
      "151\n",
      "846\n",
      "540\n",
      "150\n",
      "854\n"
     ]
    },
    {
     "name": "stderr",
     "output_type": "stream",
     "text": [
      "\n",
      "t:  70%|███████   | 478/681 [01:37<00:16, 12.17it/s, now=None]\u001b[A\n",
      "t:  70%|███████   | 480/681 [01:37<00:15, 12.60it/s, now=None]\u001b[A"
     ]
    },
    {
     "name": "stdout",
     "output_type": "stream",
     "text": [
      "540\n",
      "143\n",
      "847\n",
      "540\n",
      "146\n",
      "859\n",
      "540\n",
      "137\n",
      "846\n",
      "540\n",
      "147\n",
      "859\n"
     ]
    },
    {
     "name": "stderr",
     "output_type": "stream",
     "text": [
      "\n",
      "t:  71%|███████   | 482/681 [01:38<00:20,  9.86it/s, now=None]\u001b[A"
     ]
    },
    {
     "name": "stdout",
     "output_type": "stream",
     "text": [
      "540\n",
      "141\n",
      "838\n",
      "540\n",
      "147\n",
      "847\n"
     ]
    },
    {
     "name": "stderr",
     "output_type": "stream",
     "text": [
      "\n",
      "t:  71%|███████   | 484/681 [01:39<01:05,  3.02it/s, now=None]\u001b[A"
     ]
    },
    {
     "name": "stdout",
     "output_type": "stream",
     "text": [
      "540\n",
      "149\n",
      "849\n"
     ]
    },
    {
     "name": "stderr",
     "output_type": "stream",
     "text": [
      "\n",
      "t:  71%|███████   | 485/681 [01:41<01:50,  1.77it/s, now=None]\u001b[A"
     ]
    },
    {
     "name": "stdout",
     "output_type": "stream",
     "text": [
      "540\n",
      "146\n",
      "836\n"
     ]
    },
    {
     "name": "stderr",
     "output_type": "stream",
     "text": [
      "\n",
      "t:  71%|███████▏  | 486/681 [01:41<01:44,  1.87it/s, now=None]\u001b[A\n",
      "t:  72%|███████▏  | 488/681 [01:41<01:17,  2.50it/s, now=None]\u001b[A"
     ]
    },
    {
     "name": "stdout",
     "output_type": "stream",
     "text": [
      "540\n",
      "135\n",
      "849\n",
      "540\n",
      "141\n",
      "844\n",
      "540\n",
      "136\n",
      "854\n"
     ]
    },
    {
     "name": "stderr",
     "output_type": "stream",
     "text": [
      "\n",
      "t:  72%|███████▏  | 490/681 [01:41<00:58,  3.27it/s, now=None]\u001b[A"
     ]
    },
    {
     "name": "stdout",
     "output_type": "stream",
     "text": [
      "540\n",
      "141\n",
      "845\n",
      "540\n",
      "136\n",
      "848\n",
      "540\n",
      "140\n",
      "854\n"
     ]
    },
    {
     "name": "stderr",
     "output_type": "stream",
     "text": [
      "\n",
      "t:  72%|███████▏  | 492/681 [01:42<00:45,  4.18it/s, now=None]\u001b[A\n",
      "t:  73%|███████▎  | 494/681 [01:42<00:36,  5.14it/s, now=None]\u001b[A"
     ]
    },
    {
     "name": "stdout",
     "output_type": "stream",
     "text": [
      "540\n",
      "142\n",
      "840\n",
      "540\n",
      "134\n",
      "853\n",
      "540\n"
     ]
    },
    {
     "name": "stderr",
     "output_type": "stream",
     "text": [
      "\n",
      "t:  73%|███████▎  | 496/681 [01:42<00:30,  6.14it/s, now=None]\u001b[A"
     ]
    },
    {
     "name": "stdout",
     "output_type": "stream",
     "text": [
      "144\n",
      "845\n",
      "540\n",
      "142\n",
      "832\n",
      "540\n",
      "144\n",
      "852\n"
     ]
    },
    {
     "name": "stderr",
     "output_type": "stream",
     "text": [
      "\n",
      "t:  73%|███████▎  | 498/681 [01:42<00:25,  7.10it/s, now=None]\u001b[A"
     ]
    },
    {
     "name": "stdout",
     "output_type": "stream",
     "text": [
      "540\n",
      "148\n",
      "853\n",
      "540\n",
      "147\n",
      "853\n",
      "540\n",
      "140\n",
      "862\n"
     ]
    },
    {
     "name": "stderr",
     "output_type": "stream",
     "text": [
      "\n",
      "t:  73%|███████▎  | 500/681 [01:42<00:22,  8.10it/s, now=None]\u001b[A\n",
      "t:  74%|███████▎  | 502/681 [01:42<00:20,  8.94it/s, now=None]\u001b[A"
     ]
    },
    {
     "name": "stdout",
     "output_type": "stream",
     "text": [
      "540\n",
      "141\n",
      "859\n",
      "540\n",
      "135\n",
      "858\n",
      "540\n",
      "140\n",
      "861\n"
     ]
    },
    {
     "name": "stderr",
     "output_type": "stream",
     "text": [
      "\n",
      "t:  74%|███████▍  | 504/681 [01:43<00:18,  9.75it/s, now=None]\u001b[A"
     ]
    },
    {
     "name": "stdout",
     "output_type": "stream",
     "text": [
      "540\n",
      "144\n",
      "861\n",
      "540\n",
      "144\n",
      "861\n",
      "540\n",
      "145\n",
      "859\n"
     ]
    },
    {
     "name": "stderr",
     "output_type": "stream",
     "text": [
      "\n",
      "t:  74%|███████▍  | 506/681 [01:43<00:16, 10.45it/s, now=None]\u001b[A\n",
      "t:  75%|███████▍  | 508/681 [01:43<00:15, 11.09it/s, now=None]\u001b[A"
     ]
    },
    {
     "name": "stdout",
     "output_type": "stream",
     "text": [
      "540\n",
      "145\n",
      "860\n",
      "540\n",
      "142\n",
      "860\n",
      "540\n",
      "132\n",
      "859\n"
     ]
    },
    {
     "name": "stderr",
     "output_type": "stream",
     "text": [
      "\n",
      "t:  75%|███████▍  | 510/681 [01:43<00:14, 11.54it/s, now=None]\u001b[A"
     ]
    },
    {
     "name": "stdout",
     "output_type": "stream",
     "text": [
      "540\n",
      "143\n",
      "846\n",
      "540\n",
      "135\n",
      "851\n",
      "540\n",
      "134\n",
      "850\n"
     ]
    },
    {
     "name": "stderr",
     "output_type": "stream",
     "text": [
      "\n",
      "t:  75%|███████▌  | 512/681 [01:43<00:14, 11.88it/s, now=None]\u001b[A\n",
      "t:  75%|███████▌  | 514/681 [01:43<00:16, 10.18it/s, now=None]\u001b[A"
     ]
    },
    {
     "name": "stdout",
     "output_type": "stream",
     "text": [
      "540\n",
      "142\n",
      "848\n",
      "540\n",
      "139\n",
      "843\n",
      "540\n",
      "126\n",
      "846\n",
      "540\n",
      "124\n",
      "851\n"
     ]
    },
    {
     "name": "stderr",
     "output_type": "stream",
     "text": [
      "\n",
      "t:  76%|███████▌  | 516/681 [01:46<01:18,  2.09it/s, now=None]\u001b[A\n",
      "t:  76%|███████▌  | 517/681 [01:47<01:09,  2.35it/s, now=None]\u001b[A"
     ]
    },
    {
     "name": "stdout",
     "output_type": "stream",
     "text": [
      "540\n",
      "137\n",
      "850\n",
      "540\n",
      "136\n",
      "852\n"
     ]
    },
    {
     "name": "stderr",
     "output_type": "stream",
     "text": [
      "\n",
      "t:  76%|███████▌  | 518/681 [01:47<00:54,  2.99it/s, now=None]\u001b[A\n",
      "t:  76%|███████▋  | 520/681 [01:47<00:41,  3.87it/s, now=None]\u001b[A"
     ]
    },
    {
     "name": "stdout",
     "output_type": "stream",
     "text": [
      "540\n",
      "141\n",
      "855\n",
      "540\n",
      "139\n",
      "843\n",
      "540\n",
      "142\n",
      "848\n"
     ]
    },
    {
     "name": "stderr",
     "output_type": "stream",
     "text": [
      "\n",
      "t:  77%|███████▋  | 522/681 [01:47<00:32,  4.90it/s, now=None]\u001b[A"
     ]
    },
    {
     "name": "stdout",
     "output_type": "stream",
     "text": [
      "540\n",
      "138\n",
      "842\n",
      "540\n",
      "139\n",
      "841\n",
      "540\n",
      "134\n",
      "850\n"
     ]
    },
    {
     "name": "stderr",
     "output_type": "stream",
     "text": [
      "\n",
      "t:  77%|███████▋  | 524/681 [01:47<00:26,  6.01it/s, now=None]\u001b[A\n",
      "t:  77%|███████▋  | 526/681 [01:47<00:21,  7.15it/s, now=None]\u001b[A"
     ]
    },
    {
     "name": "stdout",
     "output_type": "stream",
     "text": [
      "540\n",
      "139\n",
      "845\n",
      "540\n",
      "139\n",
      "840\n",
      "540\n",
      "147\n",
      "841\n"
     ]
    },
    {
     "name": "stderr",
     "output_type": "stream",
     "text": [
      "\n",
      "t:  78%|███████▊  | 528/681 [01:47<00:18,  8.21it/s, now=None]\u001b[A"
     ]
    },
    {
     "name": "stdout",
     "output_type": "stream",
     "text": [
      "540\n",
      "131\n",
      "851\n",
      "540\n",
      "138\n",
      "837\n",
      "540\n",
      "142\n",
      "850\n"
     ]
    },
    {
     "name": "stderr",
     "output_type": "stream",
     "text": [
      "\n",
      "t:  78%|███████▊  | 530/681 [01:48<00:16,  9.18it/s, now=None]\u001b[A\n",
      "t:  78%|███████▊  | 532/681 [01:48<00:14, 10.02it/s, now=None]\u001b[A"
     ]
    },
    {
     "name": "stdout",
     "output_type": "stream",
     "text": [
      "540\n",
      "140\n",
      "837\n",
      "540\n",
      "147\n",
      "844\n",
      "540\n",
      "139\n",
      "846\n"
     ]
    },
    {
     "name": "stderr",
     "output_type": "stream",
     "text": [
      "\n",
      "t:  78%|███████▊  | 534/681 [01:48<00:13, 10.60it/s, now=None]\u001b[A"
     ]
    },
    {
     "name": "stdout",
     "output_type": "stream",
     "text": [
      "540\n",
      "152\n",
      "844\n",
      "540\n",
      "158\n",
      "844\n",
      "540\n",
      "157\n",
      "847\n"
     ]
    },
    {
     "name": "stderr",
     "output_type": "stream",
     "text": [
      "\n",
      "t:  79%|███████▊  | 536/681 [01:48<00:12, 11.18it/s, now=None]\u001b[A\n",
      "t:  79%|███████▉  | 538/681 [01:48<00:12, 11.54it/s, now=None]\u001b[A"
     ]
    },
    {
     "name": "stdout",
     "output_type": "stream",
     "text": [
      "540\n",
      "154\n",
      "847\n",
      "540\n",
      "161\n",
      "854\n",
      "540\n",
      "144\n",
      "839\n"
     ]
    },
    {
     "name": "stderr",
     "output_type": "stream",
     "text": [
      "\n",
      "t:  79%|███████▉  | 540/681 [01:48<00:11, 11.84it/s, now=None]\u001b[A"
     ]
    },
    {
     "name": "stdout",
     "output_type": "stream",
     "text": [
      "540\n",
      "147\n",
      "849\n",
      "540\n",
      "145\n",
      "856\n",
      "540\n",
      "151\n",
      "847\n"
     ]
    },
    {
     "name": "stderr",
     "output_type": "stream",
     "text": [
      "\n",
      "t:  80%|███████▉  | 542/681 [01:49<00:11, 12.21it/s, now=None]\u001b[A"
     ]
    },
    {
     "name": "stdout",
     "output_type": "stream",
     "text": [
      "540\n",
      "153\n",
      "857\n",
      "540\n",
      "150\n",
      "851\n"
     ]
    },
    {
     "name": "stderr",
     "output_type": "stream",
     "text": [
      "\n",
      "t:  80%|███████▉  | 544/681 [01:49<00:12, 11.12it/s, now=None]\u001b[A"
     ]
    },
    {
     "name": "stdout",
     "output_type": "stream",
     "text": [
      "540\n",
      "149\n",
      "842\n",
      "540\n",
      "148\n",
      "852\n"
     ]
    },
    {
     "name": "stderr",
     "output_type": "stream",
     "text": [
      "\n",
      "t:  80%|████████  | 546/681 [01:49<00:13,  9.86it/s, now=None]\u001b[A"
     ]
    },
    {
     "name": "stdout",
     "output_type": "stream",
     "text": [
      "540\n",
      "159\n",
      "859\n",
      "540\n",
      "156\n",
      "852\n"
     ]
    },
    {
     "name": "stderr",
     "output_type": "stream",
     "text": [
      "\n",
      "t:  80%|████████  | 548/681 [01:49<00:14,  9.42it/s, now=None]\u001b[A\n",
      "t:  81%|████████  | 549/681 [01:49<00:14,  9.37it/s, now=None]\u001b[A"
     ]
    },
    {
     "name": "stdout",
     "output_type": "stream",
     "text": [
      "540\n",
      "159\n",
      "857\n",
      "540\n",
      "154\n",
      "862\n"
     ]
    },
    {
     "name": "stderr",
     "output_type": "stream",
     "text": [
      "\n",
      "t:  81%|████████  | 550/681 [01:50<00:28,  4.67it/s, now=None]\u001b[A"
     ]
    },
    {
     "name": "stdout",
     "output_type": "stream",
     "text": [
      "540\n",
      "153\n",
      "858\n"
     ]
    },
    {
     "name": "stderr",
     "output_type": "stream",
     "text": [
      "\n",
      "t:  81%|████████  | 551/681 [01:51<01:13,  1.77it/s, now=None]\u001b[A"
     ]
    },
    {
     "name": "stdout",
     "output_type": "stream",
     "text": [
      "540\n",
      "151\n",
      "858\n"
     ]
    },
    {
     "name": "stderr",
     "output_type": "stream",
     "text": [
      "\n",
      "t:  81%|████████  | 552/681 [01:52<01:39,  1.29it/s, now=None]\u001b[A\n",
      "t:  81%|████████▏ | 554/681 [01:53<01:11,  1.77it/s, now=None]\u001b[A"
     ]
    },
    {
     "name": "stdout",
     "output_type": "stream",
     "text": [
      "540\n",
      "148\n",
      "860\n",
      "540\n",
      "149\n",
      "845\n",
      "540\n",
      "157\n",
      "848\n"
     ]
    },
    {
     "name": "stderr",
     "output_type": "stream",
     "text": [
      "\n",
      "t:  82%|████████▏ | 556/681 [01:53<00:52,  2.38it/s, now=None]\u001b[A"
     ]
    },
    {
     "name": "stdout",
     "output_type": "stream",
     "text": [
      "540\n",
      "155\n",
      "860\n",
      "540\n",
      "148\n",
      "851\n",
      "540\n",
      "168\n",
      "856\n"
     ]
    },
    {
     "name": "stderr",
     "output_type": "stream",
     "text": [
      "\n",
      "t:  82%|████████▏ | 558/681 [01:53<00:38,  3.16it/s, now=None]\u001b[A\n",
      "t:  82%|████████▏ | 560/681 [01:53<00:29,  4.09it/s, now=None]\u001b[A"
     ]
    },
    {
     "name": "stdout",
     "output_type": "stream",
     "text": [
      "540\n",
      "157\n",
      "858\n",
      "540\n",
      "153\n",
      "866\n",
      "540\n",
      "156\n",
      "856\n"
     ]
    },
    {
     "name": "stderr",
     "output_type": "stream",
     "text": [
      "\n",
      "t:  83%|████████▎ | 562/681 [01:53<00:23,  5.02it/s, now=None]\u001b[A"
     ]
    },
    {
     "name": "stdout",
     "output_type": "stream",
     "text": [
      "540\n",
      "153\n",
      "852\n",
      "540\n",
      "150\n",
      "859\n",
      "540\n",
      "151\n",
      "861\n"
     ]
    },
    {
     "name": "stderr",
     "output_type": "stream",
     "text": [
      "\n",
      "t:  83%|████████▎ | 564/681 [01:53<00:19,  6.05it/s, now=None]\u001b[A\n",
      "t:  83%|████████▎ | 566/681 [01:54<00:16,  7.03it/s, now=None]\u001b[A"
     ]
    },
    {
     "name": "stdout",
     "output_type": "stream",
     "text": [
      "540\n",
      "149\n",
      "869\n",
      "540\n",
      "151\n",
      "868\n",
      "540\n",
      "154\n",
      "868\n"
     ]
    },
    {
     "name": "stderr",
     "output_type": "stream",
     "text": [
      "\n",
      "t:  83%|████████▎ | 568/681 [01:54<00:14,  7.94it/s, now=None]\u001b[A"
     ]
    },
    {
     "name": "stdout",
     "output_type": "stream",
     "text": [
      "540\n",
      "164\n",
      "865\n",
      "540\n",
      "165\n",
      "868\n",
      "540\n",
      "164\n",
      "870\n"
     ]
    },
    {
     "name": "stderr",
     "output_type": "stream",
     "text": [
      "\n",
      "t:  84%|████████▎ | 570/681 [01:54<00:12,  8.86it/s, now=None]\u001b[A"
     ]
    },
    {
     "name": "stdout",
     "output_type": "stream",
     "text": [
      "540\n",
      "168\n",
      "871\n",
      "540\n",
      "167\n",
      "873\n"
     ]
    },
    {
     "name": "stderr",
     "output_type": "stream",
     "text": [
      "\n",
      "t:  84%|████████▍ | 572/681 [01:54<00:16,  6.49it/s, now=None]\u001b[A\n",
      "t:  84%|████████▍ | 574/681 [01:55<00:13,  7.66it/s, now=None]\u001b[A"
     ]
    },
    {
     "name": "stdout",
     "output_type": "stream",
     "text": [
      "540\n",
      "162\n",
      "872\n",
      "540\n",
      "174\n",
      "879\n",
      "540\n",
      "169\n",
      "875\n"
     ]
    },
    {
     "name": "stderr",
     "output_type": "stream",
     "text": [
      "\n",
      "t:  85%|████████▍ | 576/681 [01:55<00:12,  8.56it/s, now=None]\u001b[A"
     ]
    },
    {
     "name": "stdout",
     "output_type": "stream",
     "text": [
      "540\n",
      "158\n",
      "875\n",
      "540\n",
      "179\n",
      "874\n",
      "540\n",
      "173\n",
      "878\n"
     ]
    },
    {
     "name": "stderr",
     "output_type": "stream",
     "text": [
      "\n",
      "t:  85%|████████▍ | 578/681 [01:55<00:11,  9.36it/s, now=None]\u001b[A\n",
      "t:  85%|████████▌ | 580/681 [01:55<00:10,  9.71it/s, now=None]\u001b[A"
     ]
    },
    {
     "name": "stdout",
     "output_type": "stream",
     "text": [
      "540\n",
      "166\n",
      "867\n",
      "540\n",
      "172\n",
      "887\n",
      "540"
     ]
    },
    {
     "name": "stderr",
     "output_type": "stream",
     "text": [
      "\n",
      "t:  85%|████████▌ | 582/681 [01:55<00:09,  9.97it/s, now=None]\u001b[A"
     ]
    },
    {
     "name": "stdout",
     "output_type": "stream",
     "text": [
      "\n",
      "168\n",
      "883\n",
      "540\n",
      "163\n",
      "879\n",
      "540\n",
      "160\n",
      "876\n",
      "540\n",
      "162\n",
      "879\n"
     ]
    },
    {
     "name": "stderr",
     "output_type": "stream",
     "text": [
      "\n",
      "t:  86%|████████▌ | 584/681 [01:58<00:47,  2.06it/s, now=None]\u001b[A"
     ]
    },
    {
     "name": "stdout",
     "output_type": "stream",
     "text": [
      "540\n",
      "168\n",
      "880\n"
     ]
    },
    {
     "name": "stderr",
     "output_type": "stream",
     "text": [
      "\n",
      "t:  86%|████████▌ | 585/681 [01:58<00:43,  2.20it/s, now=None]\u001b[A\n",
      "t:  86%|████████▌ | 587/681 [01:59<00:32,  2.93it/s, now=None]\u001b[A"
     ]
    },
    {
     "name": "stdout",
     "output_type": "stream",
     "text": [
      "540\n",
      "169\n",
      "881\n",
      "540\n",
      "175\n",
      "887\n",
      "540\n",
      "166\n",
      "881\n"
     ]
    },
    {
     "name": "stderr",
     "output_type": "stream",
     "text": [
      "\n",
      "t:  86%|████████▋ | 589/681 [01:59<00:24,  3.78it/s, now=None]\u001b[A"
     ]
    },
    {
     "name": "stdout",
     "output_type": "stream",
     "text": [
      "540\n",
      "171\n",
      "881\n",
      "540\n",
      "172\n",
      "882\n",
      "540\n",
      "180\n",
      "876\n"
     ]
    },
    {
     "name": "stderr",
     "output_type": "stream",
     "text": [
      "\n",
      "t:  87%|████████▋ | 591/681 [01:59<00:18,  4.78it/s, now=None]\u001b[A\n",
      "t:  87%|████████▋ | 593/681 [01:59<00:15,  5.81it/s, now=None]\u001b[A"
     ]
    },
    {
     "name": "stdout",
     "output_type": "stream",
     "text": [
      "540\n",
      "177\n",
      "874\n",
      "540\n",
      "182\n",
      "864\n",
      "540\n",
      "174\n",
      "868\n"
     ]
    },
    {
     "name": "stderr",
     "output_type": "stream",
     "text": [
      "\n",
      "t:  87%|████████▋ | 595/681 [01:59<00:12,  6.87it/s, now=None]\u001b[A"
     ]
    },
    {
     "name": "stdout",
     "output_type": "stream",
     "text": [
      "540\n",
      "182\n",
      "869\n",
      "540\n",
      "180\n",
      "867\n",
      "540\n",
      "177\n",
      "869\n"
     ]
    },
    {
     "name": "stderr",
     "output_type": "stream",
     "text": [
      "\n",
      "t:  88%|████████▊ | 597/681 [01:59<00:10,  7.94it/s, now=None]\u001b[A\n",
      "t:  88%|████████▊ | 599/681 [02:00<00:09,  8.70it/s, now=None]\u001b[A"
     ]
    },
    {
     "name": "stdout",
     "output_type": "stream",
     "text": [
      "540\n",
      "189\n",
      "863\n",
      "540\n",
      "185\n",
      "866\n",
      "540\n",
      "186\n",
      "868\n"
     ]
    },
    {
     "name": "stderr",
     "output_type": "stream",
     "text": [
      "\n",
      "t:  88%|████████▊ | 601/681 [02:00<00:08,  9.29it/s, now=None]\u001b[A"
     ]
    },
    {
     "name": "stdout",
     "output_type": "stream",
     "text": [
      "540\n",
      "185\n",
      "873\n",
      "540\n",
      "186\n",
      "871\n",
      "540"
     ]
    },
    {
     "name": "stderr",
     "output_type": "stream",
     "text": [
      "\n",
      "t:  89%|████████▊ | 603/681 [02:00<00:08,  8.98it/s, now=None]\u001b[A"
     ]
    },
    {
     "name": "stdout",
     "output_type": "stream",
     "text": [
      "\n",
      "185\n",
      "873\n",
      "540\n",
      "182\n",
      "879\n"
     ]
    },
    {
     "name": "stderr",
     "output_type": "stream",
     "text": [
      "\n",
      "t:  89%|████████▉ | 605/681 [02:00<00:10,  7.28it/s, now=None]\u001b[A"
     ]
    },
    {
     "name": "stdout",
     "output_type": "stream",
     "text": [
      "540\n",
      "180\n",
      "880\n",
      "540\n",
      "177\n",
      "879\n"
     ]
    },
    {
     "name": "stderr",
     "output_type": "stream",
     "text": [
      "\n",
      "t:  89%|████████▉ | 606/681 [02:01<00:09,  7.62it/s, now=None]\u001b[A\n",
      "t:  89%|████████▉ | 607/681 [02:01<00:09,  8.18it/s, now=None]\u001b[A\n",
      "t:  89%|████████▉ | 608/681 [02:01<00:08,  8.43it/s, now=None]"
     ]
    },
    {
     "name": "stdout",
     "output_type": "stream",
     "text": [
      "540\n",
      "177\n",
      "883\n",
      "540\n",
      "179\n",
      "882\n"
     ]
    },
    {
     "name": "stderr",
     "output_type": "stream",
     "text": [
      "\u001b[A\n",
      "t:  89%|████████▉ | 609/681 [02:01<00:09,  7.58it/s, now=None]\u001b[A"
     ]
    },
    {
     "name": "stdout",
     "output_type": "stream",
     "text": [
      "540\n",
      "182\n",
      "884\n",
      "540\n",
      "190\n",
      "878\n"
     ]
    },
    {
     "name": "stderr",
     "output_type": "stream",
     "text": [
      "\n",
      "t:  90%|████████▉ | 610/681 [02:01<00:09,  7.41it/s, now=None]\u001b[A\n",
      "t:  90%|████████▉ | 611/681 [02:01<00:08,  7.90it/s, now=None]\u001b[A"
     ]
    },
    {
     "name": "stdout",
     "output_type": "stream",
     "text": [
      "540\n",
      "197\n",
      "882\n",
      "540\n",
      "194\n",
      "880\n"
     ]
    },
    {
     "name": "stderr",
     "output_type": "stream",
     "text": [
      "\n",
      "t:  90%|████████▉ | 612/681 [02:01<00:08,  7.73it/s, now=None]\u001b[A"
     ]
    },
    {
     "name": "stdout",
     "output_type": "stream",
     "text": [
      "540\n",
      "198\n",
      "877\n"
     ]
    },
    {
     "name": "stderr",
     "output_type": "stream",
     "text": [
      "\n",
      "t:  90%|█████████ | 613/681 [02:03<00:38,  1.77it/s, now=None]\u001b[A"
     ]
    },
    {
     "name": "stdout",
     "output_type": "stream",
     "text": [
      "540\n",
      "193\n",
      "876\n"
     ]
    },
    {
     "name": "stderr",
     "output_type": "stream",
     "text": [
      "\n",
      "t:  90%|█████████ | 614/681 [02:04<00:54,  1.24it/s, now=None]\u001b[A\n",
      "t:  90%|█████████ | 616/681 [02:04<00:38,  1.70it/s, now=None]\u001b[A"
     ]
    },
    {
     "name": "stdout",
     "output_type": "stream",
     "text": [
      "540\n",
      "197\n",
      "877\n",
      "540\n",
      "199\n",
      "885\n",
      "540\n",
      "196\n",
      "884\n"
     ]
    },
    {
     "name": "stderr",
     "output_type": "stream",
     "text": [
      "\n",
      "t:  91%|█████████ | 618/681 [02:05<00:27,  2.29it/s, now=None]\u001b[A"
     ]
    },
    {
     "name": "stdout",
     "output_type": "stream",
     "text": [
      "540\n",
      "194\n",
      "873\n",
      "540\n",
      "194\n",
      "883\n",
      "540\n",
      "191\n",
      "871\n"
     ]
    },
    {
     "name": "stderr",
     "output_type": "stream",
     "text": [
      "\n",
      "t:  91%|█████████ | 620/681 [02:05<00:20,  3.02it/s, now=None]\u001b[A\n",
      "t:  91%|█████████ | 621/681 [02:05<00:15,  3.80it/s, now=None]\u001b[A"
     ]
    },
    {
     "name": "stdout",
     "output_type": "stream",
     "text": [
      "540\n",
      "202\n",
      "866\n",
      "540\n",
      "195\n",
      "865\n",
      "540\n",
      "196\n",
      "877\n"
     ]
    },
    {
     "name": "stderr",
     "output_type": "stream",
     "text": [
      "\n",
      "t:  91%|█████████▏| 623/681 [02:05<00:11,  4.83it/s, now=None]\u001b[A\n",
      "t:  92%|█████████▏| 625/681 [02:05<00:09,  5.80it/s, now=None]\u001b[A"
     ]
    },
    {
     "name": "stdout",
     "output_type": "stream",
     "text": [
      "540\n",
      "196\n",
      "884\n",
      "540\n",
      "200\n",
      "886\n",
      "540\n",
      "203\n",
      "882\n"
     ]
    },
    {
     "name": "stderr",
     "output_type": "stream",
     "text": [
      "\n",
      "t:  92%|█████████▏| 627/681 [02:05<00:08,  6.51it/s, now=None]\u001b[A"
     ]
    },
    {
     "name": "stdout",
     "output_type": "stream",
     "text": [
      "540\n",
      "189\n",
      "884\n",
      "540\n",
      "201\n",
      "878\n",
      "540"
     ]
    },
    {
     "name": "stderr",
     "output_type": "stream",
     "text": [
      "\n",
      "t:  92%|█████████▏| 629/681 [02:06<00:07,  7.21it/s, now=None]\u001b[A"
     ]
    },
    {
     "name": "stdout",
     "output_type": "stream",
     "text": [
      "\n",
      "187\n",
      "885\n",
      "540\n",
      "200\n",
      "882\n"
     ]
    },
    {
     "name": "stderr",
     "output_type": "stream",
     "text": [
      "\n",
      "t:  93%|█████████▎| 631/681 [02:06<00:06,  7.34it/s, now=None]\u001b[A"
     ]
    },
    {
     "name": "stdout",
     "output_type": "stream",
     "text": [
      "540\n",
      "194\n",
      "886\n",
      "540\n",
      "196\n",
      "861\n"
     ]
    },
    {
     "name": "stderr",
     "output_type": "stream",
     "text": [
      "\n",
      "t:  93%|█████████▎| 632/681 [02:06<00:06,  7.78it/s, now=None]\u001b[A\n",
      "t:  93%|█████████▎| 633/681 [02:06<00:06,  7.94it/s, now=None]\u001b[A"
     ]
    },
    {
     "name": "stdout",
     "output_type": "stream",
     "text": [
      "540\n",
      "187\n",
      "868\n",
      "540\n",
      "189\n",
      "864\n"
     ]
    },
    {
     "name": "stderr",
     "output_type": "stream",
     "text": [
      "\n",
      "t:  93%|█████████▎| 634/681 [02:06<00:06,  7.48it/s, now=None]\u001b[A\n",
      "t:  93%|█████████▎| 635/681 [02:06<00:05,  7.70it/s, now=None]\u001b[A"
     ]
    },
    {
     "name": "stdout",
     "output_type": "stream",
     "text": [
      "540\n",
      "189\n",
      "878\n",
      "540\n",
      "188\n",
      "880\n"
     ]
    },
    {
     "name": "stderr",
     "output_type": "stream",
     "text": [
      "\n",
      "t:  93%|█████████▎| 636/681 [02:07<00:06,  7.21it/s, now=None]\u001b[A\n",
      "t:  94%|█████████▎| 638/681 [02:07<00:05,  8.20it/s, now=None]\u001b[A"
     ]
    },
    {
     "name": "stdout",
     "output_type": "stream",
     "text": [
      "540\n",
      "196\n",
      "876\n",
      "540\n",
      "195\n",
      "878\n",
      "540\n",
      "187\n",
      "867\n"
     ]
    },
    {
     "name": "stderr",
     "output_type": "stream",
     "text": [
      "\n",
      "t:  94%|█████████▍| 640/681 [02:07<00:04,  9.06it/s, now=None]\u001b[A"
     ]
    },
    {
     "name": "stdout",
     "output_type": "stream",
     "text": [
      "540\n",
      "192\n",
      "872\n",
      "540\n",
      "187\n",
      "857\n",
      "540\n",
      "179\n",
      "874\n"
     ]
    },
    {
     "name": "stderr",
     "output_type": "stream",
     "text": [
      "\n",
      "t:  94%|█████████▍| 642/681 [02:07<00:03,  9.78it/s, now=None]\u001b[A"
     ]
    },
    {
     "name": "stdout",
     "output_type": "stream",
     "text": [
      "540\n",
      "175\n",
      "870\n",
      "540\n",
      "177\n",
      "876\n"
     ]
    },
    {
     "name": "stderr",
     "output_type": "stream",
     "text": [
      "\n",
      "t:  95%|█████████▍| 644/681 [02:08<00:04,  7.62it/s, now=None]\u001b[A"
     ]
    },
    {
     "name": "stdout",
     "output_type": "stream",
     "text": [
      "540\n",
      "180\n",
      "871\n"
     ]
    },
    {
     "name": "stderr",
     "output_type": "stream",
     "text": [
      "\n",
      "t:  95%|█████████▍| 645/681 [02:09<00:15,  2.33it/s, now=None]\u001b[A"
     ]
    },
    {
     "name": "stdout",
     "output_type": "stream",
     "text": [
      "540\n",
      "178\n",
      "863\n"
     ]
    },
    {
     "name": "stderr",
     "output_type": "stream",
     "text": [
      "\n",
      "t:  95%|█████████▍| 646/681 [02:10<00:25,  1.38it/s, now=None]\u001b[A\n",
      "t:  95%|█████████▌| 647/681 [02:10<00:19,  1.71it/s, now=None]\u001b[A"
     ]
    },
    {
     "name": "stdout",
     "output_type": "stream",
     "text": [
      "540\n",
      "181\n",
      "866\n",
      "540\n",
      "179\n",
      "872\n"
     ]
    },
    {
     "name": "stderr",
     "output_type": "stream",
     "text": [
      "\n",
      "t:  95%|█████████▌| 648/681 [02:10<00:14,  2.24it/s, now=None]\u001b[A\n",
      "t:  95%|█████████▌| 649/681 [02:11<00:11,  2.80it/s, now=None]\u001b[A"
     ]
    },
    {
     "name": "stdout",
     "output_type": "stream",
     "text": [
      "540\n",
      "179\n",
      "864\n",
      "540\n",
      "172\n",
      "877\n"
     ]
    },
    {
     "name": "stderr",
     "output_type": "stream",
     "text": [
      "\n",
      "t:  96%|█████████▌| 651/681 [02:11<00:08,  3.63it/s, now=None]\u001b[A"
     ]
    },
    {
     "name": "stdout",
     "output_type": "stream",
     "text": [
      "540\n",
      "183\n",
      "859\n",
      "540\n",
      "170\n",
      "873\n",
      "540\n",
      "174\n",
      "861\n"
     ]
    },
    {
     "name": "stderr",
     "output_type": "stream",
     "text": [
      "\n",
      "t:  96%|█████████▌| 653/681 [02:11<00:06,  4.59it/s, now=None]\u001b[A\n",
      "t:  96%|█████████▌| 654/681 [02:11<00:04,  5.44it/s, now=None]\u001b[A"
     ]
    },
    {
     "name": "stdout",
     "output_type": "stream",
     "text": [
      "540\n",
      "179\n",
      "872\n",
      "540\n",
      "171\n",
      "867\n"
     ]
    },
    {
     "name": "stderr",
     "output_type": "stream",
     "text": [
      "\n",
      "t:  96%|█████████▌| 655/681 [02:11<00:04,  6.20it/s, now=None]\u001b[A\n",
      "t:  96%|█████████▋| 656/681 [02:11<00:03,  6.41it/s, now=None]\u001b[A"
     ]
    },
    {
     "name": "stdout",
     "output_type": "stream",
     "text": [
      "540\n",
      "174\n",
      "869\n",
      "540\n",
      "168\n",
      "868\n"
     ]
    },
    {
     "name": "stderr",
     "output_type": "stream",
     "text": [
      "\n",
      "t:  96%|█████████▋| 657/681 [02:11<00:03,  6.61it/s, now=None]\u001b[A\n",
      "t:  97%|█████████▋| 658/681 [02:12<00:03,  6.80it/s, now=None]\u001b[A"
     ]
    },
    {
     "name": "stdout",
     "output_type": "stream",
     "text": [
      "540\n",
      "168\n",
      "857\n",
      "540\n",
      "171\n",
      "875\n"
     ]
    },
    {
     "name": "stderr",
     "output_type": "stream",
     "text": [
      "\n",
      "t:  97%|█████████▋| 659/681 [02:12<00:03,  7.21it/s, now=None]\u001b[A\n",
      "t:  97%|█████████▋| 660/681 [02:12<00:02,  7.58it/s, now=None]\u001b[A"
     ]
    },
    {
     "name": "stdout",
     "output_type": "stream",
     "text": [
      "540\n",
      "169\n",
      "865\n",
      "540\n",
      "166\n",
      "864\n"
     ]
    },
    {
     "name": "stderr",
     "output_type": "stream",
     "text": [
      "\n",
      "t:  97%|█████████▋| 661/681 [02:12<00:03,  5.78it/s, now=None]\u001b[A\n",
      "t:  97%|█████████▋| 662/681 [02:12<00:02,  6.38it/s, now=None]\u001b[A"
     ]
    },
    {
     "name": "stdout",
     "output_type": "stream",
     "text": [
      "540\n",
      "172\n",
      "863\n",
      "540\n",
      "163\n",
      "863\n"
     ]
    },
    {
     "name": "stderr",
     "output_type": "stream",
     "text": [
      "\n",
      "t:  97%|█████████▋| 663/681 [02:12<00:02,  6.72it/s, now=None]\u001b[A\n",
      "t:  98%|█████████▊| 664/681 [02:12<00:02,  6.89it/s, now=None]\u001b[A"
     ]
    },
    {
     "name": "stdout",
     "output_type": "stream",
     "text": [
      "540\n",
      "166\n",
      "864\n",
      "540\n",
      "159\n",
      "872\n"
     ]
    },
    {
     "name": "stderr",
     "output_type": "stream",
     "text": [
      "\n",
      "t:  98%|█████████▊| 666/681 [02:13<00:01,  7.73it/s, now=None]\u001b[A\n",
      "t:  98%|█████████▊| 667/681 [02:13<00:01,  8.25it/s, now=None]"
     ]
    },
    {
     "name": "stdout",
     "output_type": "stream",
     "text": [
      "540\n",
      "155\n",
      "878\n",
      "540\n",
      "164\n",
      "870\n"
     ]
    },
    {
     "name": "stderr",
     "output_type": "stream",
     "text": [
      "\u001b[A\n",
      "t:  98%|█████████▊| 668/681 [02:13<00:01,  7.87it/s, now=None]\u001b[A"
     ]
    },
    {
     "name": "stdout",
     "output_type": "stream",
     "text": [
      "540\n",
      "163\n",
      "863\n",
      "540\n",
      "159\n",
      "860\n"
     ]
    },
    {
     "name": "stderr",
     "output_type": "stream",
     "text": [
      "\n",
      "t:  98%|█████████▊| 669/681 [02:13<00:01,  6.70it/s, now=None]\u001b[A"
     ]
    },
    {
     "name": "stdout",
     "output_type": "stream",
     "text": [
      "540\n",
      "161\n",
      "876\n"
     ]
    },
    {
     "name": "stderr",
     "output_type": "stream",
     "text": [
      "\n",
      "t:  98%|█████████▊| 670/681 [02:13<00:02,  5.31it/s, now=None]\u001b[A"
     ]
    },
    {
     "name": "stdout",
     "output_type": "stream",
     "text": [
      "540\n",
      "153\n",
      "871\n"
     ]
    },
    {
     "name": "stderr",
     "output_type": "stream",
     "text": [
      "\n",
      "t:  99%|█████████▊| 671/681 [02:15<00:06,  1.46it/s, now=None]\u001b[A"
     ]
    },
    {
     "name": "stdout",
     "output_type": "stream",
     "text": [
      "540\n",
      "157\n",
      "867\n"
     ]
    },
    {
     "name": "stderr",
     "output_type": "stream",
     "text": [
      "\n",
      "t:  99%|█████████▊| 672/681 [02:16<00:07,  1.26it/s, now=None]\u001b[A\n",
      "t:  99%|█████████▉| 673/681 [02:16<00:04,  1.64it/s, now=None]\u001b[A"
     ]
    },
    {
     "name": "stdout",
     "output_type": "stream",
     "text": [
      "540\n",
      "150\n",
      "866\n",
      "540"
     ]
    },
    {
     "name": "stderr",
     "output_type": "stream",
     "text": [
      "\n",
      "t:  99%|█████████▉| 674/681 [02:17<00:03,  2.14it/s, now=None]\u001b[A"
     ]
    },
    {
     "name": "stdout",
     "output_type": "stream",
     "text": [
      "\n",
      "155\n",
      "867\n",
      "540\n",
      "158\n",
      "872\n"
     ]
    },
    {
     "name": "stderr",
     "output_type": "stream",
     "text": [
      "\n",
      "t:  99%|█████████▉| 675/681 [02:17<00:02,  2.71it/s, now=None]\u001b[A\n",
      "t:  99%|█████████▉| 676/681 [02:17<00:01,  3.43it/s, now=None]\u001b[A"
     ]
    },
    {
     "name": "stdout",
     "output_type": "stream",
     "text": [
      "540\n",
      "165\n",
      "865\n",
      "540\n",
      "164\n",
      "871\n"
     ]
    },
    {
     "name": "stderr",
     "output_type": "stream",
     "text": [
      "\n",
      "t:  99%|█████████▉| 677/681 [02:17<00:00,  4.07it/s, now=None]\u001b[A\n",
      "t: 100%|█████████▉| 679/681 [02:17<00:00,  5.11it/s, now=None]\u001b[A"
     ]
    },
    {
     "name": "stdout",
     "output_type": "stream",
     "text": [
      "540\n",
      "171\n",
      "868\n",
      "540\n",
      "158\n",
      "859\n",
      "540\n",
      "160\n",
      "864\n"
     ]
    },
    {
     "name": "stderr",
     "output_type": "stream",
     "text": [
      "\n",
      "t: 100%|█████████▉| 680/681 [02:17<00:00,  5.89it/s, now=None]\u001b[A\n",
      "                                                              \u001b[A"
     ]
    },
    {
     "name": "stdout",
     "output_type": "stream",
     "text": [
      "540\n",
      "157\n",
      "861\n",
      "540\n",
      "171\n",
      "864\n"
     ]
    },
    {
     "name": "stderr",
     "output_type": "stream",
     "text": [
      "t:  39%|███▉      | 98/251 [16:31<00:24,  6.30it/s, now=None]"
     ]
    },
    {
     "name": "stdout",
     "output_type": "stream",
     "text": [
      "Moviepy - Done !\n",
      "Moviepy - video ready test_videos_output/solidYellowLeft.mp4\n",
      "Wall time: 2min 19s\n"
     ]
    },
    {
     "data": {
      "image/png": "[encoded data removed]",
      "text/plain": [
       "<Figure size 432x288 with 1 Axes>"
      ]
     },
     "metadata": {
      "needs_background": "light"
     },
     "output_type": "display_data"
    }
   ],
   "source": [
    "yellow_output = 'test_videos_output/solidYellowLeft.mp4'\n",
    "## To speed up the testing process you may want to try your pipeline on a shorter subclip of the video\n",
    "## To do so add .subclip(start_second,end_second) to the end of the line below\n",
    "## Where start_second and end_second are integer values representing the start and end of the subclip\n",
    "## You may also uncomment the following line for a subclip of the first 5 seconds\n",
    "##clip2 = VideoFileClip('test_videos/solidYellowLeft.mp4').subclip(0,5)\n",
    "clip2 = VideoFileClip('test_videos/solidYellowLeft.mp4')\n",
    "yellow_clip = clip2.fl_image(process_image)\n",
    "%time yellow_clip.write_videofile(yellow_output, audio=False)"
   ]
  },
  {
   "cell_type": "code",
   "execution_count": 17,
   "metadata": {},
   "outputs": [
    {
     "data": {
      "text/html": [
       "\n",
       "<video width=\"960\" height=\"540\" controls>\n",
       "  <source src=\"test_videos_output/solidYellowLeft.mp4\">\n",
       "</video>\n"
      ],
      "text/plain": [
       "<IPython.core.display.HTML object>"
      ]
     },
     "execution_count": 17,
     "metadata": {},
     "output_type": "execute_result"
    }
   ],
   "source": [
    "HTML(\"\"\"\n",
    "<video width=\"960\" height=\"540\" controls>\n",
    "  <source src=\"{0}\">\n",
    "</video>\n",
    "\"\"\".format(yellow_output))"
   ]
  },
  {
   "cell_type": "markdown",
   "metadata": {},
   "source": [
    "## Writeup and Submission\n",
    "\n",
    "If you're satisfied with your video outputs, it's time to make the report writeup in a pdf or markdown file. Once you have this Ipython notebook ready along with the writeup, it's time to submit for review! Here is a [link](https://github.com/udacity/CarND-LaneLines-P1/blob/master/writeup_template.md) to the writeup template file.\n"
   ]
  },
  {
   "cell_type": "markdown",
   "metadata": {
    "collapsed": true
   },
   "source": [
    "## Optional Challenge\n",
    "\n",
    "Try your lane finding pipeline on the video below.  Does it still work?  Can you figure out a way to make it more robust?  If you're up for the challenge, modify your pipeline so it works with this video and submit it along with the rest of your project!"
   ]
  },
  {
   "cell_type": "code",
   "execution_count": 10,
   "metadata": {},
   "outputs": [
    {
     "name": "stderr",
     "output_type": "stream",
     "text": [
      "t:  39%|███▉      | 98/251 [10:25<00:24,  6.30it/s, now=None]\n",
      "t:   0%|          | 0/251 [00:00<?, ?it/s, now=None]\u001b[A"
     ]
    },
    {
     "name": "stdout",
     "output_type": "stream",
     "text": [
      "720\n",
      "199\n",
      "1124\n",
      "Moviepy - Building video test_videos_output/challenge.mp4.\n",
      "Moviepy - Writing video test_videos_output/challenge.mp4\n",
      "\n",
      "720\n",
      "199\n",
      "1124\n"
     ]
    },
    {
     "name": "stderr",
     "output_type": "stream",
     "text": [
      "\n",
      "t:   1%|          | 2/251 [00:00<00:33,  7.38it/s, now=None]\u001b[A\n",
      "t:   1%|          | 3/251 [00:00<00:36,  6.86it/s, now=None]\u001b[A"
     ]
    },
    {
     "name": "stdout",
     "output_type": "stream",
     "text": [
      "720\n",
      "197\n",
      "1146\n",
      "720\n",
      "191\n",
      "1156\n"
     ]
    },
    {
     "name": "stderr",
     "output_type": "stream",
     "text": [
      "\n",
      "t:   2%|▏         | 4/251 [00:00<00:33,  7.29it/s, now=None]\u001b[A"
     ]
    },
    {
     "name": "stdout",
     "output_type": "stream",
     "text": [
      "720\n",
      "204\n",
      "1120\n"
     ]
    },
    {
     "name": "stderr",
     "output_type": "stream",
     "text": [
      "\n",
      "t:   2%|▏         | 5/251 [00:00<00:40,  6.03it/s, now=None]\u001b[A\n",
      "t:   2%|▏         | 6/251 [00:00<00:39,  6.23it/s, now=None]\u001b[A"
     ]
    },
    {
     "name": "stdout",
     "output_type": "stream",
     "text": [
      "720\n",
      "208\n",
      "1113\n",
      "720\n",
      "201\n",
      "1133\n"
     ]
    },
    {
     "name": "stderr",
     "output_type": "stream",
     "text": [
      "\n",
      "t:   3%|▎         | 7/251 [00:01<00:39,  6.18it/s, now=None]\u001b[A\n",
      "t:   3%|▎         | 8/251 [00:01<00:38,  6.25it/s, now=None]\u001b[A"
     ]
    },
    {
     "name": "stdout",
     "output_type": "stream",
     "text": [
      "720\n",
      "220\n",
      "1127\n",
      "720\n",
      "208\n",
      "1136\n"
     ]
    },
    {
     "name": "stderr",
     "output_type": "stream",
     "text": [
      "\n",
      "t:   4%|▎         | 9/251 [00:01<00:46,  5.25it/s, now=None]\u001b[A\n",
      "t:   4%|▍         | 10/251 [00:01<00:45,  5.33it/s, now=None]\u001b[A"
     ]
    },
    {
     "name": "stdout",
     "output_type": "stream",
     "text": [
      "720\n",
      "217\n",
      "1143\n",
      "720\n",
      "236\n",
      "1145\n"
     ]
    },
    {
     "name": "stderr",
     "output_type": "stream",
     "text": [
      "\n",
      "t:   4%|▍         | 11/251 [00:01<00:42,  5.66it/s, now=None]\u001b[A\n",
      "t:   5%|▍         | 12/251 [00:02<00:40,  5.92it/s, now=None]\u001b[A"
     ]
    },
    {
     "name": "stdout",
     "output_type": "stream",
     "text": [
      "720\n",
      "226\n",
      "1156\n",
      "720\n",
      "217\n",
      "1145\n"
     ]
    },
    {
     "name": "stderr",
     "output_type": "stream",
     "text": [
      "\n",
      "t:   5%|▌         | 13/251 [00:02<00:38,  6.24it/s, now=None]\u001b[A\n",
      "t:   6%|▌         | 14/251 [00:02<00:37,  6.33it/s, now=None]\u001b[A"
     ]
    },
    {
     "name": "stdout",
     "output_type": "stream",
     "text": [
      "720\n",
      "208\n",
      "1136\n",
      "720\n",
      "227\n",
      "1159\n"
     ]
    },
    {
     "name": "stderr",
     "output_type": "stream",
     "text": [
      "\n",
      "t:   6%|▌         | 15/251 [00:02<00:34,  6.92it/s, now=None]\u001b[A\n",
      "t:   6%|▋         | 16/251 [00:02<00:32,  7.23it/s, now=None]\u001b[A"
     ]
    },
    {
     "name": "stdout",
     "output_type": "stream",
     "text": [
      "720\n",
      "226\n",
      "1163\n",
      "720\n",
      "220\n",
      "1123\n"
     ]
    },
    {
     "name": "stderr",
     "output_type": "stream",
     "text": [
      "\n",
      "t:   7%|▋         | 17/251 [00:02<00:29,  7.85it/s, now=None]\u001b[A\n",
      "t:   7%|▋         | 18/251 [00:02<00:29,  7.78it/s, now=None]\u001b[A"
     ]
    },
    {
     "name": "stdout",
     "output_type": "stream",
     "text": [
      "720\n",
      "216\n",
      "1152\n",
      "720\n",
      "225\n",
      "1110\n"
     ]
    },
    {
     "name": "stderr",
     "output_type": "stream",
     "text": [
      "\n",
      "t:   8%|▊         | 19/251 [00:02<00:28,  8.18it/s, now=None]\u001b[A\n",
      "t:   8%|▊         | 20/251 [00:03<00:30,  7.62it/s, now=None]\u001b[A"
     ]
    },
    {
     "name": "stdout",
     "output_type": "stream",
     "text": [
      "720\n",
      "221\n",
      "1147\n"
     ]
    },
    {
     "name": "stderr",
     "output_type": "stream",
     "text": [
      "\n",
      "t:   8%|▊         | 21/251 [00:03<00:37,  6.17it/s, now=None]\u001b[A"
     ]
    },
    {
     "name": "stdout",
     "output_type": "stream",
     "text": [
      "720\n",
      "228\n",
      "1109\n",
      "720\n",
      "222\n",
      "1126\n"
     ]
    },
    {
     "name": "stderr",
     "output_type": "stream",
     "text": [
      "\n",
      "t:   9%|▉         | 22/251 [00:03<00:36,  6.33it/s, now=None]\u001b[A"
     ]
    },
    {
     "name": "stdout",
     "output_type": "stream",
     "text": [
      "720\n",
      "232\n",
      "1143\n"
     ]
    },
    {
     "name": "stderr",
     "output_type": "stream",
     "text": [
      "\n",
      "t:   9%|▉         | 23/251 [00:03<00:43,  5.30it/s, now=None]\u001b[A\n",
      "t:  10%|▉         | 24/251 [00:03<00:42,  5.31it/s, now=None]\u001b[A"
     ]
    },
    {
     "name": "stdout",
     "output_type": "stream",
     "text": [
      "720\n",
      "230\n",
      "1140\n",
      "720"
     ]
    },
    {
     "name": "stderr",
     "output_type": "stream",
     "text": [
      "\n",
      "t:  10%|▉         | 25/251 [00:04<00:40,  5.57it/s, now=None]\u001b[A"
     ]
    },
    {
     "name": "stdout",
     "output_type": "stream",
     "text": [
      "\n",
      "206\n",
      "1127\n",
      "720\n",
      "222\n",
      "1130\n"
     ]
    },
    {
     "name": "stderr",
     "output_type": "stream",
     "text": [
      "\n",
      "t:  10%|█         | 26/251 [00:04<00:36,  6.22it/s, now=None]\u001b[A\n",
      "t:  11%|█         | 27/251 [00:04<00:32,  6.84it/s, now=None]\u001b[A"
     ]
    },
    {
     "name": "stdout",
     "output_type": "stream",
     "text": [
      "720\n",
      "210\n",
      "1115\n",
      "720\n",
      "224\n",
      "1126\n"
     ]
    },
    {
     "name": "stderr",
     "output_type": "stream",
     "text": [
      "\n",
      "t:  11%|█         | 28/251 [00:06<03:20,  1.11it/s, now=None]\u001b[A\n",
      "t:  12%|█▏        | 29/251 [00:07<02:27,  1.51it/s, now=None]\u001b[A\n",
      "t:  12%|█▏        | 30/251 [00:07<01:49,  2.02it/s, now=None]\u001b[A"
     ]
    },
    {
     "name": "stdout",
     "output_type": "stream",
     "text": [
      "720\n",
      "210\n",
      "1094\n",
      "720\n",
      "213\n",
      "1108\n",
      "720"
     ]
    },
    {
     "name": "stderr",
     "output_type": "stream",
     "text": [
      "\n",
      "t:  12%|█▏        | 31/251 [00:07<01:23,  2.63it/s, now=None]\u001b[A"
     ]
    },
    {
     "name": "stdout",
     "output_type": "stream",
     "text": [
      "\n",
      "218\n",
      "1133\n",
      "720\n",
      "208\n",
      "1137\n"
     ]
    },
    {
     "name": "stderr",
     "output_type": "stream",
     "text": [
      "\n",
      "t:  13%|█▎        | 32/251 [00:07<01:05,  3.34it/s, now=None]\u001b[A\n",
      "t:  13%|█▎        | 33/251 [00:07<00:52,  4.11it/s, now=None]\u001b[A"
     ]
    },
    {
     "name": "stdout",
     "output_type": "stream",
     "text": [
      "720\n",
      "199\n",
      "1105\n",
      "720\n",
      "197\n",
      "1127\n",
      "720"
     ]
    },
    {
     "name": "stderr",
     "output_type": "stream",
     "text": [
      "\n",
      "t:  14%|█▍        | 35/251 [00:07<00:42,  5.06it/s, now=None]\u001b[A"
     ]
    },
    {
     "name": "stdout",
     "output_type": "stream",
     "text": [
      "\n",
      "207\n",
      "1130\n",
      "720\n",
      "220\n",
      "1145\n",
      "720"
     ]
    },
    {
     "name": "stderr",
     "output_type": "stream",
     "text": [
      "\n",
      "t:  15%|█▍        | 37/251 [00:07<00:36,  5.91it/s, now=None]\u001b[A"
     ]
    },
    {
     "name": "stdout",
     "output_type": "stream",
     "text": [
      "\n",
      "201\n",
      "1132\n",
      "720\n",
      "206\n",
      "1133\n"
     ]
    },
    {
     "name": "stderr",
     "output_type": "stream",
     "text": [
      "\n",
      "t:  15%|█▌        | 38/251 [00:07<00:32,  6.46it/s, now=None]\u001b[A\n",
      "t:  16%|█▌        | 39/251 [00:08<00:30,  7.00it/s, now=None]\u001b[A"
     ]
    },
    {
     "name": "stdout",
     "output_type": "stream",
     "text": [
      "720\n",
      "188\n",
      "1134\n",
      "720\n",
      "206\n",
      "1103\n"
     ]
    },
    {
     "name": "stderr",
     "output_type": "stream",
     "text": [
      "\n",
      "t:  16%|█▌        | 40/251 [00:08<00:29,  7.09it/s, now=None]\u001b[A\n",
      "t:  16%|█▋        | 41/251 [00:08<00:29,  7.23it/s, now=None]\u001b[A"
     ]
    },
    {
     "name": "stdout",
     "output_type": "stream",
     "text": [
      "720\n",
      "204\n",
      "1130\n",
      "720\n",
      "217\n",
      "1133\n"
     ]
    },
    {
     "name": "stderr",
     "output_type": "stream",
     "text": [
      "\n",
      "t:  17%|█▋        | 42/251 [00:08<00:28,  7.39it/s, now=None]\u001b[A\n",
      "t:  17%|█▋        | 43/251 [00:08<00:26,  7.71it/s, now=None]\u001b[A"
     ]
    },
    {
     "name": "stdout",
     "output_type": "stream",
     "text": [
      "720\n",
      "198\n",
      "1142\n",
      "720\n",
      "216\n",
      "1120\n"
     ]
    },
    {
     "name": "stderr",
     "output_type": "stream",
     "text": [
      "\n",
      "t:  18%|█▊        | 44/251 [00:08<00:25,  7.96it/s, now=None]\u001b[A\n",
      "t:  18%|█▊        | 45/251 [00:08<00:30,  6.74it/s, now=None]\u001b[A"
     ]
    },
    {
     "name": "stdout",
     "output_type": "stream",
     "text": [
      "720\n",
      "211\n",
      "1102\n"
     ]
    },
    {
     "name": "stderr",
     "output_type": "stream",
     "text": [
      "\n",
      "t:  18%|█▊        | 46/251 [00:09<00:34,  5.90it/s, now=None]\u001b[A"
     ]
    },
    {
     "name": "stdout",
     "output_type": "stream",
     "text": [
      "720\n",
      "199\n",
      "1130\n"
     ]
    },
    {
     "name": "stderr",
     "output_type": "stream",
     "text": [
      "\n",
      "t:  19%|█▊        | 47/251 [00:09<00:36,  5.63it/s, now=None]\u001b[A"
     ]
    },
    {
     "name": "stdout",
     "output_type": "stream",
     "text": [
      "720\n",
      "226\n",
      "1080\n",
      "720"
     ]
    },
    {
     "name": "stderr",
     "output_type": "stream",
     "text": [
      "\n",
      "t:  19%|█▉        | 48/251 [00:09<00:37,  5.37it/s, now=None]\u001b[A"
     ]
    },
    {
     "name": "stdout",
     "output_type": "stream",
     "text": [
      "\n",
      "204\n",
      "1120\n",
      "720"
     ]
    },
    {
     "name": "stderr",
     "output_type": "stream",
     "text": [
      "\n",
      "t:  20%|█▉        | 49/251 [00:09<00:34,  5.84it/s, now=None]\u001b[A"
     ]
    },
    {
     "name": "stdout",
     "output_type": "stream",
     "text": [
      "\n",
      "218\n",
      "1133\n",
      "720\n",
      "214\n",
      "1150\n"
     ]
    },
    {
     "name": "stderr",
     "output_type": "stream",
     "text": [
      "\n",
      "t:  20%|█▉        | 50/251 [00:09<00:35,  5.65it/s, now=None]\u001b[A\n",
      "t:  20%|██        | 51/251 [00:10<00:35,  5.59it/s, now=None]\u001b[A"
     ]
    },
    {
     "name": "stdout",
     "output_type": "stream",
     "text": [
      "720\n",
      "210\n",
      "1134\n",
      "720\n",
      "224\n",
      "1109\n"
     ]
    },
    {
     "name": "stderr",
     "output_type": "stream",
     "text": [
      "\n",
      "t:  21%|██        | 52/251 [00:10<00:32,  6.05it/s, now=None]\u001b[A"
     ]
    },
    {
     "name": "stdout",
     "output_type": "stream",
     "text": [
      "720\n",
      "198\n",
      "1089\n"
     ]
    },
    {
     "name": "stderr",
     "output_type": "stream",
     "text": [
      "\n",
      "t:  21%|██        | 53/251 [00:12<03:02,  1.09it/s, now=None]\u001b[A\n",
      "t:  22%|██▏       | 54/251 [00:13<02:18,  1.43it/s, now=None]\u001b[A"
     ]
    },
    {
     "name": "stdout",
     "output_type": "stream",
     "text": [
      "720\n",
      "230\n",
      "1111\n",
      "720\n",
      "204\n",
      "1104\n"
     ]
    },
    {
     "name": "stderr",
     "output_type": "stream",
     "text": [
      "\n",
      "t:  22%|██▏       | 55/251 [00:13<01:43,  1.89it/s, now=None]\u001b[A\n",
      "t:  22%|██▏       | 56/251 [00:13<01:19,  2.45it/s, now=None]\u001b[A"
     ]
    },
    {
     "name": "stdout",
     "output_type": "stream",
     "text": [
      "720\n",
      "203\n",
      "1119\n",
      "720\n",
      "219\n",
      "1118\n"
     ]
    },
    {
     "name": "stderr",
     "output_type": "stream",
     "text": [
      "\n",
      "t:  23%|██▎       | 57/251 [00:13<01:04,  3.01it/s, now=None]\u001b[A\n",
      "t:  23%|██▎       | 58/251 [00:13<00:54,  3.54it/s, now=None]\u001b[A"
     ]
    },
    {
     "name": "stdout",
     "output_type": "stream",
     "text": [
      "720\n",
      "210\n",
      "1089\n",
      "720\n",
      "222\n",
      "1124\n"
     ]
    },
    {
     "name": "stderr",
     "output_type": "stream",
     "text": [
      "\n",
      "t:  24%|██▎       | 59/251 [00:13<00:51,  3.73it/s, now=None]\u001b[A"
     ]
    },
    {
     "name": "stdout",
     "output_type": "stream",
     "text": [
      "720\n",
      "199\n",
      "1115\n"
     ]
    },
    {
     "name": "stderr",
     "output_type": "stream",
     "text": [
      "\n",
      "t:  24%|██▍       | 60/251 [00:14<00:57,  3.30it/s, now=None]\u001b[A\n",
      "t:  24%|██▍       | 61/251 [00:14<00:47,  3.99it/s, now=None]\u001b[A"
     ]
    },
    {
     "name": "stdout",
     "output_type": "stream",
     "text": [
      "720\n",
      "208\n",
      "1146\n",
      "720\n",
      "199\n",
      "1120\n"
     ]
    },
    {
     "name": "stderr",
     "output_type": "stream",
     "text": [
      "\n",
      "t:  25%|██▍       | 62/251 [00:14<00:40,  4.64it/s, now=None]\u001b[A\n",
      "t:  25%|██▌       | 63/251 [00:14<00:35,  5.26it/s, now=None]\u001b[A"
     ]
    },
    {
     "name": "stdout",
     "output_type": "stream",
     "text": [
      "720\n",
      "204\n",
      "1116\n",
      "720\n",
      "215\n",
      "1113\n"
     ]
    },
    {
     "name": "stderr",
     "output_type": "stream",
     "text": [
      "\n",
      "t:  25%|██▌       | 64/251 [00:14<00:36,  5.13it/s, now=None]\u001b[A\n",
      "t:  26%|██▌       | 65/251 [00:15<00:35,  5.24it/s, now=None]\u001b[A"
     ]
    },
    {
     "name": "stdout",
     "output_type": "stream",
     "text": [
      "720\n",
      "241\n",
      "1126\n",
      "720\n",
      "255\n",
      "1134\n"
     ]
    },
    {
     "name": "stderr",
     "output_type": "stream",
     "text": [
      "\n",
      "t:  26%|██▋       | 66/251 [00:15<00:32,  5.72it/s, now=None]\u001b[A\n",
      "t:  27%|██▋       | 67/251 [00:15<00:29,  6.23it/s, now=None]\u001b[A"
     ]
    },
    {
     "name": "stdout",
     "output_type": "stream",
     "text": [
      "720\n",
      "225\n",
      "1127\n",
      "720\n",
      "211\n",
      "1146\n"
     ]
    },
    {
     "name": "stderr",
     "output_type": "stream",
     "text": [
      "\n",
      "t:  27%|██▋       | 68/251 [00:15<00:28,  6.50it/s, now=None]\u001b[A\n",
      "t:  27%|██▋       | 69/251 [00:15<00:26,  6.98it/s, now=None]\u001b[A"
     ]
    },
    {
     "name": "stdout",
     "output_type": "stream",
     "text": [
      "720\n",
      "223\n",
      "1147\n",
      "720\n",
      "211\n",
      "1134\n"
     ]
    },
    {
     "name": "stderr",
     "output_type": "stream",
     "text": [
      "\n",
      "t:  28%|██▊       | 70/251 [00:17<01:38,  1.84it/s, now=None]\u001b[A\n",
      "t:  28%|██▊       | 71/251 [00:18<02:13,  1.35it/s, now=None]\u001b[A"
     ]
    },
    {
     "name": "stdout",
     "output_type": "stream",
     "text": [
      "720\n",
      "212\n",
      "1153\n",
      "720\n",
      "218\n",
      "1155\n"
     ]
    },
    {
     "name": "stderr",
     "output_type": "stream",
     "text": [
      "\n",
      "t:  29%|██▊       | 72/251 [00:18<01:39,  1.80it/s, now=None]\u001b[A\n",
      "t:  29%|██▉       | 73/251 [00:18<01:16,  2.33it/s, now=None]\u001b[A"
     ]
    },
    {
     "name": "stdout",
     "output_type": "stream",
     "text": [
      "720\n",
      "224\n",
      "1165\n",
      "720\n",
      "225\n",
      "1141\n"
     ]
    },
    {
     "name": "stderr",
     "output_type": "stream",
     "text": [
      "\n",
      "t:  29%|██▉       | 74/251 [00:18<01:00,  2.91it/s, now=None]\u001b[A\n",
      "t:  30%|██▉       | 75/251 [00:18<00:49,  3.53it/s, now=None]\u001b[A"
     ]
    },
    {
     "name": "stdout",
     "output_type": "stream",
     "text": [
      "720\n",
      "235\n",
      "1167\n",
      "720\n",
      "238\n",
      "1163\n"
     ]
    },
    {
     "name": "stderr",
     "output_type": "stream",
     "text": [
      "\n",
      "t:  30%|███       | 76/251 [00:18<00:41,  4.23it/s, now=None]\u001b[A\n",
      "t:  31%|███       | 77/251 [00:19<00:35,  4.87it/s, now=None]\u001b[A"
     ]
    },
    {
     "name": "stdout",
     "output_type": "stream",
     "text": [
      "720\n",
      "224\n",
      "1174\n",
      "720\n",
      "228\n",
      "1166\n"
     ]
    },
    {
     "name": "stderr",
     "output_type": "stream",
     "text": [
      "\n",
      "t:  31%|███       | 78/251 [00:19<00:32,  5.34it/s, now=None]\u001b[A\n",
      "t:  31%|███▏      | 79/251 [00:19<00:30,  5.73it/s, now=None]\u001b[A"
     ]
    },
    {
     "name": "stdout",
     "output_type": "stream",
     "text": [
      "720\n",
      "239\n",
      "1165\n",
      "720\n",
      "242\n",
      "1161\n"
     ]
    },
    {
     "name": "stderr",
     "output_type": "stream",
     "text": [
      "\n",
      "t:  32%|███▏      | 80/251 [00:19<00:28,  6.09it/s, now=None]\u001b[A\n",
      "t:  32%|███▏      | 81/251 [00:19<00:26,  6.36it/s, now=None]\u001b[A"
     ]
    },
    {
     "name": "stdout",
     "output_type": "stream",
     "text": [
      "720\n",
      "261\n",
      "1150\n",
      "720\n",
      "244\n",
      "1171\n"
     ]
    },
    {
     "name": "stderr",
     "output_type": "stream",
     "text": [
      "\n",
      "t:  33%|███▎      | 82/251 [00:19<00:29,  5.82it/s, now=None]\u001b[A\n",
      "t:  33%|███▎      | 83/251 [00:19<00:27,  6.03it/s, now=None]\u001b[A"
     ]
    },
    {
     "name": "stdout",
     "output_type": "stream",
     "text": [
      "720\n",
      "247\n",
      "1178\n",
      "720\n",
      "241\n",
      "1172\n"
     ]
    },
    {
     "name": "stderr",
     "output_type": "stream",
     "text": [
      "\n",
      "t:  33%|███▎      | 84/251 [00:20<00:25,  6.46it/s, now=None]\u001b[A\n",
      "t:  34%|███▍      | 85/251 [00:20<00:25,  6.50it/s, now=None]\u001b[A"
     ]
    },
    {
     "name": "stdout",
     "output_type": "stream",
     "text": [
      "720\n",
      "207\n",
      "1174\n",
      "720\n",
      "233\n",
      "1175\n"
     ]
    },
    {
     "name": "stderr",
     "output_type": "stream",
     "text": [
      "\n",
      "t:  34%|███▍      | 86/251 [00:20<00:24,  6.73it/s, now=None]\u001b[A\n",
      "t:  35%|███▍      | 87/251 [00:20<00:26,  6.07it/s, now=None]\u001b[A"
     ]
    },
    {
     "name": "stdout",
     "output_type": "stream",
     "text": [
      "720\n",
      "232\n",
      "1162\n",
      "720"
     ]
    },
    {
     "name": "stderr",
     "output_type": "stream",
     "text": [
      "\n",
      "t:  35%|███▌      | 88/251 [00:20<00:26,  6.08it/s, now=None]\u001b[A"
     ]
    },
    {
     "name": "stdout",
     "output_type": "stream",
     "text": [
      "\n",
      "263\n",
      "1150\n",
      "720\n",
      "275\n",
      "1170\n"
     ]
    },
    {
     "name": "stderr",
     "output_type": "stream",
     "text": [
      "\n",
      "t:  35%|███▌      | 89/251 [00:20<00:25,  6.41it/s, now=None]\u001b[A\n",
      "t:  36%|███▌      | 90/251 [00:21<00:25,  6.41it/s, now=None]\u001b[A"
     ]
    },
    {
     "name": "stdout",
     "output_type": "stream",
     "text": [
      "720\n",
      "273\n",
      "1164\n",
      "720\n",
      "263\n",
      "1172\n"
     ]
    },
    {
     "name": "stderr",
     "output_type": "stream",
     "text": [
      "\n",
      "t:  36%|███▋      | 91/251 [00:23<02:26,  1.09it/s, now=None]\u001b[A\n",
      "t:  37%|███▋      | 92/251 [00:23<01:49,  1.46it/s, now=None]\u001b[A"
     ]
    },
    {
     "name": "stdout",
     "output_type": "stream",
     "text": [
      "720\n",
      "255\n",
      "1176\n",
      "720\n",
      "235\n",
      "1184\n"
     ]
    },
    {
     "name": "stderr",
     "output_type": "stream",
     "text": [
      "\n",
      "t:  37%|███▋      | 93/251 [00:24<01:22,  1.91it/s, now=None]\u001b[A\n",
      "t:  37%|███▋      | 94/251 [00:24<01:04,  2.44it/s, now=None]\u001b[A"
     ]
    },
    {
     "name": "stdout",
     "output_type": "stream",
     "text": [
      "720\n",
      "276\n",
      "1177\n",
      "720\n",
      "278\n",
      "1181\n"
     ]
    },
    {
     "name": "stderr",
     "output_type": "stream",
     "text": [
      "\n",
      "t:  38%|███▊      | 95/251 [00:24<01:00,  2.59it/s, now=None]\u001b[A\n",
      "t:  38%|███▊      | 96/251 [00:24<00:52,  2.98it/s, now=None]\u001b[A"
     ]
    },
    {
     "name": "stdout",
     "output_type": "stream",
     "text": [
      "720\n",
      "271\n",
      "1178\n",
      "720"
     ]
    },
    {
     "name": "stderr",
     "output_type": "stream",
     "text": [
      "\n",
      "t:  39%|███▊      | 97/251 [00:24<00:46,  3.32it/s, now=None]\u001b[A"
     ]
    },
    {
     "name": "stdout",
     "output_type": "stream",
     "text": [
      "\n",
      "257\n",
      "1168\n",
      "720\n",
      "256\n",
      "1168\n"
     ]
    },
    {
     "name": "stderr",
     "output_type": "stream",
     "text": [
      "\n",
      "t:  39%|███▉      | 98/251 [00:25<00:49,  3.11it/s, now=None]\u001b[A"
     ]
    },
    {
     "name": "stdout",
     "output_type": "stream",
     "text": [
      "720\n",
      "277\n",
      "1022\n"
     ]
    },
    {
     "name": "stderr",
     "output_type": "stream",
     "text": [
      "\n",
      "t:  39%|███▉      | 99/251 [00:25<01:03,  2.40it/s, now=None]\u001b[A"
     ]
    },
    {
     "name": "stdout",
     "output_type": "stream",
     "text": [
      "720\n",
      "271\n",
      "1028\n"
     ]
    },
    {
     "name": "stderr",
     "output_type": "stream",
     "text": [
      "\n",
      "t:  40%|███▉      | 100/251 [00:26<01:03,  2.38it/s, now=None]\u001b[A"
     ]
    },
    {
     "name": "stdout",
     "output_type": "stream",
     "text": [
      "720\n",
      "270\n",
      "1029\n"
     ]
    },
    {
     "name": "stderr",
     "output_type": "stream",
     "text": [
      "\n",
      "t:  40%|████      | 101/251 [00:29<02:42,  1.08s/it, now=None]\u001b[A\n",
      "t:  41%|████      | 102/251 [00:29<01:59,  1.25it/s, now=None]\u001b[A"
     ]
    },
    {
     "name": "stdout",
     "output_type": "stream",
     "text": [
      "720\n",
      "274\n",
      "1162\n",
      "720\n",
      "265\n",
      "1178\n"
     ]
    },
    {
     "name": "stderr",
     "output_type": "stream",
     "text": [
      "\n",
      "t:  41%|████      | 103/251 [00:29<01:28,  1.68it/s, now=None]\u001b[A\n",
      "t:  41%|████▏     | 104/251 [00:29<01:07,  2.18it/s, now=None]\u001b[A"
     ]
    },
    {
     "name": "stdout",
     "output_type": "stream",
     "text": [
      "720\n",
      "255\n",
      "1182\n",
      "720\n",
      "252\n",
      "1169\n"
     ]
    },
    {
     "name": "stderr",
     "output_type": "stream",
     "text": [
      "\n",
      "t:  42%|████▏     | 105/251 [00:29<00:52,  2.77it/s, now=None]\u001b[A\n",
      "t:  42%|████▏     | 106/251 [00:29<00:43,  3.30it/s, now=None]\u001b[A"
     ]
    },
    {
     "name": "stdout",
     "output_type": "stream",
     "text": [
      "720\n",
      "253\n",
      "1169\n",
      "720\n",
      "260\n",
      "1156\n"
     ]
    },
    {
     "name": "stderr",
     "output_type": "stream",
     "text": [
      "\n",
      "t:  43%|████▎     | 107/251 [00:29<00:36,  3.97it/s, now=None]\u001b[A\n",
      "t:  43%|████▎     | 108/251 [00:29<00:31,  4.52it/s, now=None]\u001b[A"
     ]
    },
    {
     "name": "stdout",
     "output_type": "stream",
     "text": [
      "720\n",
      "170\n",
      "1129\n",
      "720\n",
      "195\n",
      "1055\n"
     ]
    },
    {
     "name": "stderr",
     "output_type": "stream",
     "text": [
      "\n",
      "t:  43%|████▎     | 109/251 [00:30<00:30,  4.70it/s, now=None]\u001b[A\n",
      "t:  44%|████▍     | 110/251 [00:30<00:27,  5.21it/s, now=None]\u001b[A"
     ]
    },
    {
     "name": "stdout",
     "output_type": "stream",
     "text": [
      "720\n",
      "167\n",
      "1132\n",
      "720\n",
      "238\n",
      "1114\n"
     ]
    },
    {
     "name": "stderr",
     "output_type": "stream",
     "text": [
      "\n",
      "t:  44%|████▍     | 111/251 [00:30<00:24,  5.60it/s, now=None]\u001b[A\n",
      "t:  45%|████▍     | 112/251 [00:30<00:24,  5.72it/s, now=None]\u001b[A"
     ]
    },
    {
     "name": "stdout",
     "output_type": "stream",
     "text": [
      "720\n",
      "232\n",
      "1096\n",
      "720\n",
      "207\n",
      "1116\n"
     ]
    },
    {
     "name": "stderr",
     "output_type": "stream",
     "text": [
      "\n",
      "t:  45%|████▌     | 113/251 [00:30<00:25,  5.46it/s, now=None]\u001b[A"
     ]
    },
    {
     "name": "stdout",
     "output_type": "stream",
     "text": [
      "720\n",
      "209\n",
      "1171\n"
     ]
    },
    {
     "name": "stderr",
     "output_type": "stream",
     "text": [
      "\n",
      "t:  45%|████▌     | 114/251 [00:31<00:27,  4.96it/s, now=None]\u001b[A\n",
      "t:  46%|████▌     | 115/251 [00:31<00:25,  5.43it/s, now=None]\u001b[A"
     ]
    },
    {
     "name": "stdout",
     "output_type": "stream",
     "text": [
      "720\n",
      "200\n",
      "1163\n",
      "720\n",
      "197\n",
      "1154\n"
     ]
    },
    {
     "name": "stderr",
     "output_type": "stream",
     "text": [
      "\n",
      "t:  46%|████▌     | 116/251 [00:31<00:25,  5.27it/s, now=None]\u001b[A\n",
      "t:  47%|████▋     | 117/251 [00:31<00:23,  5.59it/s, now=None]\u001b[A"
     ]
    },
    {
     "name": "stdout",
     "output_type": "stream",
     "text": [
      "720\n",
      "209\n",
      "1160\n",
      "720\n",
      "221\n",
      "1105\n"
     ]
    },
    {
     "name": "stderr",
     "output_type": "stream",
     "text": [
      "\n",
      "t:  47%|████▋     | 118/251 [00:31<00:23,  5.59it/s, now=None]\u001b[A\n",
      "t:  47%|████▋     | 119/251 [00:31<00:21,  6.09it/s, now=None]\u001b[A"
     ]
    },
    {
     "name": "stdout",
     "output_type": "stream",
     "text": [
      "720\n",
      "202\n",
      "1170\n",
      "720\n",
      "209\n",
      "1148\n"
     ]
    },
    {
     "name": "stderr",
     "output_type": "stream",
     "text": [
      "\n",
      "t:  48%|████▊     | 120/251 [00:34<01:55,  1.13it/s, now=None]\u001b[A\n",
      "t:  48%|████▊     | 121/251 [00:34<01:26,  1.51it/s, now=None]\u001b[A"
     ]
    },
    {
     "name": "stdout",
     "output_type": "stream",
     "text": [
      "720\n",
      "189\n",
      "1154\n",
      "720\n",
      "100\n",
      "1163\n"
     ]
    },
    {
     "name": "stderr",
     "output_type": "stream",
     "text": [
      "\n",
      "t:  49%|████▊     | 122/251 [00:34<01:13,  1.74it/s, now=None]\u001b[A\n",
      "t:  49%|████▉     | 123/251 [00:35<00:56,  2.27it/s, now=None]\u001b[A"
     ]
    },
    {
     "name": "stdout",
     "output_type": "stream",
     "text": [
      "720\n",
      "154\n",
      "1145\n",
      "720\n",
      "160\n",
      "1139\n"
     ]
    },
    {
     "name": "stderr",
     "output_type": "stream",
     "text": [
      "\n",
      "t:  49%|████▉     | 124/251 [00:35<00:44,  2.84it/s, now=None]\u001b[A\n",
      "t:  50%|████▉     | 125/251 [00:35<00:36,  3.44it/s, now=None]\u001b[A"
     ]
    },
    {
     "name": "stdout",
     "output_type": "stream",
     "text": [
      "720\n",
      "179\n",
      "1136\n",
      "720\n",
      "198\n",
      "1065\n"
     ]
    },
    {
     "name": "stderr",
     "output_type": "stream",
     "text": [
      "\n",
      "t:  50%|█████     | 126/251 [00:35<00:31,  3.94it/s, now=None]\u001b[A"
     ]
    },
    {
     "name": "stdout",
     "output_type": "stream",
     "text": [
      "720\n",
      "206\n",
      "1093\n"
     ]
    },
    {
     "name": "stderr",
     "output_type": "stream",
     "text": [
      "\n",
      "t:  51%|█████     | 127/251 [00:35<00:32,  3.78it/s, now=None]\u001b[A\n",
      "t:  51%|█████     | 128/251 [00:36<00:29,  4.24it/s, now=None]\u001b[A"
     ]
    },
    {
     "name": "stdout",
     "output_type": "stream",
     "text": [
      "720\n",
      "164\n",
      "1106\n",
      "720\n",
      "172\n",
      "1127\n"
     ]
    },
    {
     "name": "stderr",
     "output_type": "stream",
     "text": [
      "\n",
      "t:  51%|█████▏    | 129/251 [00:36<00:25,  4.78it/s, now=None]\u001b[A\n",
      "t:  52%|█████▏    | 130/251 [00:36<00:24,  4.91it/s, now=None]\u001b[A"
     ]
    },
    {
     "name": "stdout",
     "output_type": "stream",
     "text": [
      "720\n",
      "169\n",
      "1130\n",
      "720\n",
      "204\n",
      "1123\n"
     ]
    },
    {
     "name": "stderr",
     "output_type": "stream",
     "text": [
      "\n",
      "t:  52%|█████▏    | 131/251 [00:36<00:22,  5.31it/s, now=None]\u001b[A\n",
      "t:  53%|█████▎    | 132/251 [00:36<00:20,  5.81it/s, now=None]\u001b[A"
     ]
    },
    {
     "name": "stdout",
     "output_type": "stream",
     "text": [
      "720\n",
      "191\n",
      "1132\n",
      "720\n",
      "191\n",
      "1135\n"
     ]
    },
    {
     "name": "stderr",
     "output_type": "stream",
     "text": [
      "\n",
      "t:  53%|█████▎    | 133/251 [00:36<00:20,  5.88it/s, now=None]\u001b[A"
     ]
    },
    {
     "name": "stdout",
     "output_type": "stream",
     "text": [
      "720\n",
      "181\n",
      "1137\n"
     ]
    },
    {
     "name": "stderr",
     "output_type": "stream",
     "text": [
      "\n",
      "t:  53%|█████▎    | 134/251 [00:37<00:25,  4.67it/s, now=None]\u001b[A\n",
      "t:  54%|█████▍    | 135/251 [00:37<00:22,  5.15it/s, now=None]\u001b[A"
     ]
    },
    {
     "name": "stdout",
     "output_type": "stream",
     "text": [
      "720\n",
      "182\n",
      "1149\n",
      "720\n",
      "176\n",
      "1146\n"
     ]
    },
    {
     "name": "stderr",
     "output_type": "stream",
     "text": [
      "\n",
      "t:  54%|█████▍    | 136/251 [00:39<01:44,  1.10it/s, now=None]\u001b[A\n",
      "t:  55%|█████▍    | 137/251 [00:40<01:19,  1.43it/s, now=None]\u001b[A"
     ]
    },
    {
     "name": "stdout",
     "output_type": "stream",
     "text": [
      "720\n",
      "181\n",
      "1151\n",
      "720"
     ]
    },
    {
     "name": "stderr",
     "output_type": "stream",
     "text": [
      "\n",
      "t:  55%|█████▍    | 138/251 [00:40<01:01,  1.83it/s, now=None]\u001b[A"
     ]
    },
    {
     "name": "stdout",
     "output_type": "stream",
     "text": [
      "\n",
      "184\n",
      "1115\n",
      "720"
     ]
    },
    {
     "name": "stderr",
     "output_type": "stream",
     "text": [
      "\n",
      "t:  55%|█████▌    | 139/251 [00:40<00:47,  2.34it/s, now=None]\u001b[A"
     ]
    },
    {
     "name": "stdout",
     "output_type": "stream",
     "text": [
      "\n",
      "180\n",
      "1137\n",
      "720\n",
      "183\n",
      "1126\n"
     ]
    },
    {
     "name": "stderr",
     "output_type": "stream",
     "text": [
      "\n",
      "t:  56%|█████▌    | 140/251 [00:40<00:38,  2.92it/s, now=None]\u001b[A\n",
      "t:  56%|█████▌    | 141/251 [00:40<00:31,  3.47it/s, now=None]\u001b[A"
     ]
    },
    {
     "name": "stdout",
     "output_type": "stream",
     "text": [
      "720\n",
      "183\n",
      "1119\n",
      "720\n",
      "182\n",
      "1135\n"
     ]
    },
    {
     "name": "stderr",
     "output_type": "stream",
     "text": [
      "\n",
      "t:  57%|█████▋    | 142/251 [00:40<00:28,  3.86it/s, now=None]\u001b[A\n",
      "t:  57%|█████▋    | 143/251 [00:41<00:24,  4.41it/s, now=None]\u001b[A"
     ]
    },
    {
     "name": "stdout",
     "output_type": "stream",
     "text": [
      "720\n",
      "125\n",
      "1128\n",
      "720\n",
      "160\n",
      "1139\n"
     ]
    },
    {
     "name": "stderr",
     "output_type": "stream",
     "text": [
      "\n",
      "t:  57%|█████▋    | 144/251 [00:41<00:22,  4.83it/s, now=None]\u001b[A\n",
      "t:  58%|█████▊    | 145/251 [00:41<00:19,  5.36it/s, now=None]\u001b[A"
     ]
    },
    {
     "name": "stdout",
     "output_type": "stream",
     "text": [
      "720\n",
      "161\n",
      "1143\n",
      "720\n",
      "136\n",
      "1140\n"
     ]
    },
    {
     "name": "stderr",
     "output_type": "stream",
     "text": [
      "\n",
      "t:  58%|█████▊    | 146/251 [00:41<00:18,  5.73it/s, now=None]\u001b[A\n",
      "t:  59%|█████▊    | 147/251 [00:41<00:17,  6.09it/s, now=None]\u001b[A"
     ]
    },
    {
     "name": "stdout",
     "output_type": "stream",
     "text": [
      "720\n",
      "164\n",
      "1142\n",
      "720\n",
      "154\n",
      "1143\n"
     ]
    },
    {
     "name": "stderr",
     "output_type": "stream",
     "text": [
      "\n",
      "t:  59%|█████▉    | 148/251 [00:41<00:16,  6.25it/s, now=None]\u001b[A\n",
      "t:  59%|█████▉    | 149/251 [00:41<00:16,  6.31it/s, now=None]\u001b[A"
     ]
    },
    {
     "name": "stdout",
     "output_type": "stream",
     "text": [
      "720\n",
      "167\n",
      "1122\n",
      "720\n",
      "160\n",
      "1144\n"
     ]
    },
    {
     "name": "stderr",
     "output_type": "stream",
     "text": [
      "\n",
      "t:  60%|█████▉    | 150/251 [00:42<00:21,  4.75it/s, now=None]\u001b[A\n",
      "t:  60%|██████    | 151/251 [00:42<00:18,  5.38it/s, now=None]\u001b[A"
     ]
    },
    {
     "name": "stdout",
     "output_type": "stream",
     "text": [
      "720\n",
      "171\n",
      "1095\n",
      "720\n",
      "160\n",
      "1124\n"
     ]
    },
    {
     "name": "stderr",
     "output_type": "stream",
     "text": [
      "\n",
      "t:  61%|██████    | 152/251 [00:42<00:16,  6.01it/s, now=None]\u001b[A\n",
      "t:  61%|██████    | 153/251 [00:42<00:15,  6.47it/s, now=None]\u001b[A"
     ]
    },
    {
     "name": "stdout",
     "output_type": "stream",
     "text": [
      "720\n",
      "175\n",
      "1098\n",
      "720\n",
      "173\n",
      "1123\n"
     ]
    },
    {
     "name": "stderr",
     "output_type": "stream",
     "text": [
      "\n",
      "t:  61%|██████▏   | 154/251 [00:42<00:14,  6.80it/s, now=None]\u001b[A"
     ]
    },
    {
     "name": "stdout",
     "output_type": "stream",
     "text": [
      "720\n",
      "175\n",
      "1111\n"
     ]
    },
    {
     "name": "stderr",
     "output_type": "stream",
     "text": [
      "\n",
      "t:  62%|██████▏   | 155/251 [00:45<01:28,  1.08it/s, now=None]\u001b[A\n",
      "t:  62%|██████▏   | 156/251 [00:45<01:06,  1.42it/s, now=None]\u001b[A"
     ]
    },
    {
     "name": "stdout",
     "output_type": "stream",
     "text": [
      "720\n",
      "168\n",
      "1116\n",
      "720\n",
      "175\n",
      "1097\n"
     ]
    },
    {
     "name": "stderr",
     "output_type": "stream",
     "text": [
      "\n",
      "t:  63%|██████▎   | 157/251 [00:45<00:50,  1.86it/s, now=None]\u001b[A\n",
      "t:  63%|██████▎   | 158/251 [00:46<00:39,  2.35it/s, now=None]\u001b[A"
     ]
    },
    {
     "name": "stdout",
     "output_type": "stream",
     "text": [
      "720\n",
      "180\n",
      "1131\n",
      "720\n",
      "163\n",
      "1076\n"
     ]
    },
    {
     "name": "stderr",
     "output_type": "stream",
     "text": [
      "\n",
      "t:  63%|██████▎   | 159/251 [00:46<00:32,  2.84it/s, now=None]\u001b[A\n",
      "t:  64%|██████▎   | 160/251 [00:46<00:28,  3.25it/s, now=None]\u001b[A"
     ]
    },
    {
     "name": "stdout",
     "output_type": "stream",
     "text": [
      "720\n",
      "161\n",
      "1075\n",
      "720"
     ]
    },
    {
     "name": "stderr",
     "output_type": "stream",
     "text": [
      "\n",
      "t:  64%|██████▍   | 161/251 [00:46<00:23,  3.83it/s, now=None]\u001b[A"
     ]
    },
    {
     "name": "stdout",
     "output_type": "stream",
     "text": [
      "\n",
      "149\n",
      "1088\n",
      "720\n",
      "162\n",
      "1106\n"
     ]
    },
    {
     "name": "stderr",
     "output_type": "stream",
     "text": [
      "\n",
      "t:  65%|██████▍   | 162/251 [00:46<00:20,  4.44it/s, now=None]\u001b[A\n",
      "t:  65%|██████▍   | 163/251 [00:46<00:17,  5.04it/s, now=None]\u001b[A"
     ]
    },
    {
     "name": "stdout",
     "output_type": "stream",
     "text": [
      "720\n",
      "158\n",
      "1112\n",
      "720\n",
      "139\n",
      "1109\n"
     ]
    },
    {
     "name": "stderr",
     "output_type": "stream",
     "text": [
      "\n",
      "t:  65%|██████▌   | 164/251 [00:47<00:17,  5.03it/s, now=None]\u001b[A\n",
      "t:  66%|██████▌   | 165/251 [00:47<00:16,  5.20it/s, now=None]\u001b[A"
     ]
    },
    {
     "name": "stdout",
     "output_type": "stream",
     "text": [
      "720\n",
      "153\n",
      "1107\n",
      "720\n",
      "165\n",
      "1121\n"
     ]
    },
    {
     "name": "stderr",
     "output_type": "stream",
     "text": [
      "\n",
      "t:  66%|██████▌   | 166/251 [00:47<00:17,  4.77it/s, now=None]\u001b[A\n",
      "t:  67%|██████▋   | 167/251 [00:47<00:15,  5.33it/s, now=None]\u001b[A"
     ]
    },
    {
     "name": "stdout",
     "output_type": "stream",
     "text": [
      "720\n",
      "160\n",
      "1114\n",
      "720\n",
      "170\n",
      "1114\n"
     ]
    },
    {
     "name": "stderr",
     "output_type": "stream",
     "text": [
      "\n",
      "t:  67%|██████▋   | 168/251 [00:47<00:17,  4.88it/s, now=None]\u001b[A"
     ]
    },
    {
     "name": "stdout",
     "output_type": "stream",
     "text": [
      "720\n",
      "168\n",
      "1112\n"
     ]
    },
    {
     "name": "stderr",
     "output_type": "stream",
     "text": [
      "\n",
      "t:  67%|██████▋   | 169/251 [00:50<01:12,  1.13it/s, now=None]\u001b[A\n",
      "t:  68%|██████▊   | 170/251 [00:50<01:03,  1.28it/s, now=None]\u001b[A"
     ]
    },
    {
     "name": "stdout",
     "output_type": "stream",
     "text": [
      "720\n",
      "169\n",
      "1096\n",
      "720"
     ]
    },
    {
     "name": "stderr",
     "output_type": "stream",
     "text": [
      "\n",
      "t:  68%|██████▊   | 171/251 [00:50<00:47,  1.69it/s, now=None]\u001b[A"
     ]
    },
    {
     "name": "stdout",
     "output_type": "stream",
     "text": [
      "\n",
      "193\n",
      "1108\n",
      "720\n",
      "192\n",
      "1101\n"
     ]
    },
    {
     "name": "stderr",
     "output_type": "stream",
     "text": [
      "\n",
      "t:  69%|██████▊   | 172/251 [00:51<00:35,  2.21it/s, now=None]\u001b[A\n",
      "t:  69%|██████▉   | 173/251 [00:51<00:28,  2.78it/s, now=None]\u001b[A"
     ]
    },
    {
     "name": "stdout",
     "output_type": "stream",
     "text": [
      "720\n",
      "197\n",
      "1143\n",
      "720\n",
      "188\n",
      "1114\n"
     ]
    },
    {
     "name": "stderr",
     "output_type": "stream",
     "text": [
      "\n",
      "t:  69%|██████▉   | 174/251 [00:51<00:22,  3.38it/s, now=None]\u001b[A\n",
      "t:  70%|██████▉   | 175/251 [00:51<00:18,  4.04it/s, now=None]\u001b[A"
     ]
    },
    {
     "name": "stdout",
     "output_type": "stream",
     "text": [
      "720\n",
      "211\n",
      "1132\n",
      "720\n",
      "193\n",
      "1119\n"
     ]
    },
    {
     "name": "stderr",
     "output_type": "stream",
     "text": [
      "\n",
      "t:  70%|███████   | 176/251 [00:51<00:16,  4.65it/s, now=None]\u001b[A\n",
      "t:  71%|███████   | 177/251 [00:51<00:14,  5.09it/s, now=None]\u001b[A"
     ]
    },
    {
     "name": "stdout",
     "output_type": "stream",
     "text": [
      "720\n",
      "208\n",
      "1144\n",
      "720\n",
      "182\n",
      "1144\n"
     ]
    },
    {
     "name": "stderr",
     "output_type": "stream",
     "text": [
      "\n",
      "t:  71%|███████   | 178/251 [00:52<00:13,  5.38it/s, now=None]\u001b[A\n",
      "t:  71%|███████▏  | 179/251 [00:52<00:12,  5.57it/s, now=None]\u001b[A"
     ]
    },
    {
     "name": "stdout",
     "output_type": "stream",
     "text": [
      "720\n",
      "180\n",
      "1152\n"
     ]
    },
    {
     "name": "stderr",
     "output_type": "stream",
     "text": [
      "\n",
      "t:  72%|███████▏  | 180/251 [00:52<00:13,  5.13it/s, now=None]\u001b[A"
     ]
    },
    {
     "name": "stdout",
     "output_type": "stream",
     "text": [
      "720\n",
      "199\n",
      "1120\n",
      "720\n",
      "203\n",
      "1137\n"
     ]
    },
    {
     "name": "stderr",
     "output_type": "stream",
     "text": [
      "\n",
      "t:  72%|███████▏  | 181/251 [00:52<00:12,  5.66it/s, now=None]\u001b[A\n",
      "t:  73%|███████▎  | 182/251 [00:52<00:12,  5.63it/s, now=None]\u001b[A"
     ]
    },
    {
     "name": "stdout",
     "output_type": "stream",
     "text": [
      "720\n",
      "212\n",
      "1107\n",
      "720\n",
      "208\n",
      "1141\n"
     ]
    },
    {
     "name": "stderr",
     "output_type": "stream",
     "text": [
      "\n",
      "t:  73%|███████▎  | 183/251 [00:52<00:11,  6.13it/s, now=None]\u001b[A\n",
      "t:  73%|███████▎  | 184/251 [00:52<00:10,  6.58it/s, now=None]\u001b[A"
     ]
    },
    {
     "name": "stdout",
     "output_type": "stream",
     "text": [
      "720\n",
      "210\n",
      "1137\n",
      "720\n",
      "223\n",
      "1147\n"
     ]
    },
    {
     "name": "stderr",
     "output_type": "stream",
     "text": [
      "\n",
      "t:  74%|███████▎  | 185/251 [00:53<00:09,  6.75it/s, now=None]\u001b[A"
     ]
    },
    {
     "name": "stdout",
     "output_type": "stream",
     "text": [
      "720\n",
      "219\n",
      "1141\n"
     ]
    },
    {
     "name": "stderr",
     "output_type": "stream",
     "text": [
      "\n",
      "t:  74%|███████▍  | 186/251 [00:56<01:06,  1.02s/it, now=None]\u001b[A\n",
      "t:  75%|███████▍  | 187/251 [00:56<00:49,  1.30it/s, now=None]\u001b[A"
     ]
    },
    {
     "name": "stdout",
     "output_type": "stream",
     "text": [
      "720\n",
      "245\n",
      "1146\n",
      "720\n",
      "221\n",
      "1130\n"
     ]
    },
    {
     "name": "stderr",
     "output_type": "stream",
     "text": [
      "\n",
      "t:  75%|███████▍  | 188/251 [00:56<00:36,  1.72it/s, now=None]\u001b[A\n",
      "t:  75%|███████▌  | 189/251 [00:56<00:27,  2.26it/s, now=None]\u001b[A"
     ]
    },
    {
     "name": "stdout",
     "output_type": "stream",
     "text": [
      "720\n",
      "232\n",
      "1145\n",
      "720\n",
      "213\n",
      "1158\n"
     ]
    },
    {
     "name": "stderr",
     "output_type": "stream",
     "text": [
      "\n",
      "t:  76%|███████▌  | 190/251 [00:56<00:23,  2.57it/s, now=None]\u001b[A\n",
      "t:  76%|███████▌  | 191/251 [00:57<00:18,  3.18it/s, now=None]\u001b[A"
     ]
    },
    {
     "name": "stdout",
     "output_type": "stream",
     "text": [
      "720\n",
      "240\n",
      "1142\n",
      "720\n",
      "220\n",
      "1141\n"
     ]
    },
    {
     "name": "stderr",
     "output_type": "stream",
     "text": [
      "\n",
      "t:  76%|███████▋  | 192/251 [00:57<00:15,  3.77it/s, now=None]\u001b[A\n",
      "t:  77%|███████▋  | 193/251 [00:57<00:12,  4.50it/s, now=None]\u001b[A"
     ]
    },
    {
     "name": "stdout",
     "output_type": "stream",
     "text": [
      "720\n",
      "220\n",
      "1166\n",
      "720\n",
      "227\n",
      "1150\n"
     ]
    },
    {
     "name": "stderr",
     "output_type": "stream",
     "text": [
      "\n",
      "t:  77%|███████▋  | 194/251 [00:57<00:11,  5.06it/s, now=None]\u001b[A\n",
      "t:  78%|███████▊  | 195/251 [00:57<00:09,  5.72it/s, now=None]\u001b[A"
     ]
    },
    {
     "name": "stdout",
     "output_type": "stream",
     "text": [
      "720\n",
      "220\n",
      "1126\n",
      "720\n",
      "220\n",
      "1133\n"
     ]
    },
    {
     "name": "stderr",
     "output_type": "stream",
     "text": [
      "\n",
      "t:  78%|███████▊  | 196/251 [00:57<00:08,  6.12it/s, now=None]\u001b[A\n",
      "t:  78%|███████▊  | 197/251 [00:57<00:08,  6.49it/s, now=None]\u001b[A"
     ]
    },
    {
     "name": "stdout",
     "output_type": "stream",
     "text": [
      "720\n",
      "228\n",
      "1165\n",
      "720\n",
      "225\n",
      "1157\n"
     ]
    },
    {
     "name": "stderr",
     "output_type": "stream",
     "text": [
      "\n",
      "t:  79%|███████▉  | 198/251 [00:58<00:09,  5.47it/s, now=None]\u001b[A\n",
      "t:  79%|███████▉  | 199/251 [00:58<00:08,  5.99it/s, now=None]\u001b[A"
     ]
    },
    {
     "name": "stdout",
     "output_type": "stream",
     "text": [
      "720\n",
      "213\n",
      "1163\n",
      "720\n",
      "236\n",
      "1144\n"
     ]
    },
    {
     "name": "stderr",
     "output_type": "stream",
     "text": [
      "\n",
      "t:  80%|███████▉  | 200/251 [00:58<00:08,  6.34it/s, now=None]\u001b[A\n",
      "t:  80%|████████  | 201/251 [00:58<00:07,  6.59it/s, now=None]\u001b[A"
     ]
    },
    {
     "name": "stdout",
     "output_type": "stream",
     "text": [
      "720\n",
      "233\n",
      "1173\n",
      "720\n",
      "229\n",
      "1146\n"
     ]
    },
    {
     "name": "stderr",
     "output_type": "stream",
     "text": [
      "\n",
      "t:  80%|████████  | 202/251 [00:58<00:07,  6.77it/s, now=None]\u001b[A\n",
      "t:  81%|████████  | 203/251 [00:58<00:06,  7.13it/s, now=None]\u001b[A"
     ]
    },
    {
     "name": "stdout",
     "output_type": "stream",
     "text": [
      "720\n",
      "233\n",
      "1121\n",
      "720\n",
      "228\n",
      "1147\n"
     ]
    },
    {
     "name": "stderr",
     "output_type": "stream",
     "text": [
      "\n",
      "t:  81%|████████▏ | 204/251 [00:58<00:06,  7.01it/s, now=None]\u001b[A"
     ]
    },
    {
     "name": "stdout",
     "output_type": "stream",
     "text": [
      "720\n",
      "211\n",
      "1168\n"
     ]
    },
    {
     "name": "stderr",
     "output_type": "stream",
     "text": [
      "\n",
      "t:  82%|████████▏ | 205/251 [01:01<00:37,  1.24it/s, now=None]\u001b[A\n",
      "t:  82%|████████▏ | 206/251 [01:02<00:38,  1.17it/s, now=None]\u001b[A"
     ]
    },
    {
     "name": "stdout",
     "output_type": "stream",
     "text": [
      "720\n",
      "228\n",
      "1134\n",
      "720\n",
      "250\n",
      "1119\n"
     ]
    },
    {
     "name": "stderr",
     "output_type": "stream",
     "text": [
      "\n",
      "t:  82%|████████▏ | 207/251 [01:02<00:27,  1.57it/s, now=None]\u001b[A\n",
      "t:  83%|████████▎ | 208/251 [01:02<00:20,  2.07it/s, now=None]\u001b[A"
     ]
    },
    {
     "name": "stdout",
     "output_type": "stream",
     "text": [
      "720\n",
      "255\n",
      "1157\n",
      "720\n",
      "241\n",
      "1154\n"
     ]
    },
    {
     "name": "stderr",
     "output_type": "stream",
     "text": [
      "\n",
      "t:  83%|████████▎ | 209/251 [01:02<00:15,  2.64it/s, now=None]\u001b[A\n",
      "t:  84%|████████▎ | 210/251 [01:02<00:12,  3.31it/s, now=None]\u001b[A"
     ]
    },
    {
     "name": "stdout",
     "output_type": "stream",
     "text": [
      "720\n",
      "242\n",
      "1147\n",
      "720\n",
      "245\n",
      "1138\n"
     ]
    },
    {
     "name": "stderr",
     "output_type": "stream",
     "text": [
      "\n",
      "t:  84%|████████▍ | 211/251 [01:02<00:10,  3.92it/s, now=None]\u001b[A"
     ]
    },
    {
     "name": "stdout",
     "output_type": "stream",
     "text": [
      "720\n",
      "226\n",
      "1160\n"
     ]
    },
    {
     "name": "stderr",
     "output_type": "stream",
     "text": [
      "\n",
      "t:  84%|████████▍ | 212/251 [01:03<00:11,  3.45it/s, now=None]\u001b[A\n",
      "t:  85%|████████▍ | 213/251 [01:03<00:09,  4.19it/s, now=None]\u001b[A"
     ]
    },
    {
     "name": "stdout",
     "output_type": "stream",
     "text": [
      "720\n",
      "234\n",
      "1162\n",
      "720\n",
      "243\n",
      "1183\n"
     ]
    },
    {
     "name": "stderr",
     "output_type": "stream",
     "text": [
      "\n",
      "t:  85%|████████▌ | 214/251 [01:03<00:07,  4.89it/s, now=None]\u001b[A\n",
      "t:  86%|████████▌ | 215/251 [01:03<00:06,  5.62it/s, now=None]\u001b[A"
     ]
    },
    {
     "name": "stdout",
     "output_type": "stream",
     "text": [
      "720\n",
      "248\n",
      "1176\n",
      "720\n",
      "245\n",
      "1175\n"
     ]
    },
    {
     "name": "stderr",
     "output_type": "stream",
     "text": [
      "\n",
      "t:  86%|████████▌ | 216/251 [01:03<00:05,  5.91it/s, now=None]\u001b[A\n",
      "t:  86%|████████▋ | 217/251 [01:03<00:05,  6.31it/s, now=None]\u001b[A"
     ]
    },
    {
     "name": "stdout",
     "output_type": "stream",
     "text": [
      "720\n",
      "246\n",
      "1184\n",
      "720\n",
      "256\n",
      "1162\n"
     ]
    },
    {
     "name": "stderr",
     "output_type": "stream",
     "text": [
      "\n",
      "t:  87%|████████▋ | 218/251 [01:03<00:04,  6.73it/s, now=None]\u001b[A\n",
      "t:  87%|████████▋ | 219/251 [01:04<00:04,  6.68it/s, now=None]\u001b[A"
     ]
    },
    {
     "name": "stdout",
     "output_type": "stream",
     "text": [
      "720\n",
      "254\n",
      "1174\n",
      "720\n",
      "236\n",
      "1184\n"
     ]
    },
    {
     "name": "stderr",
     "output_type": "stream",
     "text": [
      "\n",
      "t:  88%|████████▊ | 220/251 [01:04<00:05,  6.01it/s, now=None]\u001b[A\n",
      "t:  88%|████████▊ | 221/251 [01:04<00:04,  6.19it/s, now=None]\u001b[A"
     ]
    },
    {
     "name": "stdout",
     "output_type": "stream",
     "text": [
      "720\n",
      "231\n",
      "1174\n",
      "720\n",
      "253\n",
      "1163\n"
     ]
    },
    {
     "name": "stderr",
     "output_type": "stream",
     "text": [
      "\n",
      "t:  88%|████████▊ | 222/251 [01:07<00:29,  1.02s/it, now=None]\u001b[A\n",
      "t:  89%|████████▉ | 223/251 [01:07<00:21,  1.32it/s, now=None]\u001b[A"
     ]
    },
    {
     "name": "stdout",
     "output_type": "stream",
     "text": [
      "720\n",
      "239\n",
      "1176\n",
      "720\n",
      "256\n",
      "1154\n"
     ]
    },
    {
     "name": "stderr",
     "output_type": "stream",
     "text": [
      "\n",
      "t:  89%|████████▉ | 224/251 [01:07<00:15,  1.74it/s, now=None]\u001b[A\n",
      "t:  90%|████████▉ | 225/251 [01:07<00:11,  2.21it/s, now=None]\u001b[A"
     ]
    },
    {
     "name": "stdout",
     "output_type": "stream",
     "text": [
      "720\n",
      "240\n",
      "1148\n",
      "720\n",
      "236\n",
      "1176\n"
     ]
    },
    {
     "name": "stderr",
     "output_type": "stream",
     "text": [
      "\n",
      "t:  90%|█████████ | 226/251 [01:08<00:08,  2.79it/s, now=None]\u001b[A\n",
      "t:  90%|█████████ | 227/251 [01:08<00:06,  3.47it/s, now=None]\u001b[A"
     ]
    },
    {
     "name": "stdout",
     "output_type": "stream",
     "text": [
      "720\n",
      "258\n",
      "1166\n",
      "720\n",
      "263\n",
      "1138\n"
     ]
    },
    {
     "name": "stderr",
     "output_type": "stream",
     "text": [
      "\n",
      "t:  91%|█████████ | 228/251 [01:08<00:05,  4.00it/s, now=None]\u001b[A\n",
      "t:  91%|█████████ | 229/251 [01:08<00:04,  4.58it/s, now=None]\u001b[A"
     ]
    },
    {
     "name": "stdout",
     "output_type": "stream",
     "text": [
      "720\n",
      "257\n",
      "1118\n",
      "720\n",
      "252\n",
      "1115\n"
     ]
    },
    {
     "name": "stderr",
     "output_type": "stream",
     "text": [
      "\n",
      "t:  92%|█████████▏| 230/251 [01:08<00:03,  5.25it/s, now=None]\u001b[A\n",
      "t:  92%|█████████▏| 231/251 [01:08<00:03,  5.82it/s, now=None]\u001b[A"
     ]
    },
    {
     "name": "stdout",
     "output_type": "stream",
     "text": [
      "720\n",
      "265\n",
      "1151\n",
      "720\n",
      "260\n",
      "1162\n"
     ]
    },
    {
     "name": "stderr",
     "output_type": "stream",
     "text": [
      "\n",
      "t:  92%|█████████▏| 232/251 [01:08<00:03,  6.22it/s, now=None]\u001b[A\n",
      "t:  93%|█████████▎| 233/251 [01:09<00:02,  6.48it/s, now=None]\u001b[A"
     ]
    },
    {
     "name": "stdout",
     "output_type": "stream",
     "text": [
      "720\n",
      "264\n",
      "1100\n",
      "720\n",
      "245\n",
      "1147\n"
     ]
    },
    {
     "name": "stderr",
     "output_type": "stream",
     "text": [
      "\n",
      "t:  93%|█████████▎| 234/251 [01:09<00:02,  5.80it/s, now=None]\u001b[A\n",
      "t:  94%|█████████▎| 235/251 [01:09<00:02,  6.09it/s, now=None]\u001b[A"
     ]
    },
    {
     "name": "stdout",
     "output_type": "stream",
     "text": [
      "720\n",
      "271\n",
      "1165\n",
      "720\n",
      "251\n",
      "1156\n"
     ]
    },
    {
     "name": "stderr",
     "output_type": "stream",
     "text": [
      "\n",
      "t:  94%|█████████▍| 236/251 [01:09<00:02,  6.30it/s, now=None]\u001b[A\n",
      "t:  94%|█████████▍| 237/251 [01:09<00:02,  6.63it/s, now=None]\u001b[A"
     ]
    },
    {
     "name": "stdout",
     "output_type": "stream",
     "text": [
      "720\n",
      "214\n",
      "1163\n",
      "720\n",
      "231\n",
      "1160\n"
     ]
    },
    {
     "name": "stderr",
     "output_type": "stream",
     "text": [
      "\n",
      "t:  95%|█████████▍| 238/251 [01:09<00:01,  6.93it/s, now=None]\u001b[A\n",
      "t:  95%|█████████▌| 239/251 [01:09<00:01,  7.03it/s, now=None]\u001b[A"
     ]
    },
    {
     "name": "stdout",
     "output_type": "stream",
     "text": [
      "720\n",
      "225\n",
      "1160\n",
      "720\n",
      "260\n",
      "1139\n"
     ]
    },
    {
     "name": "stderr",
     "output_type": "stream",
     "text": [
      "\n",
      "t:  96%|█████████▌| 240/251 [01:10<00:01,  7.05it/s, now=None]\u001b[A\n",
      "t:  96%|█████████▌| 241/251 [01:10<00:01,  7.29it/s, now=None]\u001b[A"
     ]
    },
    {
     "name": "stdout",
     "output_type": "stream",
     "text": [
      "720\n",
      "225\n",
      "1159\n",
      "720\n",
      "244\n",
      "1159\n"
     ]
    },
    {
     "name": "stderr",
     "output_type": "stream",
     "text": [
      "\n",
      "t:  96%|█████████▋| 242/251 [01:10<00:01,  7.20it/s, now=None]\u001b[A"
     ]
    },
    {
     "name": "stdout",
     "output_type": "stream",
     "text": [
      "720\n",
      "244\n",
      "1130\n"
     ]
    },
    {
     "name": "stderr",
     "output_type": "stream",
     "text": [
      "\n",
      "t:  97%|█████████▋| 243/251 [01:13<00:08,  1.03s/it, now=None]\u001b[A\n",
      "t:  97%|█████████▋| 244/251 [01:13<00:05,  1.30it/s, now=None]\u001b[A"
     ]
    },
    {
     "name": "stdout",
     "output_type": "stream",
     "text": [
      "720\n",
      "244\n",
      "1160\n",
      "720\n",
      "222\n",
      "1164\n"
     ]
    },
    {
     "name": "stderr",
     "output_type": "stream",
     "text": [
      "\n",
      "t:  98%|█████████▊| 245/251 [01:13<00:03,  1.63it/s, now=None]\u001b[A\n",
      "t:  98%|█████████▊| 246/251 [01:14<00:02,  2.14it/s, now=None]\u001b[A"
     ]
    },
    {
     "name": "stdout",
     "output_type": "stream",
     "text": [
      "720\n",
      "233\n",
      "1149\n",
      "720\n",
      "242\n",
      "1158\n"
     ]
    },
    {
     "name": "stderr",
     "output_type": "stream",
     "text": [
      "\n",
      "t:  98%|█████████▊| 247/251 [01:14<00:01,  2.68it/s, now=None]\u001b[A\n",
      "t:  99%|█████████▉| 248/251 [01:14<00:00,  3.34it/s, now=None]\u001b[A"
     ]
    },
    {
     "name": "stdout",
     "output_type": "stream",
     "text": [
      "720\n",
      "242\n",
      "1151\n",
      "720\n",
      "224\n",
      "1160\n"
     ]
    },
    {
     "name": "stderr",
     "output_type": "stream",
     "text": [
      "\n",
      "t:  99%|█████████▉| 249/251 [01:14<00:00,  3.93it/s, now=None]\u001b[A\n",
      "t: 100%|█████████▉| 250/251 [01:14<00:00,  4.56it/s, now=None]\u001b[A"
     ]
    },
    {
     "name": "stdout",
     "output_type": "stream",
     "text": [
      "720\n",
      "239\n",
      "1160\n",
      "720\n",
      "241\n",
      "1156\n"
     ]
    },
    {
     "name": "stderr",
     "output_type": "stream",
     "text": [
      "\n",
      "t: 100%|██████████| 251/251 [01:14<00:00,  5.13it/s, now=None]\u001b[A\n",
      "                                                              \u001b[A"
     ]
    },
    {
     "name": "stdout",
     "output_type": "stream",
     "text": [
      "720\n",
      "250\n",
      "1138\n"
     ]
    },
    {
     "name": "stderr",
     "output_type": "stream",
     "text": [
      "t:  39%|███▉      | 98/251 [11:45<00:24,  6.30it/s, now=None]"
     ]
    },
    {
     "name": "stdout",
     "output_type": "stream",
     "text": [
      "Moviepy - Done !\n",
      "Moviepy - video ready test_videos_output/challenge.mp4\n",
      "Wall time: 1min 20s\n"
     ]
    },
    {
     "data": {
      "image/png": "[encoded data removed]",
      "text/plain": [
       "<Figure size 432x288 with 1 Axes>"
      ]
     },
     "metadata": {
      "needs_background": "light"
     },
     "output_type": "display_data"
    }
   ],
   "source": [
    "challenge_output = 'test_videos_output/challenge.mp4'\n",
    "## To speed up the testing process you may want to try your pipeline on a shorter subclip of the video\n",
    "## To do so add .subclip(start_second,end_second) to the end of the line below\n",
    "## Where start_second and end_second are integer values representing the start and end of the subclip\n",
    "## You may also uncomment the following line for a subclip of the first 5 seconds\n",
    "##clip3 = VideoFileClip('test_videos/challenge.mp4').subclip(9,10)\n",
    "clip3 = VideoFileClip('test_videos/challenge.mp4')\n",
    "challenge_clip = clip3.fl_image(process_image)\n",
    "%time challenge_clip.write_videofile(challenge_output, audio=False)"
   ]
  },
  {
   "cell_type": "code",
   "execution_count": 11,
   "metadata": {},
   "outputs": [
    {
     "data": {
      "text/html": [
       "\n",
       "<video width=\"960\" height=\"540\" controls>\n",
       "  <source src=\"test_videos_output/challenge.mp4\">\n",
       "</video>\n"
      ],
      "text/plain": [
       "<IPython.core.display.HTML object>"
      ]
     },
     "execution_count": 11,
     "metadata": {},
     "output_type": "execute_result"
    }
   ],
   "source": [
    "HTML(\"\"\"\n",
    "<video width=\"960\" height=\"540\" controls>\n",
    "  <source src=\"{0}\">\n",
    "</video>\n",
    "\"\"\".format(challenge_output))"
   ]
  }
 ],
 "metadata": {
  "anaconda-cloud": {},
  "kernelspec": {
   "display_name": "Python 3",
   "language": "python",
   "name": "python3"
  },
  "language_info": {
   "codemirror_mode": {
    "name": "ipython",
    "version": 3
   },
   "file_extension": ".py",
   "mimetype": "text/x-python",
   "name": "python",
   "nbconvert_exporter": "python",
   "pygments_lexer": "ipython3",
   "version": "3.8.3"
  }
 },
 "nbformat": 4,
 "nbformat_minor": 1
}
